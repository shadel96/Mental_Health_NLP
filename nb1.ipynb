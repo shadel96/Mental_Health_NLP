{
 "cells": [
  {
   "cell_type": "markdown",
   "id": "29606f3c-f63d-4504-85d3-675d48233166",
   "metadata": {},
   "source": [
    "# Capstone"
   ]
  },
  {
   "cell_type": "markdown",
   "id": "5987351f-3b08-487f-a1f5-3cc8d0949440",
   "metadata": {
    "tags": []
   },
   "source": [
    "### Introduction etc etc"
   ]
  },
  {
   "cell_type": "markdown",
   "id": "c15bf877-2bae-4fc9-86b4-ea29b7c7c9e1",
   "metadata": {},
   "source": [
    "***\n",
    "***"
   ]
  },
  {
   "cell_type": "markdown",
   "id": "8f715733-0685-4747-917c-71f5e8cae490",
   "metadata": {},
   "source": [
    "# Imports, Loading Data"
   ]
  },
  {
   "cell_type": "code",
   "execution_count": 1,
   "id": "db98d5bc-8147-4d7c-8e15-d46a4da22136",
   "metadata": {},
   "outputs": [],
   "source": [
    "#imports\n",
    "import os\n",
    "import matplotlib.pyplot as plt\n",
    "%matplotlib inline\n",
    "import numpy as np\n",
    "import pandas as pd\n",
    "import datetime\n",
    "import re\n",
    "import string\n",
    "import seaborn as sns\n",
    "import nltk\n",
    "from nltk import word_tokenize, FreqDist\n",
    "from nltk.corpus import stopwords\n",
    "from nltk.stem.wordnet import WordNetLemmatizer\n",
    "\n",
    "from sklearn.model_selection import train_test_split, GridSearchCV\n",
    "from sklearn.metrics import accuracy_score, precision_score, recall_score, f1_score, confusion_matrix, classification_report\n",
    "\n",
    "#models:\n",
    "from sklearn.ensemble import RandomForestClassifier\n",
    "from sklearn.tree import DecisionTreeClassifier\n",
    "from sklearn.naive_bayes import GaussianNB, MultinomialNB\n",
    "from sklearn.svm import SVC\n",
    "from sklearn.linear_model import LogisticRegression\n",
    "\n",
    "from sklearn.pipeline import Pipeline\n",
    "from sklearn.model_selection import cross_val_score\n",
    "\n",
    "import tensorflow as tf\n",
    "from keras.optimizers import SGD\n",
    "from tensorflow.keras import preprocessing\n",
    "from keras.layers import Input, Dense, LSTM, Embedding\n",
    "from keras.layers import Dropout, Activation, Bidirectional, GlobalMaxPool1D\n",
    "from keras.models import Sequential\n",
    "from keras import initializers, regularizers, constraints, optimizers, layers\n",
    "from keras.preprocessing import text, sequence\n",
    "\n",
    "from sklearn.feature_extraction.text import TfidfVectorizer, CountVectorizer\n",
    "\n",
    "#seed for reproducible results\n",
    "np.random.seed(42)\n",
    "tf.random.set_seed(42)"
   ]
  },
  {
   "cell_type": "markdown",
   "id": "e5496364-beeb-422e-9b5a-774886f1f906",
   "metadata": {},
   "source": [
    "##### explain datset in detail"
   ]
  },
  {
   "cell_type": "code",
   "execution_count": 2,
   "id": "5c68b7b9-19e7-4167-8395-43dca0223218",
   "metadata": {},
   "outputs": [],
   "source": [
    "data_dir_depression = './data/depression_dataset_reddit_cleaned.csv'\n",
    "\n",
    "depression_df = pd.read_csv(data_dir_depression)"
   ]
  },
  {
   "cell_type": "code",
   "execution_count": null,
   "id": "558ca8ac-ea71-4256-b85b-52c1f0e22a0d",
   "metadata": {},
   "outputs": [],
   "source": []
  },
  {
   "cell_type": "markdown",
   "id": "3cc84781-e6fa-499f-9196-bb7e7bbde3ba",
   "metadata": {},
   "source": [
    "# EDA and Preprocessing"
   ]
  },
  {
   "cell_type": "markdown",
   "id": "3c9190a1-e099-416f-b7dd-9ee1b0c1772b",
   "metadata": {
    "tags": []
   },
   "source": [
    "## Exploratory Data Analysis"
   ]
  },
  {
   "cell_type": "code",
   "execution_count": 3,
   "id": "637512be-8df0-48f8-b728-00b884e6be81",
   "metadata": {},
   "outputs": [
    {
     "name": "stdout",
     "output_type": "stream",
     "text": [
      "<class 'pandas.core.frame.DataFrame'>\n",
      "RangeIndex: 7731 entries, 0 to 7730\n",
      "Data columns (total 2 columns):\n",
      " #   Column         Non-Null Count  Dtype \n",
      "---  ------         --------------  ----- \n",
      " 0   clean_text     7731 non-null   object\n",
      " 1   is_depression  7731 non-null   int64 \n",
      "dtypes: int64(1), object(1)\n",
      "memory usage: 120.9+ KB\n"
     ]
    }
   ],
   "source": [
    "#change to df for ease of use\n",
    "df = depression_df\n",
    "df.info()"
   ]
  },
  {
   "cell_type": "code",
   "execution_count": 4,
   "id": "7ec09336-a62e-40ec-bb85-e5e29846da76",
   "metadata": {},
   "outputs": [
    {
     "data": {
      "text/html": [
       "<div>\n",
       "<style scoped>\n",
       "    .dataframe tbody tr th:only-of-type {\n",
       "        vertical-align: middle;\n",
       "    }\n",
       "\n",
       "    .dataframe tbody tr th {\n",
       "        vertical-align: top;\n",
       "    }\n",
       "\n",
       "    .dataframe thead th {\n",
       "        text-align: right;\n",
       "    }\n",
       "</style>\n",
       "<table border=\"1\" class=\"dataframe\">\n",
       "  <thead>\n",
       "    <tr style=\"text-align: right;\">\n",
       "      <th></th>\n",
       "      <th>clean_text</th>\n",
       "      <th>is_depression</th>\n",
       "    </tr>\n",
       "  </thead>\n",
       "  <tbody>\n",
       "    <tr>\n",
       "      <th>0</th>\n",
       "      <td>we understand that most people who reply immed...</td>\n",
       "      <td>1</td>\n",
       "    </tr>\n",
       "    <tr>\n",
       "      <th>1</th>\n",
       "      <td>welcome to r depression s check in post a plac...</td>\n",
       "      <td>1</td>\n",
       "    </tr>\n",
       "    <tr>\n",
       "      <th>2</th>\n",
       "      <td>anyone else instead of sleeping more when depr...</td>\n",
       "      <td>1</td>\n",
       "    </tr>\n",
       "    <tr>\n",
       "      <th>3</th>\n",
       "      <td>i ve kind of stuffed around a lot in my life d...</td>\n",
       "      <td>1</td>\n",
       "    </tr>\n",
       "    <tr>\n",
       "      <th>4</th>\n",
       "      <td>sleep is my greatest and most comforting escap...</td>\n",
       "      <td>1</td>\n",
       "    </tr>\n",
       "  </tbody>\n",
       "</table>\n",
       "</div>"
      ],
      "text/plain": [
       "                                          clean_text  is_depression\n",
       "0  we understand that most people who reply immed...              1\n",
       "1  welcome to r depression s check in post a plac...              1\n",
       "2  anyone else instead of sleeping more when depr...              1\n",
       "3  i ve kind of stuffed around a lot in my life d...              1\n",
       "4  sleep is my greatest and most comforting escap...              1"
      ]
     },
     "execution_count": 4,
     "metadata": {},
     "output_type": "execute_result"
    }
   ],
   "source": [
    "df.head()"
   ]
  },
  {
   "cell_type": "code",
   "execution_count": 5,
   "id": "a156f7f3-bb84-41c2-9d22-2ea956774297",
   "metadata": {},
   "outputs": [
    {
     "data": {
      "text/plain": [
       "clean_text       0\n",
       "is_depression    0\n",
       "dtype: int64"
      ]
     },
     "execution_count": 5,
     "metadata": {},
     "output_type": "execute_result"
    }
   ],
   "source": [
    "df.isna().sum()"
   ]
  },
  {
   "cell_type": "code",
   "execution_count": 6,
   "id": "88bbb06c-fa6a-4e56-a1b0-840583c9021e",
   "metadata": {},
   "outputs": [
    {
     "data": {
      "text/plain": [
       "0    3900\n",
       "1    3831\n",
       "Name: is_depression, dtype: int64"
      ]
     },
     "execution_count": 6,
     "metadata": {},
     "output_type": "execute_result"
    }
   ],
   "source": [
    "df['is_depression'].value_counts()"
   ]
  },
  {
   "cell_type": "markdown",
   "id": "fc483548-4f71-4609-9dac-7e6bbbc980fb",
   "metadata": {},
   "source": [
    "##### ______ discuss balance_____________________"
   ]
  },
  {
   "cell_type": "code",
   "execution_count": null,
   "id": "c60f562c-cffa-40fd-a810-527ace4d67f7",
   "metadata": {},
   "outputs": [],
   "source": []
  },
  {
   "cell_type": "code",
   "execution_count": 7,
   "id": "9a06cbaf-5597-493b-ad15-4a9e2b1609db",
   "metadata": {},
   "outputs": [],
   "source": [
    "# SHOW VISUALIZATION"
   ]
  },
  {
   "cell_type": "code",
   "execution_count": null,
   "id": "5729ec7d-801f-4d3d-a830-8802d6c80aa5",
   "metadata": {},
   "outputs": [],
   "source": []
  },
  {
   "cell_type": "code",
   "execution_count": null,
   "id": "ed0e86f9-2538-42c9-8260-98314f35c45c",
   "metadata": {},
   "outputs": [],
   "source": []
  },
  {
   "cell_type": "code",
   "execution_count": 8,
   "id": "740a9d39-3424-41c5-8c93-ede7109e7984",
   "metadata": {},
   "outputs": [
    {
     "data": {
      "text/plain": [
       "True    7731\n",
       "Name: islowercase, dtype: int64"
      ]
     },
     "execution_count": 8,
     "metadata": {},
     "output_type": "execute_result"
    }
   ],
   "source": [
    "df['islowercase'] = list(map(lambda x: x.islower(), df['clean_text']))\n",
    "df['islowercase'].value_counts()"
   ]
  },
  {
   "cell_type": "markdown",
   "id": "4cf5ebb4-3f18-4c3b-ab3b-d15afad6ce64",
   "metadata": {},
   "source": [
    "## Preprocessing Data\n",
    "\n",
    "Explain __________________________________________________________________________________________\n",
    "\n",
    "will create variations of columns to be able to experiment with different options (with/without stopwords, etc)"
   ]
  },
  {
   "cell_type": "markdown",
   "id": "a5d1c407-14c0-4585-8984-1a6c5102da68",
   "metadata": {
    "tags": []
   },
   "source": [
    "### Lowercase Text"
   ]
  },
  {
   "cell_type": "markdown",
   "id": "506c9bf0-9ac4-4002-942d-2d524f8349dd",
   "metadata": {},
   "source": [
    "In this case, the text data from the downloaded dataset is already lowercase, so we do not need to take this step!"
   ]
  },
  {
   "cell_type": "code",
   "execution_count": 9,
   "id": "e2b700e0-62b7-43f4-81cf-bc5d3516a3a7",
   "metadata": {},
   "outputs": [],
   "source": [
    "# df['lower_text'] = df['clean_text'].apply(lambda x: \" \".join(x.lower() for x in x.split()))\n",
    "\n",
    "# df['lower_text'].head()"
   ]
  },
  {
   "cell_type": "code",
   "execution_count": null,
   "id": "a7df5320-76a7-4d2e-97a7-f6825b30e4de",
   "metadata": {},
   "outputs": [],
   "source": []
  },
  {
   "cell_type": "code",
   "execution_count": null,
   "id": "f58eb588-8d4a-42a8-920e-f9695d42c592",
   "metadata": {},
   "outputs": [],
   "source": []
  },
  {
   "cell_type": "markdown",
   "id": "09322531-412c-4da5-9e3f-619993014f51",
   "metadata": {
    "tags": []
   },
   "source": [
    "### Tokenize\n",
    "Explain __________________________________________________________________________________________"
   ]
  },
  {
   "cell_type": "code",
   "execution_count": 10,
   "id": "08386529-bccf-4aa9-ae5a-6b49037ab51c",
   "metadata": {},
   "outputs": [],
   "source": [
    "def tokenize_data(data):\n",
    "    \n",
    "    #(this regex code keeps words with apostrophes as single tokens)\n",
    "    pattern = \"([a-zA-Z]+(?:'[a-z]+)?)\"\n",
    "    \n",
    "    #create tokens\n",
    "    tokens = nltk.regexp_tokenize(data, pattern)\n",
    "    return [word for word in tokens]"
   ]
  },
  {
   "cell_type": "code",
   "execution_count": 11,
   "id": "e0eb6a84-f225-470d-a4ba-202c57aa1e18",
   "metadata": {},
   "outputs": [
    {
     "data": {
      "text/plain": [
       "0    [we, understand, that, most, people, who, repl...\n",
       "1    [welcome, to, r, depression, s, check, in, pos...\n",
       "2    [anyone, else, instead, of, sleeping, more, wh...\n",
       "3    [i, ve, kind, of, stuffed, around, a, lot, in,...\n",
       "4    [sleep, is, my, greatest, and, most, comfortin...\n",
       "Name: tokenized, dtype: object"
      ]
     },
     "execution_count": 11,
     "metadata": {},
     "output_type": "execute_result"
    }
   ],
   "source": [
    "df['tokenized'] = df.apply(lambda x: tokenize_data(x['clean_text']), axis=1)\n",
    "df['tokenized'].head()"
   ]
  },
  {
   "cell_type": "markdown",
   "id": "6f04abf2-cad3-42b7-8684-977692faaf4d",
   "metadata": {
    "tags": []
   },
   "source": [
    "### Stopwords\n",
    "Explain __________________________________________________________________________________________"
   ]
  },
  {
   "cell_type": "code",
   "execution_count": 12,
   "id": "800df6b0-1384-44f8-be88-bd53fa7add4c",
   "metadata": {},
   "outputs": [
    {
     "data": {
      "text/plain": [
       "[('i', 40411),\n",
       " ('to', 17965),\n",
       " ('and', 16326),\n",
       " ('a', 12638),\n",
       " ('the', 11932),\n",
       " ('my', 11430),\n",
       " ('it', 9976),\n",
       " ('of', 7738),\n",
       " ('t', 7698),\n",
       " ('me', 6941),\n",
       " ('that', 6506),\n",
       " ('in', 6088),\n",
       " ('m', 5758),\n",
       " ('but', 5427),\n",
       " ('is', 5324),\n",
       " ('for', 5196),\n",
       " ('have', 5007),\n",
       " ('this', 4557),\n",
       " ('just', 4527),\n",
       " ('so', 4337),\n",
       " ('s', 4073),\n",
       " ('with', 3869),\n",
       " ('wa', 3810),\n",
       " ('like', 3584),\n",
       " ('not', 3275),\n",
       " ('feel', 3227),\n",
       " ('can', 3217),\n",
       " ('be', 3158),\n",
       " ('on', 3075),\n",
       " ('don', 3029)]"
      ]
     },
     "execution_count": 12,
     "metadata": {},
     "output_type": "execute_result"
    }
   ],
   "source": [
    "#show top FreqDist of Tokenized Column\n",
    "FreqDist(sum(df['tokenized'], [])).most_common(30)"
   ]
  },
  {
   "cell_type": "code",
   "execution_count": null,
   "id": "7823441b-47d6-4c9c-a79e-148540e8e289",
   "metadata": {},
   "outputs": [],
   "source": []
  },
  {
   "cell_type": "code",
   "execution_count": null,
   "id": "e56bd99f-5895-46d8-ae10-cbfa2d410a52",
   "metadata": {},
   "outputs": [],
   "source": []
  },
  {
   "cell_type": "code",
   "execution_count": null,
   "id": "dcc82b85-d472-44b0-9d2c-28a7b78cdffd",
   "metadata": {},
   "outputs": [],
   "source": []
  },
  {
   "cell_type": "code",
   "execution_count": 13,
   "id": "aa384166-9b50-4fd9-a407-cca02f15cbf0",
   "metadata": {},
   "outputs": [
    {
     "name": "stdout",
     "output_type": "stream",
     "text": [
      "['i', 'me', 'my', 'myself', 'we', 'our', 'ours', 'ourselves', 'you', \"you're\", \"you've\", \"you'll\", \"you'd\", 'your', 'yours', 'yourself', 'yourselves', 'he', 'him', 'his', 'himself', 'she', \"she's\", 'her', 'hers', 'herself', 'it', \"it's\", 'its', 'itself', 'they', 'them', 'their', 'theirs', 'themselves', 'what', 'which', 'who', 'whom', 'this', 'that', \"that'll\", 'these', 'those', 'am', 'is', 'are', 'was', 'were', 'be', 'been', 'being', 'have', 'has', 'had', 'having', 'do', 'does', 'did', 'doing', 'a', 'an', 'the', 'and', 'but', 'if', 'or', 'because', 'as', 'until', 'while', 'of', 'at', 'by', 'for', 'with', 'about', 'against', 'between', 'into', 'through', 'during', 'before', 'after', 'above', 'below', 'to', 'from', 'up', 'down', 'in', 'out', 'on', 'off', 'over', 'under', 'again', 'further', 'then', 'once', 'here', 'there', 'when', 'where', 'why', 'how', 'all', 'any', 'both', 'each', 'few', 'more', 'most', 'other', 'some', 'such', 'no', 'nor', 'not', 'only', 'own', 'same', 'so', 'than', 'too', 'very', 's', 't', 'can', 'will', 'just', 'don', \"don't\", 'should', \"should've\", 'now', 'd', 'll', 'm', 'o', 're', 've', 'y', 'ain', 'aren', \"aren't\", 'couldn', \"couldn't\", 'didn', \"didn't\", 'doesn', \"doesn't\", 'hadn', \"hadn't\", 'hasn', \"hasn't\", 'haven', \"haven't\", 'isn', \"isn't\", 'ma', 'mightn', \"mightn't\", 'mustn', \"mustn't\", 'needn', \"needn't\", 'shan', \"shan't\", 'shouldn', \"shouldn't\", 'wasn', \"wasn't\", 'weren', \"weren't\", 'won', \"won't\", 'wouldn', \"wouldn't\", ',', '.', \"'\", '?', '!', '(', ')']\n"
     ]
    }
   ],
   "source": [
    "stops = stopwords.words('english')\n",
    "\n",
    "#add punctuation\n",
    "for symbol in \",.'?!()\":\n",
    "    stops += symbol\n",
    "\n",
    "    #show example of stopwords list\n",
    "print(stops)"
   ]
  },
  {
   "cell_type": "code",
   "execution_count": null,
   "id": "1fe0272a-05ba-4fd4-8be2-8f555fefd2bb",
   "metadata": {},
   "outputs": [],
   "source": []
  },
  {
   "cell_type": "code",
   "execution_count": 14,
   "id": "90fdc8d2-abcc-4b53-9550-3dc9e62d8f76",
   "metadata": {},
   "outputs": [],
   "source": [
    "def tokenize_remove_stops(data):\n",
    "    pattern = \"([a-zA-Z]+(?:'[a-z]+)?)\"\n",
    "    tokens = nltk.regexp_tokenize(data, pattern)\n",
    "    return [word for word in tokens if word not in stops]"
   ]
  },
  {
   "cell_type": "code",
   "execution_count": 15,
   "id": "77589e97-a457-4957-b5f1-84c6006c1e6d",
   "metadata": {},
   "outputs": [
    {
     "data": {
      "text/html": [
       "<div>\n",
       "<style scoped>\n",
       "    .dataframe tbody tr th:only-of-type {\n",
       "        vertical-align: middle;\n",
       "    }\n",
       "\n",
       "    .dataframe tbody tr th {\n",
       "        vertical-align: top;\n",
       "    }\n",
       "\n",
       "    .dataframe thead th {\n",
       "        text-align: right;\n",
       "    }\n",
       "</style>\n",
       "<table border=\"1\" class=\"dataframe\">\n",
       "  <thead>\n",
       "    <tr style=\"text-align: right;\">\n",
       "      <th></th>\n",
       "      <th>tokenized</th>\n",
       "      <th>tokenized_no_stops</th>\n",
       "    </tr>\n",
       "  </thead>\n",
       "  <tbody>\n",
       "    <tr>\n",
       "      <th>0</th>\n",
       "      <td>[we, understand, that, most, people, who, repl...</td>\n",
       "      <td>[understand, people, reply, immediately, op, i...</td>\n",
       "    </tr>\n",
       "    <tr>\n",
       "      <th>1</th>\n",
       "      <td>[welcome, to, r, depression, s, check, in, pos...</td>\n",
       "      <td>[welcome, r, depression, check, post, place, t...</td>\n",
       "    </tr>\n",
       "    <tr>\n",
       "      <th>2</th>\n",
       "      <td>[anyone, else, instead, of, sleeping, more, wh...</td>\n",
       "      <td>[anyone, else, instead, sleeping, depressed, s...</td>\n",
       "    </tr>\n",
       "    <tr>\n",
       "      <th>3</th>\n",
       "      <td>[i, ve, kind, of, stuffed, around, a, lot, in,...</td>\n",
       "      <td>[kind, stuffed, around, lot, life, delaying, i...</td>\n",
       "    </tr>\n",
       "    <tr>\n",
       "      <th>4</th>\n",
       "      <td>[sleep, is, my, greatest, and, most, comfortin...</td>\n",
       "      <td>[sleep, greatest, comforting, escape, whenever...</td>\n",
       "    </tr>\n",
       "  </tbody>\n",
       "</table>\n",
       "</div>"
      ],
      "text/plain": [
       "                                           tokenized  \\\n",
       "0  [we, understand, that, most, people, who, repl...   \n",
       "1  [welcome, to, r, depression, s, check, in, pos...   \n",
       "2  [anyone, else, instead, of, sleeping, more, wh...   \n",
       "3  [i, ve, kind, of, stuffed, around, a, lot, in,...   \n",
       "4  [sleep, is, my, greatest, and, most, comfortin...   \n",
       "\n",
       "                                  tokenized_no_stops  \n",
       "0  [understand, people, reply, immediately, op, i...  \n",
       "1  [welcome, r, depression, check, post, place, t...  \n",
       "2  [anyone, else, instead, sleeping, depressed, s...  \n",
       "3  [kind, stuffed, around, lot, life, delaying, i...  \n",
       "4  [sleep, greatest, comforting, escape, whenever...  "
      ]
     },
     "execution_count": 15,
     "metadata": {},
     "output_type": "execute_result"
    }
   ],
   "source": [
    "df['tokenized_no_stops'] = df.apply(lambda x: tokenize_remove_stops(x['clean_text']), axis=1)\n",
    "\n",
    "#show difference\n",
    "df[['tokenized','tokenized_no_stops']].head()"
   ]
  },
  {
   "cell_type": "code",
   "execution_count": 16,
   "id": "24f43407-62cf-4f70-b2fe-d5b56baf04ef",
   "metadata": {},
   "outputs": [
    {
     "data": {
      "text/plain": [
       "[('wa', 3810),\n",
       " ('like', 3584),\n",
       " ('feel', 3227),\n",
       " ('get', 2316),\n",
       " ('want', 2292),\n",
       " ('know', 2283),\n",
       " ('life', 2147),\n",
       " ('time', 2069),\n",
       " ('even', 1812),\n",
       " ('day', 1688),\n",
       " ('people', 1660),\n",
       " ('really', 1617),\n",
       " ('depression', 1569),\n",
       " ('anxiety', 1548),\n",
       " ('thing', 1534),\n",
       " ('one', 1522),\n",
       " ('year', 1438),\n",
       " ('go', 1398),\n",
       " ('friend', 1297),\n",
       " ('would', 1285),\n",
       " ('think', 1280),\n",
       " ('going', 1252),\n",
       " ('ha', 1243),\n",
       " ('make', 1210),\n",
       " ('much', 1131),\n",
       " ('never', 1114),\n",
       " ('work', 1093),\n",
       " ('back', 1049),\n",
       " ('help', 1022),\n",
       " ('feeling', 948)]"
      ]
     },
     "execution_count": 16,
     "metadata": {},
     "output_type": "execute_result"
    }
   ],
   "source": [
    "#show top FreqDist now that stopwords are removed!\n",
    "freq_minus_stops = FreqDist(sum(df['tokenized_no_stops'], []))\n",
    "freq_minus_stops.most_common(30)"
   ]
  },
  {
   "cell_type": "markdown",
   "id": "6b8f2cc6-3f5e-43cb-8d84-284f148f3335",
   "metadata": {},
   "source": [
    "##### explain wa, etc __________________________________________________________"
   ]
  },
  {
   "cell_type": "markdown",
   "id": "caf73208-2a45-4476-9976-25f3c2275fe9",
   "metadata": {},
   "source": [
    "##### show size diff _______________________________________________________"
   ]
  },
  {
   "cell_type": "code",
   "execution_count": null,
   "id": "b8c04209-f5f1-4ab3-a1c7-47e071856835",
   "metadata": {},
   "outputs": [],
   "source": []
  },
  {
   "cell_type": "code",
   "execution_count": null,
   "id": "c0ab8c70-d479-4c7f-b902-922ecde2db3a",
   "metadata": {},
   "outputs": [],
   "source": []
  },
  {
   "cell_type": "code",
   "execution_count": null,
   "id": "1cd7c344-f803-439c-9e92-92fdadd66432",
   "metadata": {},
   "outputs": [],
   "source": []
  },
  {
   "cell_type": "code",
   "execution_count": null,
   "id": "1742375c-4129-4096-ab91-a3199df74f26",
   "metadata": {},
   "outputs": [],
   "source": []
  },
  {
   "cell_type": "code",
   "execution_count": null,
   "id": "f16e9211-0fb9-4cc9-8bf7-83a9ffc75ce7",
   "metadata": {},
   "outputs": [],
   "source": []
  },
  {
   "cell_type": "code",
   "execution_count": null,
   "id": "ee47ed7a-1867-498e-93f8-59423ce481f7",
   "metadata": {},
   "outputs": [],
   "source": []
  },
  {
   "cell_type": "markdown",
   "id": "5af938aa-5242-40f0-a1a5-baa783fc6181",
   "metadata": {},
   "source": [
    "### Lemmatization\n",
    "explain __________________________________________________________________________________________"
   ]
  },
  {
   "cell_type": "code",
   "execution_count": 17,
   "id": "59c6756f-b41a-488b-bde2-bec9cd54954d",
   "metadata": {},
   "outputs": [],
   "source": [
    "lemmatizer = WordNetLemmatizer()\n",
    "\n",
    "def lemmatize_data(data):\n",
    "    return [lemmatizer.lemmatize(word) for word in data]\n",
    "    "
   ]
  },
  {
   "cell_type": "code",
   "execution_count": 18,
   "id": "64b820ff-62d6-4568-9426-27e9d46445c5",
   "metadata": {},
   "outputs": [
    {
     "data": {
      "text/plain": [
       "0    [we, understand, that, most, people, who, repl...\n",
       "1    [welcome, to, r, depression, s, check, in, pos...\n",
       "2    [anyone, else, instead, of, sleeping, more, wh...\n",
       "3    [i, ve, kind, of, stuffed, around, a, lot, in,...\n",
       "4    [sleep, is, my, greatest, and, most, comfortin...\n",
       "Name: lemmatized, dtype: object"
      ]
     },
     "execution_count": 18,
     "metadata": {},
     "output_type": "execute_result"
    }
   ],
   "source": [
    "df['lemmatized'] = df['tokenized'].apply(lemmatize_data)\n",
    "df['lemmatized'].head()"
   ]
  },
  {
   "cell_type": "code",
   "execution_count": 19,
   "id": "e24d86f3-7404-4c4b-a2c1-61d5f02fa3ba",
   "metadata": {},
   "outputs": [
    {
     "data": {
      "text/plain": [
       "0    [understand, people, reply, immediately, op, i...\n",
       "1    [welcome, r, depression, check, post, place, t...\n",
       "2    [anyone, else, instead, sleeping, depressed, s...\n",
       "3    [kind, stuffed, around, lot, life, delaying, i...\n",
       "4    [sleep, greatest, comforting, escape, whenever...\n",
       "Name: lemmatized_no_stops, dtype: object"
      ]
     },
     "execution_count": 19,
     "metadata": {},
     "output_type": "execute_result"
    }
   ],
   "source": [
    "df['lemmatized_no_stops'] = df['tokenized_no_stops'].apply(lemmatize_data)\n",
    "df['lemmatized_no_stops'].head()"
   ]
  },
  {
   "cell_type": "code",
   "execution_count": null,
   "id": "9284eae4-815b-4b35-970a-5eb02dba7014",
   "metadata": {},
   "outputs": [],
   "source": []
  },
  {
   "cell_type": "code",
   "execution_count": null,
   "id": "4e3a1d15-b4c4-469e-a3c2-c2695bd9e1d4",
   "metadata": {},
   "outputs": [],
   "source": []
  },
  {
   "cell_type": "code",
   "execution_count": null,
   "id": "0ed16292-218c-4bef-aeee-5ff7a298f948",
   "metadata": {},
   "outputs": [],
   "source": []
  },
  {
   "cell_type": "code",
   "execution_count": null,
   "id": "db2325e9-6249-4d42-a46c-7c523efc0fe7",
   "metadata": {},
   "outputs": [],
   "source": []
  },
  {
   "cell_type": "code",
   "execution_count": null,
   "id": "d4ec7fb5-21d2-4ee7-91d8-9f3a3bcfaf13",
   "metadata": {},
   "outputs": [],
   "source": []
  },
  {
   "cell_type": "code",
   "execution_count": null,
   "id": "68d0885b-f130-4306-a5e1-fc1afdae26e9",
   "metadata": {},
   "outputs": [],
   "source": []
  },
  {
   "cell_type": "markdown",
   "id": "1e9f9b2e-ab37-45f3-bfe8-48e1ed9eb44a",
   "metadata": {},
   "source": [
    "### The Peprocessed Dataset"
   ]
  },
  {
   "cell_type": "code",
   "execution_count": 20,
   "id": "fe6e6834-ce9c-4f1d-9c63-d950c0c19e2e",
   "metadata": {},
   "outputs": [
    {
     "data": {
      "text/html": [
       "<div>\n",
       "<style scoped>\n",
       "    .dataframe tbody tr th:only-of-type {\n",
       "        vertical-align: middle;\n",
       "    }\n",
       "\n",
       "    .dataframe tbody tr th {\n",
       "        vertical-align: top;\n",
       "    }\n",
       "\n",
       "    .dataframe thead th {\n",
       "        text-align: right;\n",
       "    }\n",
       "</style>\n",
       "<table border=\"1\" class=\"dataframe\">\n",
       "  <thead>\n",
       "    <tr style=\"text-align: right;\">\n",
       "      <th></th>\n",
       "      <th>clean_text</th>\n",
       "      <th>is_depression</th>\n",
       "      <th>islowercase</th>\n",
       "      <th>tokenized</th>\n",
       "      <th>tokenized_no_stops</th>\n",
       "      <th>lemmatized</th>\n",
       "      <th>lemmatized_no_stops</th>\n",
       "    </tr>\n",
       "  </thead>\n",
       "  <tbody>\n",
       "    <tr>\n",
       "      <th>0</th>\n",
       "      <td>we understand that most people who reply immed...</td>\n",
       "      <td>1</td>\n",
       "      <td>True</td>\n",
       "      <td>[we, understand, that, most, people, who, repl...</td>\n",
       "      <td>[understand, people, reply, immediately, op, i...</td>\n",
       "      <td>[we, understand, that, most, people, who, repl...</td>\n",
       "      <td>[understand, people, reply, immediately, op, i...</td>\n",
       "    </tr>\n",
       "    <tr>\n",
       "      <th>1</th>\n",
       "      <td>welcome to r depression s check in post a plac...</td>\n",
       "      <td>1</td>\n",
       "      <td>True</td>\n",
       "      <td>[welcome, to, r, depression, s, check, in, pos...</td>\n",
       "      <td>[welcome, r, depression, check, post, place, t...</td>\n",
       "      <td>[welcome, to, r, depression, s, check, in, pos...</td>\n",
       "      <td>[welcome, r, depression, check, post, place, t...</td>\n",
       "    </tr>\n",
       "    <tr>\n",
       "      <th>2</th>\n",
       "      <td>anyone else instead of sleeping more when depr...</td>\n",
       "      <td>1</td>\n",
       "      <td>True</td>\n",
       "      <td>[anyone, else, instead, of, sleeping, more, wh...</td>\n",
       "      <td>[anyone, else, instead, sleeping, depressed, s...</td>\n",
       "      <td>[anyone, else, instead, of, sleeping, more, wh...</td>\n",
       "      <td>[anyone, else, instead, sleeping, depressed, s...</td>\n",
       "    </tr>\n",
       "    <tr>\n",
       "      <th>3</th>\n",
       "      <td>i ve kind of stuffed around a lot in my life d...</td>\n",
       "      <td>1</td>\n",
       "      <td>True</td>\n",
       "      <td>[i, ve, kind, of, stuffed, around, a, lot, in,...</td>\n",
       "      <td>[kind, stuffed, around, lot, life, delaying, i...</td>\n",
       "      <td>[i, ve, kind, of, stuffed, around, a, lot, in,...</td>\n",
       "      <td>[kind, stuffed, around, lot, life, delaying, i...</td>\n",
       "    </tr>\n",
       "    <tr>\n",
       "      <th>4</th>\n",
       "      <td>sleep is my greatest and most comforting escap...</td>\n",
       "      <td>1</td>\n",
       "      <td>True</td>\n",
       "      <td>[sleep, is, my, greatest, and, most, comfortin...</td>\n",
       "      <td>[sleep, greatest, comforting, escape, whenever...</td>\n",
       "      <td>[sleep, is, my, greatest, and, most, comfortin...</td>\n",
       "      <td>[sleep, greatest, comforting, escape, whenever...</td>\n",
       "    </tr>\n",
       "  </tbody>\n",
       "</table>\n",
       "</div>"
      ],
      "text/plain": [
       "                                          clean_text  is_depression  \\\n",
       "0  we understand that most people who reply immed...              1   \n",
       "1  welcome to r depression s check in post a plac...              1   \n",
       "2  anyone else instead of sleeping more when depr...              1   \n",
       "3  i ve kind of stuffed around a lot in my life d...              1   \n",
       "4  sleep is my greatest and most comforting escap...              1   \n",
       "\n",
       "   islowercase                                          tokenized  \\\n",
       "0         True  [we, understand, that, most, people, who, repl...   \n",
       "1         True  [welcome, to, r, depression, s, check, in, pos...   \n",
       "2         True  [anyone, else, instead, of, sleeping, more, wh...   \n",
       "3         True  [i, ve, kind, of, stuffed, around, a, lot, in,...   \n",
       "4         True  [sleep, is, my, greatest, and, most, comfortin...   \n",
       "\n",
       "                                  tokenized_no_stops  \\\n",
       "0  [understand, people, reply, immediately, op, i...   \n",
       "1  [welcome, r, depression, check, post, place, t...   \n",
       "2  [anyone, else, instead, sleeping, depressed, s...   \n",
       "3  [kind, stuffed, around, lot, life, delaying, i...   \n",
       "4  [sleep, greatest, comforting, escape, whenever...   \n",
       "\n",
       "                                          lemmatized  \\\n",
       "0  [we, understand, that, most, people, who, repl...   \n",
       "1  [welcome, to, r, depression, s, check, in, pos...   \n",
       "2  [anyone, else, instead, of, sleeping, more, wh...   \n",
       "3  [i, ve, kind, of, stuffed, around, a, lot, in,...   \n",
       "4  [sleep, is, my, greatest, and, most, comfortin...   \n",
       "\n",
       "                                 lemmatized_no_stops  \n",
       "0  [understand, people, reply, immediately, op, i...  \n",
       "1  [welcome, r, depression, check, post, place, t...  \n",
       "2  [anyone, else, instead, sleeping, depressed, s...  \n",
       "3  [kind, stuffed, around, lot, life, delaying, i...  \n",
       "4  [sleep, greatest, comforting, escape, whenever...  "
      ]
     },
     "execution_count": 20,
     "metadata": {},
     "output_type": "execute_result"
    }
   ],
   "source": [
    "df.head()"
   ]
  },
  {
   "cell_type": "markdown",
   "id": "ba762689-727e-4bb8-a611-8a00353633a9",
   "metadata": {},
   "source": [
    "#### Check for Significant Words in the Corpus\n",
    "\n",
    "specifically words that may be dead giveaways for depression"
   ]
  },
  {
   "cell_type": "code",
   "execution_count": 54,
   "id": "89296c1a-2731-4735-b80a-2f56b64a1c17",
   "metadata": {},
   "outputs": [],
   "source": [
    "#get 100 most common words from each class\n",
    "depressed_top = FreqDist(sum(df['tokenized_no_stops'][df['is_depression']==1], [])).most_common(100)\n",
    "undiag_top = FreqDist(sum(df['tokenized_no_stops'][df['is_depression']==0], [])).most_common(100)"
   ]
  },
  {
   "cell_type": "code",
   "execution_count": 55,
   "id": "82eba662-f7bb-43de-bd2e-9214d8cf5fbd",
   "metadata": {},
   "outputs": [
    {
     "data": {
      "text/plain": [
       "[('wa', 3526),\n",
       " ('like', 3398),\n",
       " ('feel', 3115),\n",
       " ('know', 2153),\n",
       " ('want', 2135),\n",
       " ('life', 2109),\n",
       " ('get', 2084),\n",
       " ('time', 1908),\n",
       " ('even', 1751),\n",
       " ('people', 1603),\n",
       " ('depression', 1569),\n",
       " ('anxiety', 1545),\n",
       " ('really', 1480),\n",
       " ('thing', 1460),\n",
       " ('day', 1447),\n",
       " ('year', 1395),\n",
       " ('one', 1373),\n",
       " ('friend', 1249),\n",
       " ('would', 1224),\n",
       " ('go', 1183),\n",
       " ('think', 1180),\n",
       " ('make', 1132),\n",
       " ('ha', 1087),\n",
       " ('going', 1083),\n",
       " ('never', 1067),\n",
       " ('much', 1018),\n",
       " ('help', 985),\n",
       " ('back', 882),\n",
       " ('thought', 881),\n",
       " ('feeling', 878)]"
      ]
     },
     "execution_count": 55,
     "metadata": {},
     "output_type": "execute_result"
    }
   ],
   "source": [
    "depressed_top[:30]"
   ]
  },
  {
   "cell_type": "code",
   "execution_count": 56,
   "id": "185f6bb9-aa4a-4f59-9752-4891e6ec9b1e",
   "metadata": {},
   "outputs": [],
   "source": [
    "only_depressed = depressed_top\n",
    "for x in only_depressed:\n",
    "    for y in undiag_top:\n",
    "        if x[0] in y:\n",
    "            only_depressed.remove(x)"
   ]
  },
  {
   "cell_type": "code",
   "execution_count": 57,
   "id": "0cd53f2f-4139-4579-bb06-a6b8347fac22",
   "metadata": {
    "tags": []
   },
   "outputs": [
    {
     "data": {
      "text/plain": [
       "[('like', 3398),\n",
       " ('know', 2153),\n",
       " ('life', 2109),\n",
       " ('time', 1908),\n",
       " ('people', 1603),\n",
       " ('depression', 1569),\n",
       " ('anxiety', 1545),\n",
       " ('thing', 1460),\n",
       " ('year', 1395),\n",
       " ('friend', 1249),\n",
       " ('go', 1183),\n",
       " ('make', 1132),\n",
       " ('going', 1083),\n",
       " ('much', 1018),\n",
       " ('help', 985),\n",
       " ('thought', 881),\n",
       " ('work', 823),\n",
       " ('way', 792),\n",
       " ('anything', 786),\n",
       " ('always', 765),\n",
       " ('everything', 765),\n",
       " ('anyone', 762),\n",
       " ('something', 741),\n",
       " ('every', 703),\n",
       " ('anymore', 701),\n",
       " ('also', 697),\n",
       " ('see', 690),\n",
       " ('could', 684),\n",
       " ('someone', 646),\n",
       " ('nothing', 639),\n",
       " ('job', 634),\n",
       " ('since', 624),\n",
       " ('family', 603),\n",
       " ('month', 602),\n",
       " ('right', 583),\n",
       " ('say', 579),\n",
       " ('talk', 564),\n",
       " ('lot', 557),\n",
       " ('everyone', 556),\n",
       " ('end', 545),\n",
       " ('getting', 532),\n",
       " ('person', 518),\n",
       " ('ever', 508),\n",
       " ('trying', 502),\n",
       " ('point', 493),\n",
       " ('fucking', 490),\n",
       " ('long', 486),\n",
       " ('started', 485),\n",
       " ('live', 483),\n",
       " ('hard', 480),\n",
       " ('care', 479),\n",
       " ('made', 469),\n",
       " ('tell', 462),\n",
       " ('else', 458),\n",
       " ('around', 453),\n",
       " ('first', 451),\n",
       " ('felt', 451),\n",
       " ('told', 450),\n",
       " ('try', 434),\n",
       " ('tired', 417),\n",
       " ('said', 404),\n",
       " ('die', 404),\n",
       " ('parent', 402),\n",
       " ('alone', 396),\n",
       " ('mental', 392),\n",
       " ('tried', 387),\n",
       " ('shit', 385)]"
      ]
     },
     "execution_count": 57,
     "metadata": {},
     "output_type": "execute_result"
    }
   ],
   "source": [
    "only_depressed"
   ]
  },
  {
   "cell_type": "markdown",
   "id": "15ad7270-7647-4652-b34c-9bc48b594f4d",
   "metadata": {},
   "source": [
    "##### explanation _______________________________________________________"
   ]
  },
  {
   "cell_type": "code",
   "execution_count": null,
   "id": "b72a631f-9aa0-4725-8441-2b9246033af0",
   "metadata": {},
   "outputs": [],
   "source": []
  },
  {
   "cell_type": "markdown",
   "id": "e8579305-93a5-426c-9a20-94e6684a7a96",
   "metadata": {},
   "source": [
    "# Modeling"
   ]
  },
  {
   "cell_type": "markdown",
   "id": "29f51311-4a58-4c0e-be48-fffc2d703798",
   "metadata": {},
   "source": [
    "##### __EXPLAIN STARTING FEATURE CHOICE, TARGET, ETC__\n",
    "## ____\n",
    "\n",
    "also talk about data sizes\n",
    "\n",
    "starting original"
   ]
  },
  {
   "cell_type": "code",
   "execution_count": null,
   "id": "cf363448-5300-4b31-be29-bbb24c27b571",
   "metadata": {},
   "outputs": [],
   "source": []
  },
  {
   "cell_type": "code",
   "execution_count": null,
   "id": "ea0075eb-0bab-4542-9091-850ece5319a1",
   "metadata": {},
   "outputs": [],
   "source": []
  },
  {
   "cell_type": "code",
   "execution_count": 110,
   "id": "7227030c-a45e-43fe-8730-8235fb29e0f8",
   "metadata": {},
   "outputs": [],
   "source": [
    "# def rejoin_words(column):\n",
    "#     return ( \" \".join(column))\n",
    "\n",
    "# df['rejoined_lemmatized'] = df.apply(lambda x: rejoin_words(x['lemmatized']), axis=1)"
   ]
  },
  {
   "cell_type": "code",
   "execution_count": 111,
   "id": "d65653e5-b21b-45d0-aabb-3ded354baa96",
   "metadata": {},
   "outputs": [],
   "source": [
    "# df['rejoined_lemmatized'].head()"
   ]
  },
  {
   "cell_type": "markdown",
   "id": "180194c4-0410-44f6-a954-a2985dc38a12",
   "metadata": {},
   "source": [
    "#### Splitting Data"
   ]
  },
  {
   "cell_type": "code",
   "execution_count": 112,
   "id": "a8b68d20-c4f8-4605-899b-7e08922e9a6f",
   "metadata": {},
   "outputs": [],
   "source": [
    "X = df['clean_text']\n",
    "y = df['is_depression']\n",
    "\n",
    "#train_test_split\n",
    "X_train, X_test, y_train, y_test = train_test_split(X, y, stratify=y, test_size=0.2, random_state=42)"
   ]
  },
  {
   "cell_type": "markdown",
   "id": "650957de-cce1-4732-a06e-6ed5b8e10561",
   "metadata": {},
   "source": [
    "### explain vectorizer"
   ]
  },
  {
   "cell_type": "code",
   "execution_count": 113,
   "id": "060a0f69-446b-46be-b63f-c0786aa45f07",
   "metadata": {},
   "outputs": [
    {
     "data": {
      "text/html": [
       "<div>\n",
       "<style scoped>\n",
       "    .dataframe tbody tr th:only-of-type {\n",
       "        vertical-align: middle;\n",
       "    }\n",
       "\n",
       "    .dataframe tbody tr th {\n",
       "        vertical-align: top;\n",
       "    }\n",
       "\n",
       "    .dataframe thead th {\n",
       "        text-align: right;\n",
       "    }\n",
       "</style>\n",
       "<table border=\"1\" class=\"dataframe\">\n",
       "  <thead>\n",
       "    <tr style=\"text-align: right;\">\n",
       "      <th></th>\n",
       "      <th>about</th>\n",
       "      <th>all</th>\n",
       "      <th>always</th>\n",
       "      <th>am</th>\n",
       "      <th>an</th>\n",
       "      <th>and</th>\n",
       "      <th>anxiety</th>\n",
       "      <th>any</th>\n",
       "      <th>anyone</th>\n",
       "      <th>are</th>\n",
       "      <th>...</th>\n",
       "      <th>we</th>\n",
       "      <th>what</th>\n",
       "      <th>when</th>\n",
       "      <th>who</th>\n",
       "      <th>will</th>\n",
       "      <th>with</th>\n",
       "      <th>work</th>\n",
       "      <th>would</th>\n",
       "      <th>year</th>\n",
       "      <th>you</th>\n",
       "    </tr>\n",
       "  </thead>\n",
       "  <tbody>\n",
       "    <tr>\n",
       "      <th>0</th>\n",
       "      <td>0.000000</td>\n",
       "      <td>0.000000</td>\n",
       "      <td>0.000000</td>\n",
       "      <td>0.0</td>\n",
       "      <td>0.0</td>\n",
       "      <td>0.000000</td>\n",
       "      <td>0.000000</td>\n",
       "      <td>0.000000</td>\n",
       "      <td>0.000000</td>\n",
       "      <td>0.0</td>\n",
       "      <td>...</td>\n",
       "      <td>0.000000</td>\n",
       "      <td>0.000000</td>\n",
       "      <td>0.000000</td>\n",
       "      <td>0.000000</td>\n",
       "      <td>0.0</td>\n",
       "      <td>0.000000</td>\n",
       "      <td>0.0</td>\n",
       "      <td>0.000000</td>\n",
       "      <td>0.000000</td>\n",
       "      <td>0.000000</td>\n",
       "    </tr>\n",
       "    <tr>\n",
       "      <th>1</th>\n",
       "      <td>0.000000</td>\n",
       "      <td>0.000000</td>\n",
       "      <td>0.000000</td>\n",
       "      <td>0.0</td>\n",
       "      <td>0.0</td>\n",
       "      <td>0.000000</td>\n",
       "      <td>0.000000</td>\n",
       "      <td>0.000000</td>\n",
       "      <td>0.000000</td>\n",
       "      <td>0.0</td>\n",
       "      <td>...</td>\n",
       "      <td>0.538367</td>\n",
       "      <td>0.000000</td>\n",
       "      <td>0.451680</td>\n",
       "      <td>0.000000</td>\n",
       "      <td>0.0</td>\n",
       "      <td>0.000000</td>\n",
       "      <td>0.0</td>\n",
       "      <td>0.000000</td>\n",
       "      <td>0.000000</td>\n",
       "      <td>0.000000</td>\n",
       "    </tr>\n",
       "    <tr>\n",
       "      <th>2</th>\n",
       "      <td>0.188074</td>\n",
       "      <td>0.035935</td>\n",
       "      <td>0.049669</td>\n",
       "      <td>0.0</td>\n",
       "      <td>0.0</td>\n",
       "      <td>0.314132</td>\n",
       "      <td>0.042052</td>\n",
       "      <td>0.179436</td>\n",
       "      <td>0.000000</td>\n",
       "      <td>0.0</td>\n",
       "      <td>...</td>\n",
       "      <td>0.000000</td>\n",
       "      <td>0.075859</td>\n",
       "      <td>0.080886</td>\n",
       "      <td>0.047301</td>\n",
       "      <td>0.0</td>\n",
       "      <td>0.065732</td>\n",
       "      <td>0.0</td>\n",
       "      <td>0.044510</td>\n",
       "      <td>0.086666</td>\n",
       "      <td>0.036945</td>\n",
       "    </tr>\n",
       "    <tr>\n",
       "      <th>3</th>\n",
       "      <td>0.000000</td>\n",
       "      <td>0.000000</td>\n",
       "      <td>0.000000</td>\n",
       "      <td>0.0</td>\n",
       "      <td>0.0</td>\n",
       "      <td>0.000000</td>\n",
       "      <td>0.000000</td>\n",
       "      <td>0.000000</td>\n",
       "      <td>0.000000</td>\n",
       "      <td>0.0</td>\n",
       "      <td>...</td>\n",
       "      <td>0.000000</td>\n",
       "      <td>0.000000</td>\n",
       "      <td>0.000000</td>\n",
       "      <td>0.000000</td>\n",
       "      <td>0.0</td>\n",
       "      <td>0.000000</td>\n",
       "      <td>0.0</td>\n",
       "      <td>0.000000</td>\n",
       "      <td>0.000000</td>\n",
       "      <td>0.000000</td>\n",
       "    </tr>\n",
       "    <tr>\n",
       "      <th>4</th>\n",
       "      <td>0.000000</td>\n",
       "      <td>0.000000</td>\n",
       "      <td>0.000000</td>\n",
       "      <td>0.0</td>\n",
       "      <td>0.0</td>\n",
       "      <td>0.188034</td>\n",
       "      <td>0.000000</td>\n",
       "      <td>0.000000</td>\n",
       "      <td>0.000000</td>\n",
       "      <td>0.0</td>\n",
       "      <td>...</td>\n",
       "      <td>0.000000</td>\n",
       "      <td>0.000000</td>\n",
       "      <td>0.000000</td>\n",
       "      <td>0.000000</td>\n",
       "      <td>0.0</td>\n",
       "      <td>0.000000</td>\n",
       "      <td>0.0</td>\n",
       "      <td>0.346354</td>\n",
       "      <td>0.000000</td>\n",
       "      <td>0.287489</td>\n",
       "    </tr>\n",
       "    <tr>\n",
       "      <th>...</th>\n",
       "      <td>...</td>\n",
       "      <td>...</td>\n",
       "      <td>...</td>\n",
       "      <td>...</td>\n",
       "      <td>...</td>\n",
       "      <td>...</td>\n",
       "      <td>...</td>\n",
       "      <td>...</td>\n",
       "      <td>...</td>\n",
       "      <td>...</td>\n",
       "      <td>...</td>\n",
       "      <td>...</td>\n",
       "      <td>...</td>\n",
       "      <td>...</td>\n",
       "      <td>...</td>\n",
       "      <td>...</td>\n",
       "      <td>...</td>\n",
       "      <td>...</td>\n",
       "      <td>...</td>\n",
       "      <td>...</td>\n",
       "      <td>...</td>\n",
       "    </tr>\n",
       "    <tr>\n",
       "      <th>6179</th>\n",
       "      <td>0.000000</td>\n",
       "      <td>0.087283</td>\n",
       "      <td>0.000000</td>\n",
       "      <td>0.0</td>\n",
       "      <td>0.0</td>\n",
       "      <td>0.176076</td>\n",
       "      <td>0.000000</td>\n",
       "      <td>0.000000</td>\n",
       "      <td>0.000000</td>\n",
       "      <td>0.0</td>\n",
       "      <td>...</td>\n",
       "      <td>0.000000</td>\n",
       "      <td>0.092127</td>\n",
       "      <td>0.000000</td>\n",
       "      <td>0.000000</td>\n",
       "      <td>0.0</td>\n",
       "      <td>0.159657</td>\n",
       "      <td>0.0</td>\n",
       "      <td>0.000000</td>\n",
       "      <td>0.000000</td>\n",
       "      <td>0.000000</td>\n",
       "    </tr>\n",
       "    <tr>\n",
       "      <th>6180</th>\n",
       "      <td>0.000000</td>\n",
       "      <td>0.000000</td>\n",
       "      <td>0.000000</td>\n",
       "      <td>0.0</td>\n",
       "      <td>0.0</td>\n",
       "      <td>0.000000</td>\n",
       "      <td>0.000000</td>\n",
       "      <td>0.000000</td>\n",
       "      <td>0.000000</td>\n",
       "      <td>0.0</td>\n",
       "      <td>...</td>\n",
       "      <td>0.000000</td>\n",
       "      <td>0.000000</td>\n",
       "      <td>0.000000</td>\n",
       "      <td>0.000000</td>\n",
       "      <td>0.0</td>\n",
       "      <td>0.000000</td>\n",
       "      <td>0.0</td>\n",
       "      <td>0.000000</td>\n",
       "      <td>0.000000</td>\n",
       "      <td>0.000000</td>\n",
       "    </tr>\n",
       "    <tr>\n",
       "      <th>6181</th>\n",
       "      <td>0.000000</td>\n",
       "      <td>0.000000</td>\n",
       "      <td>0.000000</td>\n",
       "      <td>0.0</td>\n",
       "      <td>0.0</td>\n",
       "      <td>0.000000</td>\n",
       "      <td>0.000000</td>\n",
       "      <td>0.000000</td>\n",
       "      <td>0.000000</td>\n",
       "      <td>0.0</td>\n",
       "      <td>...</td>\n",
       "      <td>0.000000</td>\n",
       "      <td>0.000000</td>\n",
       "      <td>0.000000</td>\n",
       "      <td>0.000000</td>\n",
       "      <td>0.0</td>\n",
       "      <td>0.000000</td>\n",
       "      <td>0.0</td>\n",
       "      <td>0.000000</td>\n",
       "      <td>0.000000</td>\n",
       "      <td>0.838652</td>\n",
       "    </tr>\n",
       "    <tr>\n",
       "      <th>6182</th>\n",
       "      <td>0.000000</td>\n",
       "      <td>0.000000</td>\n",
       "      <td>0.000000</td>\n",
       "      <td>0.0</td>\n",
       "      <td>0.0</td>\n",
       "      <td>0.242542</td>\n",
       "      <td>0.000000</td>\n",
       "      <td>0.000000</td>\n",
       "      <td>0.000000</td>\n",
       "      <td>0.0</td>\n",
       "      <td>...</td>\n",
       "      <td>0.000000</td>\n",
       "      <td>0.000000</td>\n",
       "      <td>0.000000</td>\n",
       "      <td>0.000000</td>\n",
       "      <td>0.0</td>\n",
       "      <td>0.000000</td>\n",
       "      <td>0.0</td>\n",
       "      <td>0.000000</td>\n",
       "      <td>0.000000</td>\n",
       "      <td>0.000000</td>\n",
       "    </tr>\n",
       "    <tr>\n",
       "      <th>6183</th>\n",
       "      <td>0.089870</td>\n",
       "      <td>0.000000</td>\n",
       "      <td>0.000000</td>\n",
       "      <td>0.0</td>\n",
       "      <td>0.0</td>\n",
       "      <td>0.115466</td>\n",
       "      <td>0.000000</td>\n",
       "      <td>0.000000</td>\n",
       "      <td>0.112262</td>\n",
       "      <td>0.0</td>\n",
       "      <td>...</td>\n",
       "      <td>0.000000</td>\n",
       "      <td>0.000000</td>\n",
       "      <td>0.000000</td>\n",
       "      <td>0.000000</td>\n",
       "      <td>0.0</td>\n",
       "      <td>0.000000</td>\n",
       "      <td>0.0</td>\n",
       "      <td>0.106343</td>\n",
       "      <td>0.103533</td>\n",
       "      <td>0.000000</td>\n",
       "    </tr>\n",
       "  </tbody>\n",
       "</table>\n",
       "<p>6184 rows × 100 columns</p>\n",
       "</div>"
      ],
      "text/plain": [
       "         about       all    always   am   an       and   anxiety       any  \\\n",
       "0     0.000000  0.000000  0.000000  0.0  0.0  0.000000  0.000000  0.000000   \n",
       "1     0.000000  0.000000  0.000000  0.0  0.0  0.000000  0.000000  0.000000   \n",
       "2     0.188074  0.035935  0.049669  0.0  0.0  0.314132  0.042052  0.179436   \n",
       "3     0.000000  0.000000  0.000000  0.0  0.0  0.000000  0.000000  0.000000   \n",
       "4     0.000000  0.000000  0.000000  0.0  0.0  0.188034  0.000000  0.000000   \n",
       "...        ...       ...       ...  ...  ...       ...       ...       ...   \n",
       "6179  0.000000  0.087283  0.000000  0.0  0.0  0.176076  0.000000  0.000000   \n",
       "6180  0.000000  0.000000  0.000000  0.0  0.0  0.000000  0.000000  0.000000   \n",
       "6181  0.000000  0.000000  0.000000  0.0  0.0  0.000000  0.000000  0.000000   \n",
       "6182  0.000000  0.000000  0.000000  0.0  0.0  0.242542  0.000000  0.000000   \n",
       "6183  0.089870  0.000000  0.000000  0.0  0.0  0.115466  0.000000  0.000000   \n",
       "\n",
       "        anyone  are  ...        we      what      when       who  will  \\\n",
       "0     0.000000  0.0  ...  0.000000  0.000000  0.000000  0.000000   0.0   \n",
       "1     0.000000  0.0  ...  0.538367  0.000000  0.451680  0.000000   0.0   \n",
       "2     0.000000  0.0  ...  0.000000  0.075859  0.080886  0.047301   0.0   \n",
       "3     0.000000  0.0  ...  0.000000  0.000000  0.000000  0.000000   0.0   \n",
       "4     0.000000  0.0  ...  0.000000  0.000000  0.000000  0.000000   0.0   \n",
       "...        ...  ...  ...       ...       ...       ...       ...   ...   \n",
       "6179  0.000000  0.0  ...  0.000000  0.092127  0.000000  0.000000   0.0   \n",
       "6180  0.000000  0.0  ...  0.000000  0.000000  0.000000  0.000000   0.0   \n",
       "6181  0.000000  0.0  ...  0.000000  0.000000  0.000000  0.000000   0.0   \n",
       "6182  0.000000  0.0  ...  0.000000  0.000000  0.000000  0.000000   0.0   \n",
       "6183  0.112262  0.0  ...  0.000000  0.000000  0.000000  0.000000   0.0   \n",
       "\n",
       "          with  work     would      year       you  \n",
       "0     0.000000   0.0  0.000000  0.000000  0.000000  \n",
       "1     0.000000   0.0  0.000000  0.000000  0.000000  \n",
       "2     0.065732   0.0  0.044510  0.086666  0.036945  \n",
       "3     0.000000   0.0  0.000000  0.000000  0.000000  \n",
       "4     0.000000   0.0  0.346354  0.000000  0.287489  \n",
       "...        ...   ...       ...       ...       ...  \n",
       "6179  0.159657   0.0  0.000000  0.000000  0.000000  \n",
       "6180  0.000000   0.0  0.000000  0.000000  0.000000  \n",
       "6181  0.000000   0.0  0.000000  0.000000  0.838652  \n",
       "6182  0.000000   0.0  0.000000  0.000000  0.000000  \n",
       "6183  0.000000   0.0  0.106343  0.103533  0.000000  \n",
       "\n",
       "[6184 rows x 100 columns]"
      ]
     },
     "execution_count": 113,
     "metadata": {},
     "output_type": "execute_result"
    }
   ],
   "source": [
    "#max features 100 as a starting point\n",
    "vectorizer = TfidfVectorizer(max_features=100)\n",
    "\n",
    "X_train_vectorized = vectorizer.fit_transform(X_train)\n",
    "\n",
    "# Visually inspect the vectorized data\n",
    "pd.DataFrame.sparse.from_spmatrix(X_train_vectorized, columns=vectorizer.get_feature_names())"
   ]
  },
  {
   "cell_type": "code",
   "execution_count": null,
   "id": "142315d6-5a82-46bd-bdec-667b625cf530",
   "metadata": {},
   "outputs": [],
   "source": []
  },
  {
   "cell_type": "code",
   "execution_count": null,
   "id": "65bf85fe-0466-48e7-bad5-d0343f976272",
   "metadata": {},
   "outputs": [],
   "source": []
  },
  {
   "cell_type": "code",
   "execution_count": null,
   "id": "3b47b902-688b-488f-b4b0-bf08a809cb11",
   "metadata": {},
   "outputs": [],
   "source": []
  },
  {
   "cell_type": "code",
   "execution_count": 114,
   "id": "a0c085be-3bef-4ad8-a6cb-2a2bd955fbe3",
   "metadata": {},
   "outputs": [],
   "source": [
    "# ### Rejoin Data\n",
    "\n",
    "# for tfidf vectorizer"
   ]
  },
  {
   "cell_type": "code",
   "execution_count": 115,
   "id": "7db21918-b37c-48ee-9524-3ecf58c7f1d3",
   "metadata": {},
   "outputs": [],
   "source": [
    "# X_test.size\n",
    "# #etc"
   ]
  },
  {
   "cell_type": "code",
   "execution_count": null,
   "id": "5cc49909-b7fb-4f44-9841-c8129fecf8f8",
   "metadata": {},
   "outputs": [],
   "source": []
  },
  {
   "cell_type": "code",
   "execution_count": null,
   "id": "0c1c4698-b1ec-44ba-ace2-eed909e63b37",
   "metadata": {},
   "outputs": [],
   "source": []
  },
  {
   "cell_type": "markdown",
   "id": "c0c2f3ee-a411-413e-842d-29630db29b3f",
   "metadata": {},
   "source": [
    "### Metrics and Scoring\n",
    "explain metric options\n",
    "\n",
    "ideal scores"
   ]
  },
  {
   "cell_type": "code",
   "execution_count": null,
   "id": "742e6b68-8a8e-465a-b97f-de1565a8b7a9",
   "metadata": {},
   "outputs": [],
   "source": []
  },
  {
   "cell_type": "code",
   "execution_count": null,
   "id": "fba4b64b-aa23-4771-be88-32f3478ae3f9",
   "metadata": {},
   "outputs": [],
   "source": []
  },
  {
   "cell_type": "markdown",
   "id": "365dff7f-89e3-497a-971a-9d50bf443ab1",
   "metadata": {
    "tags": []
   },
   "source": [
    "## Baseline Model\n",
    "explain model choice\n"
   ]
  },
  {
   "cell_type": "code",
   "execution_count": 116,
   "id": "a16c42da-9320-4732-b34a-59e074bda3dc",
   "metadata": {},
   "outputs": [],
   "source": [
    "# from sklearn.ensemble import RandomForestClassifier\n",
    "# from sklearn.tree import DecisionTreeClassifier\n",
    "# from sklearn.naive_bayes import GaussianNB, MultinomialNB\n",
    "# from sklearn.svm import SVC\n",
    "# from sklearn.linear_model import LogisticRegression"
   ]
  },
  {
   "cell_type": "code",
   "execution_count": 117,
   "id": "74b1816a-c3f4-4c85-ac75-be65f50e951b",
   "metadata": {},
   "outputs": [
    {
     "data": {
      "text/plain": [
       "array([0.8367017 , 0.82053355, 0.82295877, 0.82700081, 0.82281553])"
      ]
     },
     "execution_count": 117,
     "metadata": {},
     "output_type": "execute_result"
    }
   ],
   "source": [
    "nb_model = MultinomialNB()\n",
    "\n",
    "baseline_cv = cross_val_score(nb_model, X_train_vectorized, y_train)\n",
    "baseline_cv"
   ]
  },
  {
   "cell_type": "code",
   "execution_count": 118,
   "id": "0f10b6b3-35e0-4484-b87c-9c5d133080bf",
   "metadata": {},
   "outputs": [
    {
     "data": {
      "text/plain": [
       "0    0.504528\n",
       "1    0.495472\n",
       "Name: is_depression, dtype: float64"
      ]
     },
     "execution_count": 118,
     "metadata": {},
     "output_type": "execute_result"
    }
   ],
   "source": [
    "y_train.value_counts(normalize=True)"
   ]
  },
  {
   "cell_type": "markdown",
   "id": "77230fcf-55cc-4033-8389-90ca56f454dd",
   "metadata": {},
   "source": [
    "##### explain high score _______________________________________"
   ]
  },
  {
   "cell_type": "markdown",
   "id": "d3d3361b-81b1-43c1-bdf9-1bdd5bcdb3ee",
   "metadata": {},
   "source": [
    "### Evaluate Model on Test Data"
   ]
  },
  {
   "cell_type": "code",
   "execution_count": 130,
   "id": "fa9bdd66-456a-4271-aaf0-3b8b2f4f662e",
   "metadata": {},
   "outputs": [],
   "source": [
    "#fit model to train data\n",
    "nb_model.fit(X_train_vectorized, y_train)\n",
    "\n",
    "#vectorize test data\n",
    "vectorizer = TfidfVectorizer(max_features=100)\n",
    "X_test_vectorized = vectorizer.fit_transform(X_test)\n",
    "\n",
    "#predict on test data\n",
    "y_pred = nb_model.predict(X_test_vectorized)"
   ]
  },
  {
   "cell_type": "code",
   "execution_count": 131,
   "id": "d91b5e2b-f696-41df-85ae-c093dd239b5a",
   "metadata": {},
   "outputs": [],
   "source": [
    "# create confusion matrix helper function:\n",
    "def plot_confusion(title, save_name):\n",
    "\n",
    "    #confusion matrix for test data\n",
    "    conf_matrix = confusion_matrix(y_test,y_pred)\n",
    "\n",
    "    # plot confusion matrix values\n",
    "    sns.heatmap(\n",
    "    conf_matrix, \n",
    "    annot=True, \n",
    "    cmap='Blues', \n",
    "    fmt='0.5g'\n",
    "    )\n",
    "\n",
    "    plt.xlabel('Predicted Label')\n",
    "    plt.ylabel('True Label')\n",
    "    plt.title(title)\n",
    "\n",
    "    plt.savefig('./img/'+save_name+'.png')\n",
    "    plt.show()"
   ]
  },
  {
   "cell_type": "code",
   "execution_count": 132,
   "id": "c7793359-3c71-4c5f-9f50-181d5806b246",
   "metadata": {},
   "outputs": [
    {
     "data": {
      "image/png": "[encoded data removed]",
      "text/plain": [
       "<Figure size 432x288 with 2 Axes>"
      ]
     },
     "metadata": {
      "needs_background": "light"
     },
     "output_type": "display_data"
    }
   ],
   "source": [
    "plot_confusion('model', 'baseline')"
   ]
  },
  {
   "cell_type": "markdown",
   "id": "80d4e9fc-1dbd-4aa7-850f-cda5066ac6d9",
   "metadata": {
    "tags": []
   },
   "source": [
    "##### explanation _______________________________\n"
   ]
  },
  {
   "cell_type": "code",
   "execution_count": 134,
   "id": "3780a22c-935c-440e-a190-a965c5e9301d",
   "metadata": {},
   "outputs": [
    {
     "name": "stdout",
     "output_type": "stream",
     "text": [
      "              precision    recall  f1-score   support\n",
      "\n",
      "           0       0.70      0.65      0.67       780\n",
      "           1       0.67      0.72      0.69       767\n",
      "\n",
      "    accuracy                           0.68      1547\n",
      "   macro avg       0.68      0.68      0.68      1547\n",
      "weighted avg       0.68      0.68      0.68      1547\n",
      "\n"
     ]
    }
   ],
   "source": [
    "print(classification_report(y_test, y_pred))"
   ]
  },
  {
   "cell_type": "markdown",
   "id": "4ce08059-8818-4aa0-9a86-74745a663f0d",
   "metadata": {},
   "source": [
    "\n",
    "##### coefficients etc ____________________________"
   ]
  },
  {
   "cell_type": "code",
   "execution_count": null,
   "id": "b8c77e07-b799-4a57-8c1e-c3df14d56bc8",
   "metadata": {},
   "outputs": [],
   "source": []
  },
  {
   "cell_type": "code",
   "execution_count": null,
   "id": "45d3e2ad-d789-4895-85a1-6033ce84ba1b",
   "metadata": {},
   "outputs": [],
   "source": [
    "### show weights with tfifd\n",
    "\n",
    "##### explain min_df and max_df as well _________________________________________________"
   ]
  },
  {
   "cell_type": "code",
   "execution_count": 94,
   "id": "77dbba6b-9823-4e29-8d50-008375b3e32c",
   "metadata": {},
   "outputs": [],
   "source": [
    "\n",
    "# # extracting magnitude of coefficients\n",
    "# feature_names = vectorizer.get_feature_names()\n",
    "\n",
    "# # creating a dataframe of feature names and magnitude of coefficients\n",
    "# magnitude_df = pd.concat([pd.DataFrame(\n",
    "#     feature_names, columns = ['Features']),\n",
    "#     pd.DataFrame(np.transpose(model.coef_), \n",
    "#     columns = ['Magnitude of Coefficients'])],axis = 1)\n",
    "\n",
    "# magnitude_df = magnitude_df.sort_values(by='Magnitude of Coefficients', ascending=False)\n",
    "# magnitude_df.reset_index(drop=True, inplace=True)\n",
    "# magnitude_df.head(20)"
   ]
  },
  {
   "cell_type": "markdown",
   "id": "98e47fb6-bfc9-4285-a8d7-1682473f48c7",
   "metadata": {},
   "source": [
    "##### further detail about problematic \"giveaway\" words _______________________________________________________________________"
   ]
  },
  {
   "cell_type": "code",
   "execution_count": null,
   "id": "8e16b844-27e6-4ce2-83a9-d28e80688110",
   "metadata": {},
   "outputs": [],
   "source": []
  },
  {
   "cell_type": "markdown",
   "id": "a090c8fb-b732-429b-b11a-b32aebfd4fb7",
   "metadata": {
    "tags": []
   },
   "source": [
    "\n",
    "\n",
    "### explain pipeline"
   ]
  },
  {
   "cell_type": "markdown",
   "id": "aa10380d-4504-43a6-8a4b-3ac347db99b6",
   "metadata": {},
   "source": [
    "gridsearch pipelines to choose model"
   ]
  },
  {
   "cell_type": "markdown",
   "id": "5072fe21-5f9f-436c-8b83-6102372e84bb",
   "metadata": {},
   "source": [
    "best model play with hyperparameters"
   ]
  },
  {
   "cell_type": "code",
   "execution_count": null,
   "id": "df68f46c-a441-4771-b173-e8c59816974f",
   "metadata": {},
   "outputs": [],
   "source": []
  },
  {
   "cell_type": "code",
   "execution_count": null,
   "id": "7ad21189-57b6-41b3-a9fa-4144859d8021",
   "metadata": {},
   "outputs": [],
   "source": []
  },
  {
   "cell_type": "markdown",
   "id": "b94edab2-72fe-4142-a08f-b7622f16caf3",
   "metadata": {},
   "source": [
    "talk about word embeddings\n",
    "\n",
    "rnn? implement at least a glimpse into neural networks"
   ]
  },
  {
   "cell_type": "code",
   "execution_count": null,
   "id": "a4448fb5-07ea-43a4-85af-849260f782d5",
   "metadata": {},
   "outputs": [],
   "source": []
  },
  {
   "cell_type": "code",
   "execution_count": null,
   "id": "c6bc37fd-e0e9-4db2-95e6-0825fbfa1b80",
   "metadata": {},
   "outputs": [],
   "source": []
  },
  {
   "cell_type": "code",
   "execution_count": null,
   "id": "be6de1e0-081f-4a2b-805f-c79c8dd97b3a",
   "metadata": {},
   "outputs": [],
   "source": []
  },
  {
   "cell_type": "code",
   "execution_count": null,
   "id": "343d3d50-5ce9-4c39-800e-7a6449d6ac1b",
   "metadata": {},
   "outputs": [],
   "source": []
  },
  {
   "cell_type": "code",
   "execution_count": null,
   "id": "71b51de5-159d-44cc-a502-c07d2628290c",
   "metadata": {},
   "outputs": [],
   "source": []
  },
  {
   "cell_type": "code",
   "execution_count": null,
   "id": "dcb8ded8-a952-4c5d-ad17-f43c002543c0",
   "metadata": {},
   "outputs": [],
   "source": []
  },
  {
   "cell_type": "code",
   "execution_count": null,
   "id": "77ee0312-dfa6-4a5a-959f-57d5f261e412",
   "metadata": {},
   "outputs": [],
   "source": []
  }
 ],
 "metadata": {
  "kernelspec": {
   "display_name": "Python 3 (ipykernel)",
   "language": "python",
   "name": "python3"
  },
  "language_info": {
   "codemirror_mode": {
    "name": "ipython",
    "version": 3
   },
   "file_extension": ".py",
   "mimetype": "text/x-python",
   "name": "python",
   "nbconvert_exporter": "python",
   "pygments_lexer": "ipython3",
   "version": "3.9.7"
  },
  "toc-autonumbering": false
 },
 "nbformat": 4,
 "nbformat_minor": 5
}
