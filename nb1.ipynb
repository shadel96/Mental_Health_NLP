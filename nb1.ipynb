{
 "cells": [
  {
   "cell_type": "markdown",
   "id": "29606f3c-f63d-4504-85d3-675d48233166",
   "metadata": {},
   "source": [
    "# Capstone"
   ]
  },
  {
   "cell_type": "markdown",
   "id": "5987351f-3b08-487f-a1f5-3cc8d0949440",
   "metadata": {
    "tags": []
   },
   "source": [
    "### Introduction etc etc"
   ]
  },
  {
   "cell_type": "markdown",
   "id": "c15bf877-2bae-4fc9-86b4-ea29b7c7c9e1",
   "metadata": {},
   "source": [
    "***\n",
    "***"
   ]
  },
  {
   "cell_type": "markdown",
   "id": "8f715733-0685-4747-917c-71f5e8cae490",
   "metadata": {},
   "source": [
    "# Imports, Loading Data"
   ]
  },
  {
   "cell_type": "code",
   "execution_count": 1,
   "id": "db98d5bc-8147-4d7c-8e15-d46a4da22136",
   "metadata": {},
   "outputs": [],
   "source": [
    "#imports\n",
    "import os\n",
    "import matplotlib.pyplot as plt\n",
    "%matplotlib inline\n",
    "import numpy as np\n",
    "import pandas as pd\n",
    "import datetime\n",
    "import re\n",
    "import string\n",
    "import seaborn as sns\n",
    "import nltk\n",
    "from nltk import word_tokenize, FreqDist\n",
    "from nltk.corpus import stopwords\n",
    "from nltk.stem.wordnet import WordNetLemmatizer\n",
    "\n",
    "from sklearn.model_selection import train_test_split, GridSearchCV\n",
    "from sklearn.metrics import accuracy_score, precision_score, recall_score, f1_score, confusion_matrix, classification_report\n",
    "\n",
    "#models:\n",
    "from sklearn.ensemble import RandomForestClassifier\n",
    "from sklearn.tree import DecisionTreeClassifier\n",
    "from sklearn.naive_bayes import MultinomialNB\n",
    "from sklearn.svm import SVC\n",
    "from sklearn.linear_model import LogisticRegression\n",
    "\n",
    "from sklearn.pipeline import Pipeline\n",
    "from sklearn.model_selection import cross_val_score\n",
    "\n",
    "import tensorflow as tf\n",
    "from keras.optimizers import SGD\n",
    "from tensorflow.keras import preprocessing\n",
    "from keras.layers import Input, Dense, LSTM, Embedding\n",
    "from keras.layers import Dropout, Activation, Bidirectional, GlobalMaxPool1D\n",
    "from keras.models import Sequential\n",
    "from keras import initializers, regularizers, constraints, optimizers, layers\n",
    "from keras.preprocessing import text, sequence\n",
    "\n",
    "from sklearn.feature_extraction.text import TfidfVectorizer, CountVectorizer\n",
    "\n",
    "#seed for reproducible results\n",
    "np.random.seed(42)\n",
    "tf.random.set_seed(42)"
   ]
  },
  {
   "cell_type": "markdown",
   "id": "e5496364-beeb-422e-9b5a-774886f1f906",
   "metadata": {},
   "source": [
    "##### explain datset in detail"
   ]
  },
  {
   "cell_type": "code",
   "execution_count": 2,
   "id": "5c68b7b9-19e7-4167-8395-43dca0223218",
   "metadata": {},
   "outputs": [],
   "source": [
    "data_dir_depression = './data/depression_dataset_reddit_cleaned.csv'\n",
    "\n",
    "depression_df = pd.read_csv(data_dir_depression)"
   ]
  },
  {
   "cell_type": "code",
   "execution_count": null,
   "id": "558ca8ac-ea71-4256-b85b-52c1f0e22a0d",
   "metadata": {},
   "outputs": [],
   "source": []
  },
  {
   "cell_type": "markdown",
   "id": "3cc84781-e6fa-499f-9196-bb7e7bbde3ba",
   "metadata": {},
   "source": [
    "# EDA and Preprocessing"
   ]
  },
  {
   "cell_type": "markdown",
   "id": "3c9190a1-e099-416f-b7dd-9ee1b0c1772b",
   "metadata": {
    "tags": []
   },
   "source": [
    "## Exploratory Data Analysis"
   ]
  },
  {
   "cell_type": "code",
   "execution_count": 3,
   "id": "637512be-8df0-48f8-b728-00b884e6be81",
   "metadata": {},
   "outputs": [
    {
     "name": "stdout",
     "output_type": "stream",
     "text": [
      "<class 'pandas.core.frame.DataFrame'>\n",
      "RangeIndex: 7731 entries, 0 to 7730\n",
      "Data columns (total 2 columns):\n",
      " #   Column         Non-Null Count  Dtype \n",
      "---  ------         --------------  ----- \n",
      " 0   clean_text     7731 non-null   object\n",
      " 1   is_depression  7731 non-null   int64 \n",
      "dtypes: int64(1), object(1)\n",
      "memory usage: 120.9+ KB\n"
     ]
    }
   ],
   "source": [
    "#change to df for ease of use\n",
    "df = depression_df\n",
    "df.info()"
   ]
  },
  {
   "cell_type": "code",
   "execution_count": 4,
   "id": "7ec09336-a62e-40ec-bb85-e5e29846da76",
   "metadata": {},
   "outputs": [
    {
     "data": {
      "text/html": [
       "<div>\n",
       "<style scoped>\n",
       "    .dataframe tbody tr th:only-of-type {\n",
       "        vertical-align: middle;\n",
       "    }\n",
       "\n",
       "    .dataframe tbody tr th {\n",
       "        vertical-align: top;\n",
       "    }\n",
       "\n",
       "    .dataframe thead th {\n",
       "        text-align: right;\n",
       "    }\n",
       "</style>\n",
       "<table border=\"1\" class=\"dataframe\">\n",
       "  <thead>\n",
       "    <tr style=\"text-align: right;\">\n",
       "      <th></th>\n",
       "      <th>clean_text</th>\n",
       "      <th>is_depression</th>\n",
       "    </tr>\n",
       "  </thead>\n",
       "  <tbody>\n",
       "    <tr>\n",
       "      <th>0</th>\n",
       "      <td>we understand that most people who reply immed...</td>\n",
       "      <td>1</td>\n",
       "    </tr>\n",
       "    <tr>\n",
       "      <th>1</th>\n",
       "      <td>welcome to r depression s check in post a plac...</td>\n",
       "      <td>1</td>\n",
       "    </tr>\n",
       "    <tr>\n",
       "      <th>2</th>\n",
       "      <td>anyone else instead of sleeping more when depr...</td>\n",
       "      <td>1</td>\n",
       "    </tr>\n",
       "    <tr>\n",
       "      <th>3</th>\n",
       "      <td>i ve kind of stuffed around a lot in my life d...</td>\n",
       "      <td>1</td>\n",
       "    </tr>\n",
       "    <tr>\n",
       "      <th>4</th>\n",
       "      <td>sleep is my greatest and most comforting escap...</td>\n",
       "      <td>1</td>\n",
       "    </tr>\n",
       "  </tbody>\n",
       "</table>\n",
       "</div>"
      ],
      "text/plain": [
       "                                          clean_text  is_depression\n",
       "0  we understand that most people who reply immed...              1\n",
       "1  welcome to r depression s check in post a plac...              1\n",
       "2  anyone else instead of sleeping more when depr...              1\n",
       "3  i ve kind of stuffed around a lot in my life d...              1\n",
       "4  sleep is my greatest and most comforting escap...              1"
      ]
     },
     "execution_count": 4,
     "metadata": {},
     "output_type": "execute_result"
    }
   ],
   "source": [
    "df.head()"
   ]
  },
  {
   "cell_type": "code",
   "execution_count": 5,
   "id": "a156f7f3-bb84-41c2-9d22-2ea956774297",
   "metadata": {},
   "outputs": [
    {
     "data": {
      "text/plain": [
       "clean_text       0\n",
       "is_depression    0\n",
       "dtype: int64"
      ]
     },
     "execution_count": 5,
     "metadata": {},
     "output_type": "execute_result"
    }
   ],
   "source": [
    "df.isna().sum()"
   ]
  },
  {
   "cell_type": "code",
   "execution_count": 6,
   "id": "88bbb06c-fa6a-4e56-a1b0-840583c9021e",
   "metadata": {},
   "outputs": [
    {
     "data": {
      "text/plain": [
       "0    3900\n",
       "1    3831\n",
       "Name: is_depression, dtype: int64"
      ]
     },
     "execution_count": 6,
     "metadata": {},
     "output_type": "execute_result"
    }
   ],
   "source": [
    "df['is_depression'].value_counts()"
   ]
  },
  {
   "cell_type": "markdown",
   "id": "fc483548-4f71-4609-9dac-7e6bbbc980fb",
   "metadata": {},
   "source": [
    "##### ______ discuss balance_____________________"
   ]
  },
  {
   "cell_type": "code",
   "execution_count": null,
   "id": "c60f562c-cffa-40fd-a810-527ace4d67f7",
   "metadata": {},
   "outputs": [],
   "source": []
  },
  {
   "cell_type": "code",
   "execution_count": 7,
   "id": "9a06cbaf-5597-493b-ad15-4a9e2b1609db",
   "metadata": {},
   "outputs": [],
   "source": [
    "# SHOW VISUALIZATION"
   ]
  },
  {
   "cell_type": "code",
   "execution_count": null,
   "id": "5729ec7d-801f-4d3d-a830-8802d6c80aa5",
   "metadata": {},
   "outputs": [],
   "source": []
  },
  {
   "cell_type": "code",
   "execution_count": null,
   "id": "ed0e86f9-2538-42c9-8260-98314f35c45c",
   "metadata": {},
   "outputs": [],
   "source": []
  },
  {
   "cell_type": "code",
   "execution_count": 8,
   "id": "740a9d39-3424-41c5-8c93-ede7109e7984",
   "metadata": {},
   "outputs": [
    {
     "data": {
      "text/plain": [
       "True    7731\n",
       "Name: islowercase, dtype: int64"
      ]
     },
     "execution_count": 8,
     "metadata": {},
     "output_type": "execute_result"
    }
   ],
   "source": [
    "df['islowercase'] = list(map(lambda x: x.islower(), df['clean_text']))\n",
    "df['islowercase'].value_counts()"
   ]
  },
  {
   "cell_type": "markdown",
   "id": "4cf5ebb4-3f18-4c3b-ab3b-d15afad6ce64",
   "metadata": {},
   "source": [
    "## Preprocessing Data\n",
    "\n",
    "Explain __________________________________________________________________________________________\n",
    "\n",
    "will create variations of columns to be able to experiment with different options (with/without stopwords, etc)"
   ]
  },
  {
   "cell_type": "markdown",
   "id": "a5d1c407-14c0-4585-8984-1a6c5102da68",
   "metadata": {
    "tags": []
   },
   "source": [
    "### Lowercase Text"
   ]
  },
  {
   "cell_type": "markdown",
   "id": "506c9bf0-9ac4-4002-942d-2d524f8349dd",
   "metadata": {},
   "source": [
    "In this case, the text data from the downloaded dataset is already lowercase, so we do not need to take this step!"
   ]
  },
  {
   "cell_type": "code",
   "execution_count": 9,
   "id": "e2b700e0-62b7-43f4-81cf-bc5d3516a3a7",
   "metadata": {},
   "outputs": [],
   "source": [
    "# df['lower_text'] = df['clean_text'].apply(lambda x: \" \".join(x.lower() for x in x.split()))\n",
    "\n",
    "# df['lower_text'].head()"
   ]
  },
  {
   "cell_type": "code",
   "execution_count": null,
   "id": "a7df5320-76a7-4d2e-97a7-f6825b30e4de",
   "metadata": {},
   "outputs": [],
   "source": []
  },
  {
   "cell_type": "code",
   "execution_count": null,
   "id": "f58eb588-8d4a-42a8-920e-f9695d42c592",
   "metadata": {},
   "outputs": [],
   "source": []
  },
  {
   "cell_type": "markdown",
   "id": "09322531-412c-4da5-9e3f-619993014f51",
   "metadata": {
    "tags": []
   },
   "source": [
    "### Tokenize\n",
    "Explain __________________________________________________________________________________________"
   ]
  },
  {
   "cell_type": "code",
   "execution_count": 10,
   "id": "08386529-bccf-4aa9-ae5a-6b49037ab51c",
   "metadata": {},
   "outputs": [],
   "source": [
    "def tokenize_data(data):\n",
    "    \n",
    "    #(this regex code keeps words with apostrophes as single tokens)\n",
    "    pattern = \"([a-zA-Z]+(?:'[a-z]+)?)\"\n",
    "    \n",
    "    #create tokens\n",
    "    tokens = nltk.regexp_tokenize(data, pattern)\n",
    "    return [word for word in tokens]"
   ]
  },
  {
   "cell_type": "code",
   "execution_count": 11,
   "id": "e0eb6a84-f225-470d-a4ba-202c57aa1e18",
   "metadata": {},
   "outputs": [
    {
     "data": {
      "text/plain": [
       "0    [we, understand, that, most, people, who, repl...\n",
       "1    [welcome, to, r, depression, s, check, in, pos...\n",
       "2    [anyone, else, instead, of, sleeping, more, wh...\n",
       "3    [i, ve, kind, of, stuffed, around, a, lot, in,...\n",
       "4    [sleep, is, my, greatest, and, most, comfortin...\n",
       "Name: tokenized, dtype: object"
      ]
     },
     "execution_count": 11,
     "metadata": {},
     "output_type": "execute_result"
    }
   ],
   "source": [
    "df['tokenized'] = df.apply(lambda x: tokenize_data(x['clean_text']), axis=1)\n",
    "df['tokenized'].head()"
   ]
  },
  {
   "cell_type": "markdown",
   "id": "6f04abf2-cad3-42b7-8684-977692faaf4d",
   "metadata": {
    "tags": []
   },
   "source": [
    "### Stopwords\n",
    "Explain __________________________________________________________________________________________"
   ]
  },
  {
   "cell_type": "code",
   "execution_count": 12,
   "id": "800df6b0-1384-44f8-be88-bd53fa7add4c",
   "metadata": {},
   "outputs": [
    {
     "data": {
      "text/plain": [
       "[('i', 40411),\n",
       " ('to', 17965),\n",
       " ('and', 16326),\n",
       " ('a', 12638),\n",
       " ('the', 11932),\n",
       " ('my', 11430),\n",
       " ('it', 9976),\n",
       " ('of', 7738),\n",
       " ('t', 7698),\n",
       " ('me', 6941),\n",
       " ('that', 6506),\n",
       " ('in', 6088),\n",
       " ('m', 5758),\n",
       " ('but', 5427),\n",
       " ('is', 5324),\n",
       " ('for', 5196),\n",
       " ('have', 5007),\n",
       " ('this', 4557),\n",
       " ('just', 4527),\n",
       " ('so', 4337),\n",
       " ('s', 4073),\n",
       " ('with', 3869),\n",
       " ('wa', 3810),\n",
       " ('like', 3584),\n",
       " ('not', 3275),\n",
       " ('feel', 3227),\n",
       " ('can', 3217),\n",
       " ('be', 3158),\n",
       " ('on', 3075),\n",
       " ('don', 3029)]"
      ]
     },
     "execution_count": 12,
     "metadata": {},
     "output_type": "execute_result"
    }
   ],
   "source": [
    "#show top FreqDist of Tokenized Column\n",
    "FreqDist(sum(df['tokenized'], [])).most_common(30)"
   ]
  },
  {
   "cell_type": "code",
   "execution_count": null,
   "id": "dcc82b85-d472-44b0-9d2c-28a7b78cdffd",
   "metadata": {},
   "outputs": [],
   "source": []
  },
  {
   "cell_type": "code",
   "execution_count": 13,
   "id": "aa384166-9b50-4fd9-a407-cca02f15cbf0",
   "metadata": {},
   "outputs": [
    {
     "name": "stdout",
     "output_type": "stream",
     "text": [
      "['i', 'me', 'my', 'myself', 'we', 'our', 'ours', 'ourselves', 'you', \"you're\", \"you've\", \"you'll\", \"you'd\", 'your', 'yours', 'yourself', 'yourselves', 'he', 'him', 'his', 'himself', 'she', \"she's\", 'her', 'hers', 'herself', 'it', \"it's\", 'its', 'itself', 'they', 'them', 'their', 'theirs', 'themselves', 'what', 'which', 'who', 'whom', 'this', 'that', \"that'll\", 'these', 'those', 'am', 'is', 'are', 'was', 'were', 'be', 'been', 'being', 'have', 'has', 'had', 'having', 'do', 'does', 'did', 'doing', 'a', 'an', 'the', 'and', 'but', 'if', 'or', 'because', 'as', 'until', 'while', 'of', 'at', 'by', 'for', 'with', 'about', 'against', 'between', 'into', 'through', 'during', 'before', 'after', 'above', 'below', 'to', 'from', 'up', 'down', 'in', 'out', 'on', 'off', 'over', 'under', 'again', 'further', 'then', 'once', 'here', 'there', 'when', 'where', 'why', 'how', 'all', 'any', 'both', 'each', 'few', 'more', 'most', 'other', 'some', 'such', 'no', 'nor', 'not', 'only', 'own', 'same', 'so', 'than', 'too', 'very', 's', 't', 'can', 'will', 'just', 'don', \"don't\", 'should', \"should've\", 'now', 'd', 'll', 'm', 'o', 're', 've', 'y', 'ain', 'aren', \"aren't\", 'couldn', \"couldn't\", 'didn', \"didn't\", 'doesn', \"doesn't\", 'hadn', \"hadn't\", 'hasn', \"hasn't\", 'haven', \"haven't\", 'isn', \"isn't\", 'ma', 'mightn', \"mightn't\", 'mustn', \"mustn't\", 'needn', \"needn't\", 'shan', \"shan't\", 'shouldn', \"shouldn't\", 'wasn', \"wasn't\", 'weren', \"weren't\", 'won', \"won't\", 'wouldn', \"wouldn't\", ',', '.', \"'\", '?', '!', '(', ')']\n"
     ]
    }
   ],
   "source": [
    "stops = stopwords.words('english')\n",
    "\n",
    "#add punctuation\n",
    "for symbol in \",.'?!()\":\n",
    "    stops += symbol\n",
    "\n",
    "    #show example of stopwords list\n",
    "print(stops)"
   ]
  },
  {
   "cell_type": "code",
   "execution_count": null,
   "id": "1fe0272a-05ba-4fd4-8be2-8f555fefd2bb",
   "metadata": {},
   "outputs": [],
   "source": []
  },
  {
   "cell_type": "code",
   "execution_count": 14,
   "id": "90fdc8d2-abcc-4b53-9550-3dc9e62d8f76",
   "metadata": {},
   "outputs": [],
   "source": [
    "def tokenize_remove_stops(data):\n",
    "    pattern = \"([a-zA-Z]+(?:'[a-z]+)?)\"\n",
    "    tokens = nltk.regexp_tokenize(data, pattern)\n",
    "    return [word for word in tokens if word not in stops]"
   ]
  },
  {
   "cell_type": "code",
   "execution_count": 15,
   "id": "77589e97-a457-4957-b5f1-84c6006c1e6d",
   "metadata": {},
   "outputs": [
    {
     "data": {
      "text/html": [
       "<div>\n",
       "<style scoped>\n",
       "    .dataframe tbody tr th:only-of-type {\n",
       "        vertical-align: middle;\n",
       "    }\n",
       "\n",
       "    .dataframe tbody tr th {\n",
       "        vertical-align: top;\n",
       "    }\n",
       "\n",
       "    .dataframe thead th {\n",
       "        text-align: right;\n",
       "    }\n",
       "</style>\n",
       "<table border=\"1\" class=\"dataframe\">\n",
       "  <thead>\n",
       "    <tr style=\"text-align: right;\">\n",
       "      <th></th>\n",
       "      <th>tokenized</th>\n",
       "      <th>tokenized_no_stops</th>\n",
       "    </tr>\n",
       "  </thead>\n",
       "  <tbody>\n",
       "    <tr>\n",
       "      <th>0</th>\n",
       "      <td>[we, understand, that, most, people, who, repl...</td>\n",
       "      <td>[understand, people, reply, immediately, op, i...</td>\n",
       "    </tr>\n",
       "    <tr>\n",
       "      <th>1</th>\n",
       "      <td>[welcome, to, r, depression, s, check, in, pos...</td>\n",
       "      <td>[welcome, r, depression, check, post, place, t...</td>\n",
       "    </tr>\n",
       "    <tr>\n",
       "      <th>2</th>\n",
       "      <td>[anyone, else, instead, of, sleeping, more, wh...</td>\n",
       "      <td>[anyone, else, instead, sleeping, depressed, s...</td>\n",
       "    </tr>\n",
       "    <tr>\n",
       "      <th>3</th>\n",
       "      <td>[i, ve, kind, of, stuffed, around, a, lot, in,...</td>\n",
       "      <td>[kind, stuffed, around, lot, life, delaying, i...</td>\n",
       "    </tr>\n",
       "    <tr>\n",
       "      <th>4</th>\n",
       "      <td>[sleep, is, my, greatest, and, most, comfortin...</td>\n",
       "      <td>[sleep, greatest, comforting, escape, whenever...</td>\n",
       "    </tr>\n",
       "  </tbody>\n",
       "</table>\n",
       "</div>"
      ],
      "text/plain": [
       "                                           tokenized  \\\n",
       "0  [we, understand, that, most, people, who, repl...   \n",
       "1  [welcome, to, r, depression, s, check, in, pos...   \n",
       "2  [anyone, else, instead, of, sleeping, more, wh...   \n",
       "3  [i, ve, kind, of, stuffed, around, a, lot, in,...   \n",
       "4  [sleep, is, my, greatest, and, most, comfortin...   \n",
       "\n",
       "                                  tokenized_no_stops  \n",
       "0  [understand, people, reply, immediately, op, i...  \n",
       "1  [welcome, r, depression, check, post, place, t...  \n",
       "2  [anyone, else, instead, sleeping, depressed, s...  \n",
       "3  [kind, stuffed, around, lot, life, delaying, i...  \n",
       "4  [sleep, greatest, comforting, escape, whenever...  "
      ]
     },
     "execution_count": 15,
     "metadata": {},
     "output_type": "execute_result"
    }
   ],
   "source": [
    "df['tokenized_no_stops'] = df.apply(lambda x: tokenize_remove_stops(x['clean_text']), axis=1)\n",
    "\n",
    "#show difference\n",
    "df[['tokenized','tokenized_no_stops']].head()"
   ]
  },
  {
   "cell_type": "code",
   "execution_count": 16,
   "id": "24f43407-62cf-4f70-b2fe-d5b56baf04ef",
   "metadata": {},
   "outputs": [
    {
     "data": {
      "text/plain": [
       "[('wa', 3810),\n",
       " ('like', 3584),\n",
       " ('feel', 3227),\n",
       " ('get', 2316),\n",
       " ('want', 2292),\n",
       " ('know', 2283),\n",
       " ('life', 2147),\n",
       " ('time', 2069),\n",
       " ('even', 1812),\n",
       " ('day', 1688),\n",
       " ('people', 1660),\n",
       " ('really', 1617),\n",
       " ('depression', 1569),\n",
       " ('anxiety', 1548),\n",
       " ('thing', 1534),\n",
       " ('one', 1522),\n",
       " ('year', 1438),\n",
       " ('go', 1398),\n",
       " ('friend', 1297),\n",
       " ('would', 1285),\n",
       " ('think', 1280),\n",
       " ('going', 1252),\n",
       " ('ha', 1243),\n",
       " ('make', 1210),\n",
       " ('much', 1131),\n",
       " ('never', 1114),\n",
       " ('work', 1093),\n",
       " ('back', 1049),\n",
       " ('help', 1022),\n",
       " ('feeling', 948)]"
      ]
     },
     "execution_count": 16,
     "metadata": {},
     "output_type": "execute_result"
    }
   ],
   "source": [
    "#show top FreqDist now that stopwords are removed!\n",
    "freq_minus_stops = FreqDist(sum(df['tokenized_no_stops'], []))\n",
    "freq_minus_stops.most_common(30)"
   ]
  },
  {
   "cell_type": "markdown",
   "id": "6b8f2cc6-3f5e-43cb-8d84-284f148f3335",
   "metadata": {},
   "source": [
    "##### explain wa, etc __________________________________________________________"
   ]
  },
  {
   "cell_type": "markdown",
   "id": "caf73208-2a45-4476-9976-25f3c2275fe9",
   "metadata": {},
   "source": [
    "##### show size diff _______________________________________________________"
   ]
  },
  {
   "cell_type": "code",
   "execution_count": null,
   "id": "b8c04209-f5f1-4ab3-a1c7-47e071856835",
   "metadata": {},
   "outputs": [],
   "source": []
  },
  {
   "cell_type": "markdown",
   "id": "5af938aa-5242-40f0-a1a5-baa783fc6181",
   "metadata": {},
   "source": [
    "### Lemmatization\n",
    "explain __________________________________________________________________________________________"
   ]
  },
  {
   "cell_type": "code",
   "execution_count": 17,
   "id": "59c6756f-b41a-488b-bde2-bec9cd54954d",
   "metadata": {},
   "outputs": [],
   "source": [
    "lemmatizer = WordNetLemmatizer()\n",
    "\n",
    "def lemmatize_data(data):\n",
    "    return [lemmatizer.lemmatize(word) for word in data]"
   ]
  },
  {
   "cell_type": "code",
   "execution_count": 18,
   "id": "e24d86f3-7404-4c4b-a2c1-61d5f02fa3ba",
   "metadata": {},
   "outputs": [
    {
     "data": {
      "text/plain": [
       "0    [understand, people, reply, immediately, op, i...\n",
       "1    [welcome, r, depression, check, post, place, t...\n",
       "2    [anyone, else, instead, sleeping, depressed, s...\n",
       "3    [kind, stuffed, around, lot, life, delaying, i...\n",
       "4    [sleep, greatest, comforting, escape, whenever...\n",
       "Name: lemmatized_no_stops, dtype: object"
      ]
     },
     "execution_count": 18,
     "metadata": {},
     "output_type": "execute_result"
    }
   ],
   "source": [
    "df['lemmatized_no_stops'] = df['tokenized_no_stops'].apply(lemmatize_data)\n",
    "df['lemmatized_no_stops'].head()"
   ]
  },
  {
   "cell_type": "markdown",
   "id": "6ec780d5-0186-417c-81fd-990e4fd550b4",
   "metadata": {},
   "source": [
    "#### Rejoining Words\n",
    "final step for later use, explain"
   ]
  },
  {
   "cell_type": "code",
   "execution_count": null,
   "id": "4e3a1d15-b4c4-469e-a3c2-c2695bd9e1d4",
   "metadata": {},
   "outputs": [],
   "source": []
  },
  {
   "cell_type": "code",
   "execution_count": 19,
   "id": "92826b39-28ee-45d2-b58c-69586fe08c59",
   "metadata": {},
   "outputs": [
    {
     "data": {
      "text/plain": [
       "0       understand people reply immediately op invitat...\n",
       "1       welcome r depression check post place take mom...\n",
       "2       anyone else instead sleeping depressed stay ni...\n",
       "3       kind stuffed around lot life delaying inevitab...\n",
       "4       sleep greatest comforting escape whenever wake...\n",
       "                              ...                        \n",
       "7726                                                 snow\n",
       "7727                                 moulin rouge mad cry\n",
       "7728                        trying shout find people list\n",
       "7729    ughh find red sox hat got ta wear creepy nick ...\n",
       "7730    slept wonderfully finally tried swatching new ...\n",
       "Name: rejoined, Length: 7731, dtype: object"
      ]
     },
     "execution_count": 19,
     "metadata": {},
     "output_type": "execute_result"
    }
   ],
   "source": [
    "def rejoin_words(column):\n",
    "    return ( \" \".join(column))\n",
    "\n",
    "df['rejoined']= df.apply(lambda x: rejoin_words(x['lemmatized_no_stops']), axis=1)\n",
    "df['rejoined']"
   ]
  },
  {
   "cell_type": "code",
   "execution_count": null,
   "id": "c8866b8e-9c89-4c33-bc45-211644bcfa33",
   "metadata": {},
   "outputs": [],
   "source": []
  },
  {
   "cell_type": "code",
   "execution_count": null,
   "id": "0ed16292-218c-4bef-aeee-5ff7a298f948",
   "metadata": {},
   "outputs": [],
   "source": []
  },
  {
   "cell_type": "code",
   "execution_count": null,
   "id": "8cb1bdc0-73d7-4b1a-a80e-8dc94f5726f1",
   "metadata": {},
   "outputs": [],
   "source": []
  },
  {
   "cell_type": "code",
   "execution_count": null,
   "id": "3c2761b1-9c7d-4529-b0ed-30ee0ef3160a",
   "metadata": {},
   "outputs": [],
   "source": []
  },
  {
   "cell_type": "markdown",
   "id": "1e9f9b2e-ab37-45f3-bfe8-48e1ed9eb44a",
   "metadata": {},
   "source": [
    "### The Peprocessed Dataset\n",
    "##### explain _______________________________________"
   ]
  },
  {
   "cell_type": "code",
   "execution_count": 20,
   "id": "fe6e6834-ce9c-4f1d-9c63-d950c0c19e2e",
   "metadata": {},
   "outputs": [
    {
     "data": {
      "text/html": [
       "<div>\n",
       "<style scoped>\n",
       "    .dataframe tbody tr th:only-of-type {\n",
       "        vertical-align: middle;\n",
       "    }\n",
       "\n",
       "    .dataframe tbody tr th {\n",
       "        vertical-align: top;\n",
       "    }\n",
       "\n",
       "    .dataframe thead th {\n",
       "        text-align: right;\n",
       "    }\n",
       "</style>\n",
       "<table border=\"1\" class=\"dataframe\">\n",
       "  <thead>\n",
       "    <tr style=\"text-align: right;\">\n",
       "      <th></th>\n",
       "      <th>clean_text</th>\n",
       "      <th>rejoined</th>\n",
       "    </tr>\n",
       "  </thead>\n",
       "  <tbody>\n",
       "    <tr>\n",
       "      <th>0</th>\n",
       "      <td>we understand that most people who reply immed...</td>\n",
       "      <td>understand people reply immediately op invitat...</td>\n",
       "    </tr>\n",
       "    <tr>\n",
       "      <th>1</th>\n",
       "      <td>welcome to r depression s check in post a plac...</td>\n",
       "      <td>welcome r depression check post place take mom...</td>\n",
       "    </tr>\n",
       "    <tr>\n",
       "      <th>2</th>\n",
       "      <td>anyone else instead of sleeping more when depr...</td>\n",
       "      <td>anyone else instead sleeping depressed stay ni...</td>\n",
       "    </tr>\n",
       "    <tr>\n",
       "      <th>3</th>\n",
       "      <td>i ve kind of stuffed around a lot in my life d...</td>\n",
       "      <td>kind stuffed around lot life delaying inevitab...</td>\n",
       "    </tr>\n",
       "    <tr>\n",
       "      <th>4</th>\n",
       "      <td>sleep is my greatest and most comforting escap...</td>\n",
       "      <td>sleep greatest comforting escape whenever wake...</td>\n",
       "    </tr>\n",
       "  </tbody>\n",
       "</table>\n",
       "</div>"
      ],
      "text/plain": [
       "                                          clean_text  \\\n",
       "0  we understand that most people who reply immed...   \n",
       "1  welcome to r depression s check in post a plac...   \n",
       "2  anyone else instead of sleeping more when depr...   \n",
       "3  i ve kind of stuffed around a lot in my life d...   \n",
       "4  sleep is my greatest and most comforting escap...   \n",
       "\n",
       "                                            rejoined  \n",
       "0  understand people reply immediately op invitat...  \n",
       "1  welcome r depression check post place take mom...  \n",
       "2  anyone else instead sleeping depressed stay ni...  \n",
       "3  kind stuffed around lot life delaying inevitab...  \n",
       "4  sleep greatest comforting escape whenever wake...  "
      ]
     },
     "execution_count": 20,
     "metadata": {},
     "output_type": "execute_result"
    }
   ],
   "source": [
    "#show df minus the columns we dont need for this analysis\n",
    "df[['clean_text', 'rejoined']].head()"
   ]
  },
  {
   "cell_type": "markdown",
   "id": "ba762689-727e-4bb8-a611-8a00353633a9",
   "metadata": {},
   "source": [
    "#### Check for Significant Words in Corpus\n",
    "\n",
    "specifically words that (to a human observer) may be dead giveaways for depression"
   ]
  },
  {
   "cell_type": "code",
   "execution_count": 21,
   "id": "89296c1a-2731-4735-b80a-2f56b64a1c17",
   "metadata": {},
   "outputs": [],
   "source": [
    "#get 50 most common words from each class\n",
    "depressed_top = FreqDist(sum(df['tokenized_no_stops'][df['is_depression']==1], [])).most_common(50)\n",
    "undiag_top = FreqDist(sum(df['tokenized_no_stops'][df['is_depression']==0], [])).most_common(50)"
   ]
  },
  {
   "cell_type": "code",
   "execution_count": 22,
   "id": "82eba662-f7bb-43de-bd2e-9214d8cf5fbd",
   "metadata": {
    "tags": []
   },
   "outputs": [
    {
     "data": {
      "text/plain": [
       "[('wa', 3526),\n",
       " ('like', 3398),\n",
       " ('feel', 3115),\n",
       " ('know', 2153),\n",
       " ('want', 2135),\n",
       " ('life', 2109),\n",
       " ('get', 2084),\n",
       " ('time', 1908),\n",
       " ('even', 1751),\n",
       " ('people', 1603),\n",
       " ('depression', 1569),\n",
       " ('anxiety', 1545),\n",
       " ('really', 1480),\n",
       " ('thing', 1460),\n",
       " ('day', 1447),\n",
       " ('year', 1395),\n",
       " ('one', 1373),\n",
       " ('friend', 1249),\n",
       " ('would', 1224),\n",
       " ('go', 1183),\n",
       " ('think', 1180),\n",
       " ('make', 1132),\n",
       " ('ha', 1087),\n",
       " ('going', 1083),\n",
       " ('never', 1067),\n",
       " ('much', 1018),\n",
       " ('help', 985),\n",
       " ('back', 882),\n",
       " ('thought', 881),\n",
       " ('feeling', 878),\n",
       " ('work', 823),\n",
       " ('im', 814),\n",
       " ('way', 792),\n",
       " ('anything', 786),\n",
       " ('always', 765),\n",
       " ('everything', 765),\n",
       " ('anyone', 762),\n",
       " ('still', 747),\n",
       " ('something', 741),\n",
       " ('got', 732),\n",
       " ('every', 703),\n",
       " ('bad', 702),\n",
       " ('anymore', 701),\n",
       " ('also', 697),\n",
       " ('better', 690),\n",
       " ('see', 690),\n",
       " ('good', 689),\n",
       " ('could', 684),\n",
       " ('need', 667),\n",
       " ('someone', 646)]"
      ]
     },
     "execution_count": 22,
     "metadata": {},
     "output_type": "execute_result"
    }
   ],
   "source": [
    "depressed_top"
   ]
  },
  {
   "cell_type": "code",
   "execution_count": 23,
   "id": "185f6bb9-aa4a-4f59-9752-4891e6ec9b1e",
   "metadata": {},
   "outputs": [
    {
     "data": {
      "text/plain": [
       "[('like', 3398),\n",
       " ('know', 2153),\n",
       " ('life', 2109),\n",
       " ('time', 1908),\n",
       " ('even', 1751),\n",
       " ('people', 1603),\n",
       " ('depression', 1569),\n",
       " ('anxiety', 1545),\n",
       " ('thing', 1460),\n",
       " ('year', 1395),\n",
       " ('friend', 1249),\n",
       " ('would', 1224),\n",
       " ('think', 1180),\n",
       " ('make', 1132),\n",
       " ('going', 1083),\n",
       " ('never', 1067),\n",
       " ('help', 985),\n",
       " ('thought', 881),\n",
       " ('feeling', 878),\n",
       " ('im', 814),\n",
       " ('way', 792),\n",
       " ('anything', 786),\n",
       " ('always', 765),\n",
       " ('everything', 765),\n",
       " ('anyone', 762),\n",
       " ('something', 741),\n",
       " ('every', 703),\n",
       " ('anymore', 701),\n",
       " ('also', 697),\n",
       " ('better', 690),\n",
       " ('good', 689),\n",
       " ('could', 684),\n",
       " ('someone', 646)]"
      ]
     },
     "execution_count": 23,
     "metadata": {},
     "output_type": "execute_result"
    }
   ],
   "source": [
    "for x in depressed_top:\n",
    "    for y in undiag_top:\n",
    "        if x[0] in y:\n",
    "            depressed_top.remove(x)\n",
    "depressed_top"
   ]
  },
  {
   "cell_type": "markdown",
   "id": "15ad7270-7647-4652-b34c-9bc48b594f4d",
   "metadata": {},
   "source": [
    "##### explanation _______________________________________________________"
   ]
  },
  {
   "cell_type": "markdown",
   "id": "e8579305-93a5-426c-9a20-94e6684a7a96",
   "metadata": {},
   "source": [
    "# Modeling"
   ]
  },
  {
   "cell_type": "markdown",
   "id": "29f51311-4a58-4c0e-be48-fffc2d703798",
   "metadata": {
    "tags": []
   },
   "source": [
    "##### __EXPLAIN STARTING FEATURE CHOICE, TARGET, ETC__\n",
    "## ____\n",
    "\n",
    "what \"simple data\" means\n",
    "\n",
    "also talk about data sizes\n",
    "\n",
    "starting original"
   ]
  },
  {
   "cell_type": "markdown",
   "id": "180194c4-0410-44f6-a954-a2985dc38a12",
   "metadata": {},
   "source": [
    "#### Splitting Data"
   ]
  },
  {
   "cell_type": "code",
   "execution_count": 24,
   "id": "a8b68d20-c4f8-4605-899b-7e08922e9a6f",
   "metadata": {},
   "outputs": [],
   "source": [
    "X = df['clean_text']\n",
    "y = df['is_depression']\n",
    "\n",
    "#train_test_split\n",
    "X_train, X_test, y_train, y_test = train_test_split(X, y, stratify=y, test_size=0.2, random_state=42)"
   ]
  },
  {
   "cell_type": "markdown",
   "id": "650957de-cce1-4732-a06e-6ed5b8e10561",
   "metadata": {},
   "source": [
    "### explain vectorizer\n",
    "\n",
    "discuss max features"
   ]
  },
  {
   "cell_type": "code",
   "execution_count": 25,
   "id": "060a0f69-446b-46be-b63f-c0786aa45f07",
   "metadata": {},
   "outputs": [
    {
     "data": {
      "text/html": [
       "<div>\n",
       "<style scoped>\n",
       "    .dataframe tbody tr th:only-of-type {\n",
       "        vertical-align: middle;\n",
       "    }\n",
       "\n",
       "    .dataframe tbody tr th {\n",
       "        vertical-align: top;\n",
       "    }\n",
       "\n",
       "    .dataframe thead th {\n",
       "        text-align: right;\n",
       "    }\n",
       "</style>\n",
       "<table border=\"1\" class=\"dataframe\">\n",
       "  <thead>\n",
       "    <tr style=\"text-align: right;\">\n",
       "      <th></th>\n",
       "      <th>about</th>\n",
       "      <th>all</th>\n",
       "      <th>always</th>\n",
       "      <th>am</th>\n",
       "      <th>an</th>\n",
       "      <th>and</th>\n",
       "      <th>anxiety</th>\n",
       "      <th>any</th>\n",
       "      <th>anyone</th>\n",
       "      <th>are</th>\n",
       "      <th>...</th>\n",
       "      <th>we</th>\n",
       "      <th>what</th>\n",
       "      <th>when</th>\n",
       "      <th>who</th>\n",
       "      <th>will</th>\n",
       "      <th>with</th>\n",
       "      <th>work</th>\n",
       "      <th>would</th>\n",
       "      <th>year</th>\n",
       "      <th>you</th>\n",
       "    </tr>\n",
       "  </thead>\n",
       "  <tbody>\n",
       "    <tr>\n",
       "      <th>0</th>\n",
       "      <td>0.000000</td>\n",
       "      <td>0.000000</td>\n",
       "      <td>0.000000</td>\n",
       "      <td>0.0</td>\n",
       "      <td>0.0</td>\n",
       "      <td>0.000000</td>\n",
       "      <td>0.000000</td>\n",
       "      <td>0.000000</td>\n",
       "      <td>0.000000</td>\n",
       "      <td>0.0</td>\n",
       "      <td>...</td>\n",
       "      <td>0.000000</td>\n",
       "      <td>0.000000</td>\n",
       "      <td>0.000000</td>\n",
       "      <td>0.000000</td>\n",
       "      <td>0.0</td>\n",
       "      <td>0.000000</td>\n",
       "      <td>0.0</td>\n",
       "      <td>0.000000</td>\n",
       "      <td>0.000000</td>\n",
       "      <td>0.000000</td>\n",
       "    </tr>\n",
       "    <tr>\n",
       "      <th>1</th>\n",
       "      <td>0.000000</td>\n",
       "      <td>0.000000</td>\n",
       "      <td>0.000000</td>\n",
       "      <td>0.0</td>\n",
       "      <td>0.0</td>\n",
       "      <td>0.000000</td>\n",
       "      <td>0.000000</td>\n",
       "      <td>0.000000</td>\n",
       "      <td>0.000000</td>\n",
       "      <td>0.0</td>\n",
       "      <td>...</td>\n",
       "      <td>0.538367</td>\n",
       "      <td>0.000000</td>\n",
       "      <td>0.451680</td>\n",
       "      <td>0.000000</td>\n",
       "      <td>0.0</td>\n",
       "      <td>0.000000</td>\n",
       "      <td>0.0</td>\n",
       "      <td>0.000000</td>\n",
       "      <td>0.000000</td>\n",
       "      <td>0.000000</td>\n",
       "    </tr>\n",
       "    <tr>\n",
       "      <th>2</th>\n",
       "      <td>0.188074</td>\n",
       "      <td>0.035935</td>\n",
       "      <td>0.049669</td>\n",
       "      <td>0.0</td>\n",
       "      <td>0.0</td>\n",
       "      <td>0.314132</td>\n",
       "      <td>0.042052</td>\n",
       "      <td>0.179436</td>\n",
       "      <td>0.000000</td>\n",
       "      <td>0.0</td>\n",
       "      <td>...</td>\n",
       "      <td>0.000000</td>\n",
       "      <td>0.075859</td>\n",
       "      <td>0.080886</td>\n",
       "      <td>0.047301</td>\n",
       "      <td>0.0</td>\n",
       "      <td>0.065732</td>\n",
       "      <td>0.0</td>\n",
       "      <td>0.044510</td>\n",
       "      <td>0.086666</td>\n",
       "      <td>0.036945</td>\n",
       "    </tr>\n",
       "    <tr>\n",
       "      <th>3</th>\n",
       "      <td>0.000000</td>\n",
       "      <td>0.000000</td>\n",
       "      <td>0.000000</td>\n",
       "      <td>0.0</td>\n",
       "      <td>0.0</td>\n",
       "      <td>0.000000</td>\n",
       "      <td>0.000000</td>\n",
       "      <td>0.000000</td>\n",
       "      <td>0.000000</td>\n",
       "      <td>0.0</td>\n",
       "      <td>...</td>\n",
       "      <td>0.000000</td>\n",
       "      <td>0.000000</td>\n",
       "      <td>0.000000</td>\n",
       "      <td>0.000000</td>\n",
       "      <td>0.0</td>\n",
       "      <td>0.000000</td>\n",
       "      <td>0.0</td>\n",
       "      <td>0.000000</td>\n",
       "      <td>0.000000</td>\n",
       "      <td>0.000000</td>\n",
       "    </tr>\n",
       "    <tr>\n",
       "      <th>4</th>\n",
       "      <td>0.000000</td>\n",
       "      <td>0.000000</td>\n",
       "      <td>0.000000</td>\n",
       "      <td>0.0</td>\n",
       "      <td>0.0</td>\n",
       "      <td>0.188034</td>\n",
       "      <td>0.000000</td>\n",
       "      <td>0.000000</td>\n",
       "      <td>0.000000</td>\n",
       "      <td>0.0</td>\n",
       "      <td>...</td>\n",
       "      <td>0.000000</td>\n",
       "      <td>0.000000</td>\n",
       "      <td>0.000000</td>\n",
       "      <td>0.000000</td>\n",
       "      <td>0.0</td>\n",
       "      <td>0.000000</td>\n",
       "      <td>0.0</td>\n",
       "      <td>0.346354</td>\n",
       "      <td>0.000000</td>\n",
       "      <td>0.287489</td>\n",
       "    </tr>\n",
       "    <tr>\n",
       "      <th>...</th>\n",
       "      <td>...</td>\n",
       "      <td>...</td>\n",
       "      <td>...</td>\n",
       "      <td>...</td>\n",
       "      <td>...</td>\n",
       "      <td>...</td>\n",
       "      <td>...</td>\n",
       "      <td>...</td>\n",
       "      <td>...</td>\n",
       "      <td>...</td>\n",
       "      <td>...</td>\n",
       "      <td>...</td>\n",
       "      <td>...</td>\n",
       "      <td>...</td>\n",
       "      <td>...</td>\n",
       "      <td>...</td>\n",
       "      <td>...</td>\n",
       "      <td>...</td>\n",
       "      <td>...</td>\n",
       "      <td>...</td>\n",
       "      <td>...</td>\n",
       "    </tr>\n",
       "    <tr>\n",
       "      <th>6179</th>\n",
       "      <td>0.000000</td>\n",
       "      <td>0.087283</td>\n",
       "      <td>0.000000</td>\n",
       "      <td>0.0</td>\n",
       "      <td>0.0</td>\n",
       "      <td>0.176076</td>\n",
       "      <td>0.000000</td>\n",
       "      <td>0.000000</td>\n",
       "      <td>0.000000</td>\n",
       "      <td>0.0</td>\n",
       "      <td>...</td>\n",
       "      <td>0.000000</td>\n",
       "      <td>0.092127</td>\n",
       "      <td>0.000000</td>\n",
       "      <td>0.000000</td>\n",
       "      <td>0.0</td>\n",
       "      <td>0.159657</td>\n",
       "      <td>0.0</td>\n",
       "      <td>0.000000</td>\n",
       "      <td>0.000000</td>\n",
       "      <td>0.000000</td>\n",
       "    </tr>\n",
       "    <tr>\n",
       "      <th>6180</th>\n",
       "      <td>0.000000</td>\n",
       "      <td>0.000000</td>\n",
       "      <td>0.000000</td>\n",
       "      <td>0.0</td>\n",
       "      <td>0.0</td>\n",
       "      <td>0.000000</td>\n",
       "      <td>0.000000</td>\n",
       "      <td>0.000000</td>\n",
       "      <td>0.000000</td>\n",
       "      <td>0.0</td>\n",
       "      <td>...</td>\n",
       "      <td>0.000000</td>\n",
       "      <td>0.000000</td>\n",
       "      <td>0.000000</td>\n",
       "      <td>0.000000</td>\n",
       "      <td>0.0</td>\n",
       "      <td>0.000000</td>\n",
       "      <td>0.0</td>\n",
       "      <td>0.000000</td>\n",
       "      <td>0.000000</td>\n",
       "      <td>0.000000</td>\n",
       "    </tr>\n",
       "    <tr>\n",
       "      <th>6181</th>\n",
       "      <td>0.000000</td>\n",
       "      <td>0.000000</td>\n",
       "      <td>0.000000</td>\n",
       "      <td>0.0</td>\n",
       "      <td>0.0</td>\n",
       "      <td>0.000000</td>\n",
       "      <td>0.000000</td>\n",
       "      <td>0.000000</td>\n",
       "      <td>0.000000</td>\n",
       "      <td>0.0</td>\n",
       "      <td>...</td>\n",
       "      <td>0.000000</td>\n",
       "      <td>0.000000</td>\n",
       "      <td>0.000000</td>\n",
       "      <td>0.000000</td>\n",
       "      <td>0.0</td>\n",
       "      <td>0.000000</td>\n",
       "      <td>0.0</td>\n",
       "      <td>0.000000</td>\n",
       "      <td>0.000000</td>\n",
       "      <td>0.838652</td>\n",
       "    </tr>\n",
       "    <tr>\n",
       "      <th>6182</th>\n",
       "      <td>0.000000</td>\n",
       "      <td>0.000000</td>\n",
       "      <td>0.000000</td>\n",
       "      <td>0.0</td>\n",
       "      <td>0.0</td>\n",
       "      <td>0.242542</td>\n",
       "      <td>0.000000</td>\n",
       "      <td>0.000000</td>\n",
       "      <td>0.000000</td>\n",
       "      <td>0.0</td>\n",
       "      <td>...</td>\n",
       "      <td>0.000000</td>\n",
       "      <td>0.000000</td>\n",
       "      <td>0.000000</td>\n",
       "      <td>0.000000</td>\n",
       "      <td>0.0</td>\n",
       "      <td>0.000000</td>\n",
       "      <td>0.0</td>\n",
       "      <td>0.000000</td>\n",
       "      <td>0.000000</td>\n",
       "      <td>0.000000</td>\n",
       "    </tr>\n",
       "    <tr>\n",
       "      <th>6183</th>\n",
       "      <td>0.089870</td>\n",
       "      <td>0.000000</td>\n",
       "      <td>0.000000</td>\n",
       "      <td>0.0</td>\n",
       "      <td>0.0</td>\n",
       "      <td>0.115466</td>\n",
       "      <td>0.000000</td>\n",
       "      <td>0.000000</td>\n",
       "      <td>0.112262</td>\n",
       "      <td>0.0</td>\n",
       "      <td>...</td>\n",
       "      <td>0.000000</td>\n",
       "      <td>0.000000</td>\n",
       "      <td>0.000000</td>\n",
       "      <td>0.000000</td>\n",
       "      <td>0.0</td>\n",
       "      <td>0.000000</td>\n",
       "      <td>0.0</td>\n",
       "      <td>0.106343</td>\n",
       "      <td>0.103533</td>\n",
       "      <td>0.000000</td>\n",
       "    </tr>\n",
       "  </tbody>\n",
       "</table>\n",
       "<p>6184 rows × 100 columns</p>\n",
       "</div>"
      ],
      "text/plain": [
       "         about       all    always   am   an       and   anxiety       any  \\\n",
       "0     0.000000  0.000000  0.000000  0.0  0.0  0.000000  0.000000  0.000000   \n",
       "1     0.000000  0.000000  0.000000  0.0  0.0  0.000000  0.000000  0.000000   \n",
       "2     0.188074  0.035935  0.049669  0.0  0.0  0.314132  0.042052  0.179436   \n",
       "3     0.000000  0.000000  0.000000  0.0  0.0  0.000000  0.000000  0.000000   \n",
       "4     0.000000  0.000000  0.000000  0.0  0.0  0.188034  0.000000  0.000000   \n",
       "...        ...       ...       ...  ...  ...       ...       ...       ...   \n",
       "6179  0.000000  0.087283  0.000000  0.0  0.0  0.176076  0.000000  0.000000   \n",
       "6180  0.000000  0.000000  0.000000  0.0  0.0  0.000000  0.000000  0.000000   \n",
       "6181  0.000000  0.000000  0.000000  0.0  0.0  0.000000  0.000000  0.000000   \n",
       "6182  0.000000  0.000000  0.000000  0.0  0.0  0.242542  0.000000  0.000000   \n",
       "6183  0.089870  0.000000  0.000000  0.0  0.0  0.115466  0.000000  0.000000   \n",
       "\n",
       "        anyone  are  ...        we      what      when       who  will  \\\n",
       "0     0.000000  0.0  ...  0.000000  0.000000  0.000000  0.000000   0.0   \n",
       "1     0.000000  0.0  ...  0.538367  0.000000  0.451680  0.000000   0.0   \n",
       "2     0.000000  0.0  ...  0.000000  0.075859  0.080886  0.047301   0.0   \n",
       "3     0.000000  0.0  ...  0.000000  0.000000  0.000000  0.000000   0.0   \n",
       "4     0.000000  0.0  ...  0.000000  0.000000  0.000000  0.000000   0.0   \n",
       "...        ...  ...  ...       ...       ...       ...       ...   ...   \n",
       "6179  0.000000  0.0  ...  0.000000  0.092127  0.000000  0.000000   0.0   \n",
       "6180  0.000000  0.0  ...  0.000000  0.000000  0.000000  0.000000   0.0   \n",
       "6181  0.000000  0.0  ...  0.000000  0.000000  0.000000  0.000000   0.0   \n",
       "6182  0.000000  0.0  ...  0.000000  0.000000  0.000000  0.000000   0.0   \n",
       "6183  0.112262  0.0  ...  0.000000  0.000000  0.000000  0.000000   0.0   \n",
       "\n",
       "          with  work     would      year       you  \n",
       "0     0.000000   0.0  0.000000  0.000000  0.000000  \n",
       "1     0.000000   0.0  0.000000  0.000000  0.000000  \n",
       "2     0.065732   0.0  0.044510  0.086666  0.036945  \n",
       "3     0.000000   0.0  0.000000  0.000000  0.000000  \n",
       "4     0.000000   0.0  0.346354  0.000000  0.287489  \n",
       "...        ...   ...       ...       ...       ...  \n",
       "6179  0.159657   0.0  0.000000  0.000000  0.000000  \n",
       "6180  0.000000   0.0  0.000000  0.000000  0.000000  \n",
       "6181  0.000000   0.0  0.000000  0.000000  0.838652  \n",
       "6182  0.000000   0.0  0.000000  0.000000  0.000000  \n",
       "6183  0.000000   0.0  0.106343  0.103533  0.000000  \n",
       "\n",
       "[6184 rows x 100 columns]"
      ]
     },
     "execution_count": 25,
     "metadata": {},
     "output_type": "execute_result"
    }
   ],
   "source": [
    "#max features 100 as a starting point\n",
    "vectorizer = TfidfVectorizer(max_features=100)\n",
    "\n",
    "X_train_vectorized = vectorizer.fit_transform(X_train)\n",
    "\n",
    "# Visually inspect the vectorized data\n",
    "pd.DataFrame.sparse.from_spmatrix(X_train_vectorized, columns=vectorizer.get_feature_names())"
   ]
  },
  {
   "cell_type": "markdown",
   "id": "c0c2f3ee-a411-413e-842d-29630db29b3f",
   "metadata": {
    "tags": []
   },
   "source": [
    "### Metrics and Scoring\n",
    "explain metric options\n",
    "\n",
    "explain all in this context, but focus on acc, record other scores as well\n",
    "\n",
    "ideal scores"
   ]
  },
  {
   "cell_type": "code",
   "execution_count": 26,
   "id": "510272a3-315a-4a8f-83a2-5bcb081d462e",
   "metadata": {},
   "outputs": [],
   "source": [
    "#create score df\n",
    "score_df = pd.DataFrame(columns = ['Name','Accuracy', 'Recall', 'Precision', 'F1'])"
   ]
  },
  {
   "cell_type": "code",
   "execution_count": 27,
   "id": "b2e5698c-b01a-4688-bec9-dd4382759b50",
   "metadata": {},
   "outputs": [],
   "source": [
    "def update_score_df(name):\n",
    "    acc = accuracy_score(y_test, y_pred)\n",
    "    prec = precision_score(y_test, y_pred)\n",
    "    recall = recall_score(y_test, y_pred)\n",
    "    f1 =f1_score(y_test, y_pred)\n",
    "    \n",
    "    #create new df entry\n",
    "    entry = {'Name': name, 'Accuracy': acc, 'Recall': recall, 'Precision': prec, 'F1':f1}\n",
    "    #print('adding: ',entry)\n",
    "    return entry"
   ]
  },
  {
   "cell_type": "markdown",
   "id": "365dff7f-89e3-497a-971a-9d50bf443ab1",
   "metadata": {
    "tags": []
   },
   "source": [
    "## Baseline Model\n",
    "explain model choice\n"
   ]
  },
  {
   "cell_type": "code",
   "execution_count": 28,
   "id": "74b1816a-c3f4-4c85-ac75-be65f50e951b",
   "metadata": {},
   "outputs": [
    {
     "data": {
      "text/plain": [
       "array([0.8367017 , 0.82053355, 0.82295877, 0.82700081, 0.82281553])"
      ]
     },
     "execution_count": 28,
     "metadata": {},
     "output_type": "execute_result"
    }
   ],
   "source": [
    "#model name for score keeping\n",
    "model_name = 'Baseline - MultiNB'\n",
    "\n",
    "nb_model = MultinomialNB()\n",
    "\n",
    "baseline_cv = cross_val_score(nb_model, X_train_vectorized, y_train)\n",
    "baseline_cv"
   ]
  },
  {
   "cell_type": "markdown",
   "id": "77230fcf-55cc-4033-8389-90ca56f454dd",
   "metadata": {},
   "source": [
    "##### explain cross val score, why its so high _______________________________________"
   ]
  },
  {
   "cell_type": "code",
   "execution_count": 29,
   "id": "0f10b6b3-35e0-4484-b87c-9c5d133080bf",
   "metadata": {},
   "outputs": [
    {
     "data": {
      "text/plain": [
       "0    0.504528\n",
       "1    0.495472\n",
       "Name: is_depression, dtype: float64"
      ]
     },
     "execution_count": 29,
     "metadata": {},
     "output_type": "execute_result"
    }
   ],
   "source": [
    "#reminder that true values are balanced evenly:\n",
    "y_train.value_counts(normalize=True)"
   ]
  },
  {
   "cell_type": "markdown",
   "id": "d3d3361b-81b1-43c1-bdf9-1bdd5bcdb3ee",
   "metadata": {},
   "source": [
    "### Evaluate Model on Test Data"
   ]
  },
  {
   "cell_type": "code",
   "execution_count": 30,
   "id": "fa9bdd66-456a-4271-aaf0-3b8b2f4f662e",
   "metadata": {},
   "outputs": [],
   "source": [
    "#fit model to train data\n",
    "nb_model.fit(X_train_vectorized, y_train)\n",
    "\n",
    "#vectorize test data\n",
    "vectorizer = TfidfVectorizer(max_features=100)\n",
    "X_test_vectorized = vectorizer.fit_transform(X_test)\n",
    "\n",
    "#predict on test data\n",
    "y_pred = nb_model.predict(X_test_vectorized)"
   ]
  },
  {
   "cell_type": "code",
   "execution_count": 31,
   "id": "d91b5e2b-f696-41df-85ae-c093dd239b5a",
   "metadata": {},
   "outputs": [],
   "source": [
    "# create confusion matrix helper function:\n",
    "def plot_confusion(name):\n",
    "\n",
    "    #confusion matrix for test data\n",
    "    conf_matrix = confusion_matrix(y_test,y_pred)\n",
    "\n",
    "    # plot confusion matrix values\n",
    "    sns.heatmap(\n",
    "    conf_matrix, \n",
    "    annot=True, \n",
    "    cmap='Blues', \n",
    "    fmt='0.5g'\n",
    "    )\n",
    "\n",
    "    plt.xlabel('Predicted Label')\n",
    "    plt.ylabel('True Label')\n",
    "    plt.title(name)\n",
    "\n",
    "    plt.savefig('./img/'+name+'.png')\n",
    "    plt.show()"
   ]
  },
  {
   "cell_type": "code",
   "execution_count": 32,
   "id": "8fdb4306-3cad-47cc-91eb-1718f048ae47",
   "metadata": {
    "tags": []
   },
   "outputs": [
    {
     "name": "stdout",
     "output_type": "stream",
     "text": [
      "              precision    recall  f1-score   support\n",
      "\n",
      "           0       0.70      0.65      0.67       780\n",
      "           1       0.67      0.72      0.69       767\n",
      "\n",
      "    accuracy                           0.68      1547\n",
      "   macro avg       0.68      0.68      0.68      1547\n",
      "weighted avg       0.68      0.68      0.68      1547\n",
      "\n"
     ]
    }
   ],
   "source": [
    "print(classification_report(y_test, y_pred))"
   ]
  },
  {
   "cell_type": "code",
   "execution_count": 33,
   "id": "c7793359-3c71-4c5f-9f50-181d5806b246",
   "metadata": {},
   "outputs": [
    {
     "data": {
      "image/png": "[encoded data removed]",
      "text/plain": [
       "<Figure size 432x288 with 2 Axes>"
      ]
     },
     "metadata": {
      "needs_background": "light"
     },
     "output_type": "display_data"
    }
   ],
   "source": [
    "plot_confusion(model_name)"
   ]
  },
  {
   "cell_type": "code",
   "execution_count": 34,
   "id": "212f9cdc-a579-43e5-991c-b677ba3fc01f",
   "metadata": {
    "tags": []
   },
   "outputs": [
    {
     "data": {
      "text/html": [
       "<div>\n",
       "<style scoped>\n",
       "    .dataframe tbody tr th:only-of-type {\n",
       "        vertical-align: middle;\n",
       "    }\n",
       "\n",
       "    .dataframe tbody tr th {\n",
       "        vertical-align: top;\n",
       "    }\n",
       "\n",
       "    .dataframe thead th {\n",
       "        text-align: right;\n",
       "    }\n",
       "</style>\n",
       "<table border=\"1\" class=\"dataframe\">\n",
       "  <thead>\n",
       "    <tr style=\"text-align: right;\">\n",
       "      <th></th>\n",
       "      <th>Name</th>\n",
       "      <th>Accuracy</th>\n",
       "      <th>Recall</th>\n",
       "      <th>Precision</th>\n",
       "      <th>F1</th>\n",
       "    </tr>\n",
       "  </thead>\n",
       "  <tbody>\n",
       "    <tr>\n",
       "      <th>0</th>\n",
       "      <td>Baseline - MultiNB</td>\n",
       "      <td>0.683258</td>\n",
       "      <td>0.720991</td>\n",
       "      <td>0.667069</td>\n",
       "      <td>0.692982</td>\n",
       "    </tr>\n",
       "  </tbody>\n",
       "</table>\n",
       "</div>"
      ],
      "text/plain": [
       "                 Name  Accuracy    Recall  Precision        F1\n",
       "0  Baseline - MultiNB  0.683258  0.720991   0.667069  0.692982"
      ]
     },
     "execution_count": 34,
     "metadata": {},
     "output_type": "execute_result"
    }
   ],
   "source": [
    "score_df = score_df.append(update_score_df(model_name), ignore_index=True)\n",
    "score_df"
   ]
  },
  {
   "cell_type": "markdown",
   "id": "80d4e9fc-1dbd-4aa7-850f-cda5066ac6d9",
   "metadata": {
    "tags": []
   },
   "source": [
    "##### explanation of results _____________________________________________________\n"
   ]
  },
  {
   "cell_type": "markdown",
   "id": "4ce08059-8818-4aa0-9a86-74745a663f0d",
   "metadata": {},
   "source": [
    "\n",
    "##### coefficients etc ____________________________"
   ]
  },
  {
   "cell_type": "code",
   "execution_count": 35,
   "id": "bc4354fc-59dc-4131-a074-17a1a70753f1",
   "metadata": {},
   "outputs": [
    {
     "name": "stderr",
     "output_type": "stream",
     "text": [
      "C:\\Users\\shade\\anaconda3\\lib\\site-packages\\sklearn\\utils\\deprecation.py:101: FutureWarning: Attribute coef_ was deprecated in version 0.24 and will be removed in 1.1 (renaming of 0.26).\n",
      "  warnings.warn(msg, category=FutureWarning)\n"
     ]
    },
    {
     "data": {
      "text/html": [
       "<div>\n",
       "<style scoped>\n",
       "    .dataframe tbody tr th:only-of-type {\n",
       "        vertical-align: middle;\n",
       "    }\n",
       "\n",
       "    .dataframe tbody tr th {\n",
       "        vertical-align: top;\n",
       "    }\n",
       "\n",
       "    .dataframe thead th {\n",
       "        text-align: right;\n",
       "    }\n",
       "</style>\n",
       "<table border=\"1\" class=\"dataframe\">\n",
       "  <thead>\n",
       "    <tr style=\"text-align: right;\">\n",
       "      <th></th>\n",
       "      <th>feature</th>\n",
       "      <th>coefficients</th>\n",
       "    </tr>\n",
       "  </thead>\n",
       "  <tbody>\n",
       "    <tr>\n",
       "      <th>5</th>\n",
       "      <td>anxiety</td>\n",
       "      <td>-3.163521</td>\n",
       "    </tr>\n",
       "    <tr>\n",
       "      <th>83</th>\n",
       "      <td>to</td>\n",
       "      <td>-3.189721</td>\n",
       "    </tr>\n",
       "    <tr>\n",
       "      <th>53</th>\n",
       "      <td>my</td>\n",
       "      <td>-3.515957</td>\n",
       "    </tr>\n",
       "    <tr>\n",
       "      <th>73</th>\n",
       "      <td>the</td>\n",
       "      <td>-3.525194</td>\n",
       "    </tr>\n",
       "    <tr>\n",
       "      <th>44</th>\n",
       "      <td>it</td>\n",
       "      <td>-3.557619</td>\n",
       "    </tr>\n",
       "    <tr>\n",
       "      <th>...</th>\n",
       "      <td>...</td>\n",
       "      <td>...</td>\n",
       "    </tr>\n",
       "    <tr>\n",
       "      <th>75</th>\n",
       "      <td>then</td>\n",
       "      <td>-5.486237</td>\n",
       "    </tr>\n",
       "    <tr>\n",
       "      <th>55</th>\n",
       "      <td>never</td>\n",
       "      <td>-5.491389</td>\n",
       "    </tr>\n",
       "    <tr>\n",
       "      <th>96</th>\n",
       "      <td>work</td>\n",
       "      <td>-5.491833</td>\n",
       "    </tr>\n",
       "    <tr>\n",
       "      <th>2</th>\n",
       "      <td>am</td>\n",
       "      <td>-5.517768</td>\n",
       "    </tr>\n",
       "    <tr>\n",
       "      <th>32</th>\n",
       "      <td>got</td>\n",
       "      <td>-5.551336</td>\n",
       "    </tr>\n",
       "  </tbody>\n",
       "</table>\n",
       "<p>100 rows × 2 columns</p>\n",
       "</div>"
      ],
      "text/plain": [
       "    feature  coefficients\n",
       "5   anxiety     -3.163521\n",
       "83       to     -3.189721\n",
       "53       my     -3.515957\n",
       "73      the     -3.525194\n",
       "44       it     -3.557619\n",
       "..      ...           ...\n",
       "75     then     -5.486237\n",
       "55    never     -5.491389\n",
       "96     work     -5.491833\n",
       "2        am     -5.517768\n",
       "32      got     -5.551336\n",
       "\n",
       "[100 rows x 2 columns]"
      ]
     },
     "execution_count": 35,
     "metadata": {},
     "output_type": "execute_result"
    }
   ],
   "source": [
    "coefficient_df = pd.DataFrame()\n",
    "coefficient_df['feature'] = vectorizer.get_feature_names()\n",
    "coefficient_df['coefficients'] = nb_model.coef_.T\n",
    "\n",
    "#sort in descending order, to see which coefficient most affects the positive class prediction\n",
    "coefficient_df.sort_values(by='coefficients', ascending=False)"
   ]
  },
  {
   "cell_type": "markdown",
   "id": "98e47fb6-bfc9-4285-a8d7-1682473f48c7",
   "metadata": {
    "tags": []
   },
   "source": [
    "##### further detail about problematic \"giveaway\" words _______________________________________________________________________\n",
    "\n",
    "look at again after stop words out of the way"
   ]
  },
  {
   "cell_type": "code",
   "execution_count": null,
   "id": "c3089add-877f-49cc-ad17-5b6d8327beea",
   "metadata": {},
   "outputs": [],
   "source": []
  },
  {
   "cell_type": "markdown",
   "id": "7ce08f0d-5b7e-480f-bc42-0b9acd6ef774",
   "metadata": {},
   "source": [
    "##### explain min_df and max_df as well _________________________________________________"
   ]
  },
  {
   "cell_type": "code",
   "execution_count": null,
   "id": "ba0b0c42-2902-4ffd-ba45-3d7e131948fe",
   "metadata": {},
   "outputs": [],
   "source": []
  },
  {
   "cell_type": "markdown",
   "id": "dcf592d8-a029-4ff2-898a-229052af903e",
   "metadata": {
    "tags": []
   },
   "source": [
    "## Baseline Model with Preprocessed Data\n",
    "\n",
    "explain"
   ]
  },
  {
   "cell_type": "markdown",
   "id": "ca5fa66b-d460-49aa-afca-3ac1e3c9ebc1",
   "metadata": {},
   "source": [
    "##### Rejoin Data _____________________________explain why_________________________________________________\n",
    "\n",
    "for tfidf vectorizer"
   ]
  },
  {
   "cell_type": "code",
   "execution_count": 36,
   "id": "3fec5db6-e1f2-43b0-8189-ced2e09b1c8f",
   "metadata": {},
   "outputs": [],
   "source": [
    "#model name for score keeping\n",
    "model_name = 'Baseline No Stops'\n",
    "\n",
    "X = df['rejoined']\n",
    "y = df['is_depression']\n",
    "\n",
    "#train_test_split\n",
    "X_train, X_test, y_train, y_test = train_test_split(X, y, stratify=y, test_size=0.2, random_state=42)"
   ]
  },
  {
   "cell_type": "markdown",
   "id": "a090c8fb-b732-429b-b11a-b32aebfd4fb7",
   "metadata": {
    "tags": []
   },
   "source": [
    "\n",
    "\n",
    "##### explain pipeline ________________________________________________________\n",
    "\n",
    "vectorizes as part of process"
   ]
  },
  {
   "cell_type": "code",
   "execution_count": 37,
   "id": "8922cb66-e430-4aba-80a4-e158ad9e8f6b",
   "metadata": {},
   "outputs": [
    {
     "data": {
      "text/plain": [
       "Pipeline(steps=[('vectorizer', TfidfVectorizer(max_features=100)),\n",
       "                ('clf', MultinomialNB())])"
      ]
     },
     "execution_count": 37,
     "metadata": {},
     "output_type": "execute_result"
    }
   ],
   "source": [
    "#create pipeline\n",
    "pipe = Pipeline([('vectorizer', TfidfVectorizer(max_features=100)),\n",
    "                          ('clf', MultinomialNB())\n",
    "                         ])\n",
    "\n",
    "#fit to data\n",
    "pipe.fit(X_train, y_train)"
   ]
  },
  {
   "cell_type": "code",
   "execution_count": 38,
   "id": "f08b883b-31f0-43ca-adb5-e9ebf7366ca5",
   "metadata": {},
   "outputs": [
    {
     "name": "stdout",
     "output_type": "stream",
     "text": [
      "              precision    recall  f1-score   support\n",
      "\n",
      "           0       0.86      0.80      0.83       780\n",
      "           1       0.81      0.87      0.84       767\n",
      "\n",
      "    accuracy                           0.83      1547\n",
      "   macro avg       0.83      0.83      0.83      1547\n",
      "weighted avg       0.83      0.83      0.83      1547\n",
      "\n"
     ]
    },
    {
     "data": {
      "image/png": "[encoded data removed]",
      "text/plain": [
       "<Figure size 432x288 with 2 Axes>"
      ]
     },
     "metadata": {
      "needs_background": "light"
     },
     "output_type": "display_data"
    }
   ],
   "source": [
    "#predict on test data\n",
    "y_pred = pipe.predict(X_test)\n",
    "\n",
    "print(classification_report(y_test, y_pred))\n",
    "\n",
    "plot_confusion(model_name)"
   ]
  },
  {
   "cell_type": "code",
   "execution_count": 39,
   "id": "1cab5b38-6a1f-4f52-8a9d-03acbe49e55b",
   "metadata": {
    "tags": []
   },
   "outputs": [
    {
     "data": {
      "text/html": [
       "<div>\n",
       "<style scoped>\n",
       "    .dataframe tbody tr th:only-of-type {\n",
       "        vertical-align: middle;\n",
       "    }\n",
       "\n",
       "    .dataframe tbody tr th {\n",
       "        vertical-align: top;\n",
       "    }\n",
       "\n",
       "    .dataframe thead th {\n",
       "        text-align: right;\n",
       "    }\n",
       "</style>\n",
       "<table border=\"1\" class=\"dataframe\">\n",
       "  <thead>\n",
       "    <tr style=\"text-align: right;\">\n",
       "      <th></th>\n",
       "      <th>Name</th>\n",
       "      <th>Accuracy</th>\n",
       "      <th>Recall</th>\n",
       "      <th>Precision</th>\n",
       "      <th>F1</th>\n",
       "    </tr>\n",
       "  </thead>\n",
       "  <tbody>\n",
       "    <tr>\n",
       "      <th>0</th>\n",
       "      <td>Baseline - MultiNB</td>\n",
       "      <td>0.683258</td>\n",
       "      <td>0.720991</td>\n",
       "      <td>0.667069</td>\n",
       "      <td>0.692982</td>\n",
       "    </tr>\n",
       "    <tr>\n",
       "      <th>1</th>\n",
       "      <td>Baseline No Stops</td>\n",
       "      <td>0.832579</td>\n",
       "      <td>0.867014</td>\n",
       "      <td>0.809002</td>\n",
       "      <td>0.837004</td>\n",
       "    </tr>\n",
       "  </tbody>\n",
       "</table>\n",
       "</div>"
      ],
      "text/plain": [
       "                 Name  Accuracy    Recall  Precision        F1\n",
       "0  Baseline - MultiNB  0.683258  0.720991   0.667069  0.692982\n",
       "1   Baseline No Stops  0.832579  0.867014   0.809002  0.837004"
      ]
     },
     "execution_count": 39,
     "metadata": {},
     "output_type": "execute_result"
    }
   ],
   "source": [
    "score_df = score_df.append(update_score_df(model_name), ignore_index=True)\n",
    "score_df"
   ]
  },
  {
   "cell_type": "markdown",
   "id": "653068fa-5d3f-4708-9597-9a5e52ede1a3",
   "metadata": {},
   "source": [
    "##### explain _________________________________---\n",
    "\n",
    "identify how removal of stop words increased model performance"
   ]
  },
  {
   "cell_type": "markdown",
   "id": "70d7684b-769e-43c5-b756-bcc710642802",
   "metadata": {},
   "source": [
    "##### One more look at coefficients ______________________________________________________________"
   ]
  },
  {
   "cell_type": "code",
   "execution_count": 40,
   "id": "a2af12e3-4c0b-4f0d-8d1c-0f3e5b6f2a10",
   "metadata": {},
   "outputs": [
    {
     "name": "stderr",
     "output_type": "stream",
     "text": [
      "C:\\Users\\shade\\anaconda3\\lib\\site-packages\\sklearn\\utils\\deprecation.py:101: FutureWarning: Attribute coef_ was deprecated in version 0.24 and will be removed in 1.1 (renaming of 0.26).\n",
      "  warnings.warn(msg, category=FutureWarning)\n"
     ]
    },
    {
     "data": {
      "text/html": [
       "<div>\n",
       "<style scoped>\n",
       "    .dataframe tbody tr th:only-of-type {\n",
       "        vertical-align: middle;\n",
       "    }\n",
       "\n",
       "    .dataframe tbody tr th {\n",
       "        vertical-align: top;\n",
       "    }\n",
       "\n",
       "    .dataframe thead th {\n",
       "        text-align: right;\n",
       "    }\n",
       "</style>\n",
       "<table border=\"1\" class=\"dataframe\">\n",
       "  <thead>\n",
       "    <tr style=\"text-align: right;\">\n",
       "      <th></th>\n",
       "      <th>feature</th>\n",
       "      <th>coefficients</th>\n",
       "    </tr>\n",
       "  </thead>\n",
       "  <tbody>\n",
       "    <tr>\n",
       "      <th>15</th>\n",
       "      <td>depression</td>\n",
       "      <td>-2.939940</td>\n",
       "    </tr>\n",
       "    <tr>\n",
       "      <th>50</th>\n",
       "      <td>like</td>\n",
       "      <td>-3.525742</td>\n",
       "    </tr>\n",
       "    <tr>\n",
       "      <th>26</th>\n",
       "      <td>feel</td>\n",
       "      <td>-3.591596</td>\n",
       "    </tr>\n",
       "    <tr>\n",
       "      <th>91</th>\n",
       "      <td>wa</td>\n",
       "      <td>-3.682812</td>\n",
       "    </tr>\n",
       "    <tr>\n",
       "      <th>2</th>\n",
       "      <td>anxiety</td>\n",
       "      <td>-3.728610</td>\n",
       "    </tr>\n",
       "    <tr>\n",
       "      <th>92</th>\n",
       "      <td>want</td>\n",
       "      <td>-3.906345</td>\n",
       "    </tr>\n",
       "    <tr>\n",
       "      <th>47</th>\n",
       "      <td>know</td>\n",
       "      <td>-3.907649</td>\n",
       "    </tr>\n",
       "    <tr>\n",
       "      <th>49</th>\n",
       "      <td>life</td>\n",
       "      <td>-3.918292</td>\n",
       "    </tr>\n",
       "    <tr>\n",
       "      <th>33</th>\n",
       "      <td>get</td>\n",
       "      <td>-3.955953</td>\n",
       "    </tr>\n",
       "    <tr>\n",
       "      <th>65</th>\n",
       "      <td>people</td>\n",
       "      <td>-4.053325</td>\n",
       "    </tr>\n",
       "    <tr>\n",
       "      <th>85</th>\n",
       "      <td>time</td>\n",
       "      <td>-4.078510</td>\n",
       "    </tr>\n",
       "    <tr>\n",
       "      <th>20</th>\n",
       "      <td>even</td>\n",
       "      <td>-4.150225</td>\n",
       "    </tr>\n",
       "    <tr>\n",
       "      <th>64</th>\n",
       "      <td>one</td>\n",
       "      <td>-4.234496</td>\n",
       "    </tr>\n",
       "    <tr>\n",
       "      <th>14</th>\n",
       "      <td>day</td>\n",
       "      <td>-4.236631</td>\n",
       "    </tr>\n",
       "    <tr>\n",
       "      <th>68</th>\n",
       "      <td>really</td>\n",
       "      <td>-4.239644</td>\n",
       "    </tr>\n",
       "    <tr>\n",
       "      <th>82</th>\n",
       "      <td>thing</td>\n",
       "      <td>-4.261978</td>\n",
       "    </tr>\n",
       "    <tr>\n",
       "      <th>99</th>\n",
       "      <td>year</td>\n",
       "      <td>-4.271372</td>\n",
       "    </tr>\n",
       "    <tr>\n",
       "      <th>42</th>\n",
       "      <td>help</td>\n",
       "      <td>-4.304692</td>\n",
       "    </tr>\n",
       "    <tr>\n",
       "      <th>83</th>\n",
       "      <td>think</td>\n",
       "      <td>-4.362458</td>\n",
       "    </tr>\n",
       "    <tr>\n",
       "      <th>56</th>\n",
       "      <td>make</td>\n",
       "      <td>-4.397709</td>\n",
       "    </tr>\n",
       "  </tbody>\n",
       "</table>\n",
       "</div>"
      ],
      "text/plain": [
       "       feature  coefficients\n",
       "15  depression     -2.939940\n",
       "50        like     -3.525742\n",
       "26        feel     -3.591596\n",
       "91          wa     -3.682812\n",
       "2      anxiety     -3.728610\n",
       "92        want     -3.906345\n",
       "47        know     -3.907649\n",
       "49        life     -3.918292\n",
       "33         get     -3.955953\n",
       "65      people     -4.053325\n",
       "85        time     -4.078510\n",
       "20        even     -4.150225\n",
       "64         one     -4.234496\n",
       "14         day     -4.236631\n",
       "68      really     -4.239644\n",
       "82       thing     -4.261978\n",
       "99        year     -4.271372\n",
       "42        help     -4.304692\n",
       "83       think     -4.362458\n",
       "56        make     -4.397709"
      ]
     },
     "execution_count": 40,
     "metadata": {},
     "output_type": "execute_result"
    }
   ],
   "source": [
    "coefficient_df = pd.DataFrame()\n",
    "coefficient_df['feature'] = pipe['vectorizer'].get_feature_names()\n",
    "coefficient_df['coefficients'] = pipe['clf'].coef_.T\n",
    "\n",
    "#sort in descending order, to see which coefficient most affects the positive class prediction\n",
    "coefficient_df.sort_values(by='coefficients', ascending=False)[:20]"
   ]
  },
  {
   "cell_type": "markdown",
   "id": "6ed968f1-6792-448d-8242-a455d6787fa9",
   "metadata": {},
   "source": [
    "#### Attempt One More Time with Subjective Alterations\n",
    "\n",
    "go over subjective nature, etc"
   ]
  },
  {
   "cell_type": "code",
   "execution_count": 41,
   "id": "ebc917e3-5e21-468a-80bb-1ec6efee9d9b",
   "metadata": {},
   "outputs": [],
   "source": [
    "#same as stopword removal but our own list\n",
    "def remove_some_words(data):\n",
    "    words = ['depression', 'feel', 'anxiety']\n",
    "    return [word for word in data if word not in words]"
   ]
  },
  {
   "cell_type": "code",
   "execution_count": 42,
   "id": "fff95556-357f-451c-9f13-0062d764e12c",
   "metadata": {},
   "outputs": [],
   "source": [
    "#remove words from lemmatized dataset without stopwords\n",
    "df['subjective_removal'] = df.apply(lambda x: remove_some_words(x['lemmatized_no_stops']), axis=1)\\\n",
    "\n",
    "#rejoin again for vectorizer!\n",
    "df['rejoined_post_removal']= df.apply(lambda x: rejoin_words(x['subjective_removal']), axis=1)"
   ]
  },
  {
   "cell_type": "code",
   "execution_count": 43,
   "id": "e3cc6936-7c7b-459f-b7d8-b0c9f9000f8c",
   "metadata": {},
   "outputs": [
    {
     "name": "stdout",
     "output_type": "stream",
     "text": [
      "              precision    recall  f1-score   support\n",
      "\n",
      "           0       0.74      0.76      0.75       780\n",
      "           1       0.75      0.73      0.74       767\n",
      "\n",
      "    accuracy                           0.74      1547\n",
      "   macro avg       0.74      0.74      0.74      1547\n",
      "weighted avg       0.74      0.74      0.74      1547\n",
      "\n"
     ]
    },
    {
     "data": {
      "image/png": "[encoded data removed]",
      "text/plain": [
       "<Figure size 432x288 with 2 Axes>"
      ]
     },
     "metadata": {
      "needs_background": "light"
     },
     "output_type": "display_data"
    }
   ],
   "source": [
    "#model name for score keeping\n",
    "model_name = 'Baseline Adjusted Data'\n",
    "\n",
    "#repeat pipeline with new data\n",
    "X = df['rejoined_post_removal']\n",
    "y = df['is_depression']\n",
    "\n",
    "#train_test_split\n",
    "X_train, X_test, y_train, y_test = train_test_split(X, y, stratify=y, test_size=0.2, random_state=42)\n",
    "\n",
    "#create pipeline\n",
    "pipe = Pipeline([('vectorizer', TfidfVectorizer(max_features=100)),\n",
    "                          ('clf', MultinomialNB())\n",
    "                         ])\n",
    "\n",
    "#fit to data\n",
    "pipe.fit(X_train, y_train)\n",
    "\n",
    "#predict on test data\n",
    "y_pred = pipe.predict(X_test)\n",
    "\n",
    "print(classification_report(y_test, y_pred))\n",
    "\n",
    "plot_confusion(model_name)"
   ]
  },
  {
   "cell_type": "code",
   "execution_count": 44,
   "id": "6aa470b7-b0f4-4133-93a5-45cb15a90557",
   "metadata": {
    "tags": []
   },
   "outputs": [
    {
     "data": {
      "text/html": [
       "<div>\n",
       "<style scoped>\n",
       "    .dataframe tbody tr th:only-of-type {\n",
       "        vertical-align: middle;\n",
       "    }\n",
       "\n",
       "    .dataframe tbody tr th {\n",
       "        vertical-align: top;\n",
       "    }\n",
       "\n",
       "    .dataframe thead th {\n",
       "        text-align: right;\n",
       "    }\n",
       "</style>\n",
       "<table border=\"1\" class=\"dataframe\">\n",
       "  <thead>\n",
       "    <tr style=\"text-align: right;\">\n",
       "      <th></th>\n",
       "      <th>Name</th>\n",
       "      <th>Accuracy</th>\n",
       "      <th>Recall</th>\n",
       "      <th>Precision</th>\n",
       "      <th>F1</th>\n",
       "    </tr>\n",
       "  </thead>\n",
       "  <tbody>\n",
       "    <tr>\n",
       "      <th>0</th>\n",
       "      <td>Baseline - MultiNB</td>\n",
       "      <td>0.683258</td>\n",
       "      <td>0.720991</td>\n",
       "      <td>0.667069</td>\n",
       "      <td>0.692982</td>\n",
       "    </tr>\n",
       "    <tr>\n",
       "      <th>1</th>\n",
       "      <td>Baseline No Stops</td>\n",
       "      <td>0.832579</td>\n",
       "      <td>0.867014</td>\n",
       "      <td>0.809002</td>\n",
       "      <td>0.837004</td>\n",
       "    </tr>\n",
       "    <tr>\n",
       "      <th>2</th>\n",
       "      <td>Baseline Adjusted Data</td>\n",
       "      <td>0.741435</td>\n",
       "      <td>0.726206</td>\n",
       "      <td>0.745649</td>\n",
       "      <td>0.735799</td>\n",
       "    </tr>\n",
       "  </tbody>\n",
       "</table>\n",
       "</div>"
      ],
      "text/plain": [
       "                     Name  Accuracy    Recall  Precision        F1\n",
       "0      Baseline - MultiNB  0.683258  0.720991   0.667069  0.692982\n",
       "1       Baseline No Stops  0.832579  0.867014   0.809002  0.837004\n",
       "2  Baseline Adjusted Data  0.741435  0.726206   0.745649  0.735799"
      ]
     },
     "execution_count": 44,
     "metadata": {},
     "output_type": "execute_result"
    }
   ],
   "source": [
    "score_df = score_df.append(update_score_df(model_name), ignore_index=True)\n",
    "score_df"
   ]
  },
  {
   "cell_type": "markdown",
   "id": "7a1ec4ad-b266-405b-a827-26c0f08d4b91",
   "metadata": {},
   "source": [
    "comment on scoring, slightly less accuract, etc \n",
    "##### __________"
   ]
  },
  {
   "cell_type": "code",
   "execution_count": 45,
   "id": "85ae56ad-029d-4571-9bfa-d2f1306e3072",
   "metadata": {},
   "outputs": [
    {
     "name": "stderr",
     "output_type": "stream",
     "text": [
      "C:\\Users\\shade\\anaconda3\\lib\\site-packages\\sklearn\\utils\\deprecation.py:101: FutureWarning: Attribute coef_ was deprecated in version 0.24 and will be removed in 1.1 (renaming of 0.26).\n",
      "  warnings.warn(msg, category=FutureWarning)\n"
     ]
    },
    {
     "data": {
      "text/html": [
       "<div>\n",
       "<style scoped>\n",
       "    .dataframe tbody tr th:only-of-type {\n",
       "        vertical-align: middle;\n",
       "    }\n",
       "\n",
       "    .dataframe tbody tr th {\n",
       "        vertical-align: top;\n",
       "    }\n",
       "\n",
       "    .dataframe thead th {\n",
       "        text-align: right;\n",
       "    }\n",
       "</style>\n",
       "<table border=\"1\" class=\"dataframe\">\n",
       "  <thead>\n",
       "    <tr style=\"text-align: right;\">\n",
       "      <th></th>\n",
       "      <th>feature</th>\n",
       "      <th>coefficients</th>\n",
       "    </tr>\n",
       "  </thead>\n",
       "  <tbody>\n",
       "    <tr>\n",
       "      <th>47</th>\n",
       "      <td>like</td>\n",
       "      <td>-3.416639</td>\n",
       "    </tr>\n",
       "    <tr>\n",
       "      <th>90</th>\n",
       "      <td>wa</td>\n",
       "      <td>-3.592212</td>\n",
       "    </tr>\n",
       "    <tr>\n",
       "      <th>44</th>\n",
       "      <td>know</td>\n",
       "      <td>-3.814494</td>\n",
       "    </tr>\n",
       "    <tr>\n",
       "      <th>91</th>\n",
       "      <td>want</td>\n",
       "      <td>-3.824219</td>\n",
       "    </tr>\n",
       "    <tr>\n",
       "      <th>46</th>\n",
       "      <td>life</td>\n",
       "      <td>-3.830649</td>\n",
       "    </tr>\n",
       "    <tr>\n",
       "      <th>30</th>\n",
       "      <td>get</td>\n",
       "      <td>-3.852510</td>\n",
       "    </tr>\n",
       "    <tr>\n",
       "      <th>62</th>\n",
       "      <td>people</td>\n",
       "      <td>-3.939920</td>\n",
       "    </tr>\n",
       "    <tr>\n",
       "      <th>84</th>\n",
       "      <td>time</td>\n",
       "      <td>-3.986497</td>\n",
       "    </tr>\n",
       "    <tr>\n",
       "      <th>18</th>\n",
       "      <td>even</td>\n",
       "      <td>-4.062245</td>\n",
       "    </tr>\n",
       "    <tr>\n",
       "      <th>61</th>\n",
       "      <td>one</td>\n",
       "      <td>-4.091224</td>\n",
       "    </tr>\n",
       "    <tr>\n",
       "      <th>13</th>\n",
       "      <td>day</td>\n",
       "      <td>-4.137225</td>\n",
       "    </tr>\n",
       "    <tr>\n",
       "      <th>65</th>\n",
       "      <td>really</td>\n",
       "      <td>-4.144612</td>\n",
       "    </tr>\n",
       "    <tr>\n",
       "      <th>39</th>\n",
       "      <td>help</td>\n",
       "      <td>-4.153848</td>\n",
       "    </tr>\n",
       "    <tr>\n",
       "      <th>81</th>\n",
       "      <td>thing</td>\n",
       "      <td>-4.172230</td>\n",
       "    </tr>\n",
       "    <tr>\n",
       "      <th>99</th>\n",
       "      <td>year</td>\n",
       "      <td>-4.185289</td>\n",
       "    </tr>\n",
       "    <tr>\n",
       "      <th>82</th>\n",
       "      <td>think</td>\n",
       "      <td>-4.268103</td>\n",
       "    </tr>\n",
       "    <tr>\n",
       "      <th>36</th>\n",
       "      <td>ha</td>\n",
       "      <td>-4.289260</td>\n",
       "    </tr>\n",
       "    <tr>\n",
       "      <th>53</th>\n",
       "      <td>make</td>\n",
       "      <td>-4.298820</td>\n",
       "    </tr>\n",
       "    <tr>\n",
       "      <th>32</th>\n",
       "      <td>go</td>\n",
       "      <td>-4.316637</td>\n",
       "    </tr>\n",
       "    <tr>\n",
       "      <th>98</th>\n",
       "      <td>would</td>\n",
       "      <td>-4.337464</td>\n",
       "    </tr>\n",
       "  </tbody>\n",
       "</table>\n",
       "</div>"
      ],
      "text/plain": [
       "   feature  coefficients\n",
       "47    like     -3.416639\n",
       "90      wa     -3.592212\n",
       "44    know     -3.814494\n",
       "91    want     -3.824219\n",
       "46    life     -3.830649\n",
       "30     get     -3.852510\n",
       "62  people     -3.939920\n",
       "84    time     -3.986497\n",
       "18    even     -4.062245\n",
       "61     one     -4.091224\n",
       "13     day     -4.137225\n",
       "65  really     -4.144612\n",
       "39    help     -4.153848\n",
       "81   thing     -4.172230\n",
       "99    year     -4.185289\n",
       "82   think     -4.268103\n",
       "36      ha     -4.289260\n",
       "53    make     -4.298820\n",
       "32      go     -4.316637\n",
       "98   would     -4.337464"
      ]
     },
     "execution_count": 45,
     "metadata": {},
     "output_type": "execute_result"
    }
   ],
   "source": [
    "coefficient_df = pd.DataFrame()\n",
    "coefficient_df['feature'] = pipe['vectorizer'].get_feature_names()\n",
    "coefficient_df['coefficients'] = pipe['clf'].coef_.T\n",
    "\n",
    "#sort in descending order, to see which coefficient most affects the positive class prediction\n",
    "coefficient_df.sort_values(by='coefficients', ascending=False)[:20]"
   ]
  },
  {
   "cell_type": "markdown",
   "id": "69741977-6c5d-462e-a144-e811903a8202",
   "metadata": {},
   "source": [
    "##### commentary __________________________________________"
   ]
  },
  {
   "cell_type": "code",
   "execution_count": null,
   "id": "3a0f4bdf-2e10-482c-8463-b707682d6f4b",
   "metadata": {},
   "outputs": [],
   "source": []
  },
  {
   "cell_type": "code",
   "execution_count": null,
   "id": "7b6d12a3-0f5f-47a7-9f7e-f8367a127b75",
   "metadata": {},
   "outputs": [],
   "source": []
  },
  {
   "cell_type": "markdown",
   "id": "1ff789b6-b287-495a-8cc5-0fa6d33b68db",
   "metadata": {},
   "source": [
    "## Model 2 - MultinomialNB (Tuned)\n",
    "\n",
    "\n",
    "##### explain gridsearch\n",
    "\n",
    "##### explain parameters"
   ]
  },
  {
   "cell_type": "code",
   "execution_count": 46,
   "id": "209df14b-4367-45f3-9f3a-502df6580da0",
   "metadata": {},
   "outputs": [],
   "source": [
    "#example with tfidf:\n",
    "\n",
    "#TfidfVectorizer:\n",
    "tfidf_params = {\n",
    "    'vectorizer__max_df': (0.25, 0.5, 0.75, 1.0),\n",
    "    'vectorizer__ngram_range': [(1, 1), (1, 2), (1, 3)],\n",
    "    'vectorizer__max_features': (None, 50, 100, 200, 300)\n",
    "}"
   ]
  },
  {
   "cell_type": "markdown",
   "id": "87c0ce09-8aef-4a53-9d89-ccb7ca2bb670",
   "metadata": {},
   "source": [
    "##### explain"
   ]
  },
  {
   "cell_type": "code",
   "execution_count": 47,
   "id": "1fd0badc-ad8b-4192-8bdc-a79baa626b56",
   "metadata": {},
   "outputs": [
    {
     "name": "stdout",
     "output_type": "stream",
     "text": [
      "Fitting 5 folds for each of 64 candidates, totalling 320 fits\n"
     ]
    },
    {
     "data": {
      "text/plain": [
       "GridSearchCV(cv=5,\n",
       "             estimator=Pipeline(steps=[('vectorizer', TfidfVectorizer()),\n",
       "                                       ('clf', MultinomialNB())]),\n",
       "             n_jobs=-1,\n",
       "             param_grid=[{'vectorizer__max_df': (0.25, 0.5, 0.75, 1.0),\n",
       "                          'vectorizer__max_features': (None, 50, 100, 200, 300),\n",
       "                          'vectorizer__ngram_range': [(1, 1), (1, 2), (1, 3)]},\n",
       "                         {'clf__alpha': (0.001, 0.01, 0.1, 1)}],\n",
       "             scoring='accuracy', verbose=True)"
      ]
     },
     "execution_count": 47,
     "metadata": {},
     "output_type": "execute_result"
    }
   ],
   "source": [
    "#model name for score keeping\n",
    "model_name = 'Tuned MNB'\n",
    "\n",
    "#parameters:\n",
    "model_params = {\n",
    "    'clf__alpha': (1e-3, 1e-2, 1e-1, 1)\n",
    "}\n",
    "\n",
    "#create pipeline\n",
    "pipe = Pipeline([('vectorizer', TfidfVectorizer()),\n",
    "                          ('clf', MultinomialNB())])\n",
    "\n",
    "############################################################################################\n",
    "\n",
    "params = [tfidf_params, model_params]\n",
    "\n",
    "#gridsearch\n",
    "gscv = GridSearchCV(pipe, params, cv = 5, n_jobs=-1, verbose=True, scoring = 'accuracy')\n",
    "gscv.fit(X_train, y_train)"
   ]
  },
  {
   "cell_type": "code",
   "execution_count": 48,
   "id": "d95adc98-0d9e-4de0-8d4f-a964a2fb53d9",
   "metadata": {},
   "outputs": [
    {
     "name": "stdout",
     "output_type": "stream",
     "text": [
      "              precision    recall  f1-score   support\n",
      "\n",
      "           0       0.96      0.77      0.85       780\n",
      "           1       0.80      0.96      0.88       767\n",
      "\n",
      "    accuracy                           0.86      1547\n",
      "   macro avg       0.88      0.87      0.86      1547\n",
      "weighted avg       0.88      0.86      0.86      1547\n",
      "\n"
     ]
    },
    {
     "data": {
      "image/png": "[encoded data removed]",
      "text/plain": [
       "<Figure size 432x288 with 2 Axes>"
      ]
     },
     "metadata": {
      "needs_background": "light"
     },
     "output_type": "display_data"
    }
   ],
   "source": [
    "#predict on test data\n",
    "y_pred = gscv.predict(X_test)\n",
    "\n",
    "print(classification_report(y_test, y_pred))\n",
    "\n",
    "plot_confusion(model_name)"
   ]
  },
  {
   "cell_type": "code",
   "execution_count": 49,
   "id": "b402053b-a19c-40bc-830f-ab5ee0c624fd",
   "metadata": {
    "tags": []
   },
   "outputs": [
    {
     "data": {
      "text/html": [
       "<div>\n",
       "<style scoped>\n",
       "    .dataframe tbody tr th:only-of-type {\n",
       "        vertical-align: middle;\n",
       "    }\n",
       "\n",
       "    .dataframe tbody tr th {\n",
       "        vertical-align: top;\n",
       "    }\n",
       "\n",
       "    .dataframe thead th {\n",
       "        text-align: right;\n",
       "    }\n",
       "</style>\n",
       "<table border=\"1\" class=\"dataframe\">\n",
       "  <thead>\n",
       "    <tr style=\"text-align: right;\">\n",
       "      <th></th>\n",
       "      <th>Name</th>\n",
       "      <th>Accuracy</th>\n",
       "      <th>Recall</th>\n",
       "      <th>Precision</th>\n",
       "      <th>F1</th>\n",
       "    </tr>\n",
       "  </thead>\n",
       "  <tbody>\n",
       "    <tr>\n",
       "      <th>0</th>\n",
       "      <td>Baseline - MultiNB</td>\n",
       "      <td>0.683258</td>\n",
       "      <td>0.720991</td>\n",
       "      <td>0.667069</td>\n",
       "      <td>0.692982</td>\n",
       "    </tr>\n",
       "    <tr>\n",
       "      <th>1</th>\n",
       "      <td>Baseline No Stops</td>\n",
       "      <td>0.832579</td>\n",
       "      <td>0.867014</td>\n",
       "      <td>0.809002</td>\n",
       "      <td>0.837004</td>\n",
       "    </tr>\n",
       "    <tr>\n",
       "      <th>2</th>\n",
       "      <td>Baseline Adjusted Data</td>\n",
       "      <td>0.741435</td>\n",
       "      <td>0.726206</td>\n",
       "      <td>0.745649</td>\n",
       "      <td>0.735799</td>\n",
       "    </tr>\n",
       "    <tr>\n",
       "      <th>3</th>\n",
       "      <td>Tuned MNB</td>\n",
       "      <td>0.864900</td>\n",
       "      <td>0.963494</td>\n",
       "      <td>0.803261</td>\n",
       "      <td>0.876111</td>\n",
       "    </tr>\n",
       "  </tbody>\n",
       "</table>\n",
       "</div>"
      ],
      "text/plain": [
       "                     Name  Accuracy    Recall  Precision        F1\n",
       "0      Baseline - MultiNB  0.683258  0.720991   0.667069  0.692982\n",
       "1       Baseline No Stops  0.832579  0.867014   0.809002  0.837004\n",
       "2  Baseline Adjusted Data  0.741435  0.726206   0.745649  0.735799\n",
       "3               Tuned MNB  0.864900  0.963494   0.803261  0.876111"
      ]
     },
     "execution_count": 49,
     "metadata": {},
     "output_type": "execute_result"
    }
   ],
   "source": [
    "score_df = score_df.append(update_score_df(model_name), ignore_index=True)\n",
    "score_df"
   ]
  },
  {
   "cell_type": "markdown",
   "id": "e8dd3711-3c89-4c0d-ac4a-2ab9c7dafbfe",
   "metadata": {},
   "source": [
    "##### talk about results _________________________________________"
   ]
  },
  {
   "cell_type": "code",
   "execution_count": null,
   "id": "63e680f6-4d51-46f9-918d-9e59446922f8",
   "metadata": {},
   "outputs": [],
   "source": []
  },
  {
   "cell_type": "code",
   "execution_count": null,
   "id": "ef0ff064-fe19-429d-9531-c80bcfeb0bd1",
   "metadata": {},
   "outputs": [],
   "source": []
  },
  {
   "cell_type": "code",
   "execution_count": null,
   "id": "7b93f83c-ed88-4399-b173-c0445e33c762",
   "metadata": {},
   "outputs": [],
   "source": []
  },
  {
   "cell_type": "markdown",
   "id": "6902d6b9-0e94-4480-87f0-0ee3a8ea1ea4",
   "metadata": {
    "tags": []
   },
   "source": [
    "## Model 3 - Logistic Regression"
   ]
  },
  {
   "cell_type": "code",
   "execution_count": 50,
   "id": "1fa24eee-8706-4d34-8c02-3e530a964e77",
   "metadata": {},
   "outputs": [
    {
     "name": "stdout",
     "output_type": "stream",
     "text": [
      "Fitting 5 folds for each of 80 candidates, totalling 400 fits\n"
     ]
    },
    {
     "name": "stderr",
     "output_type": "stream",
     "text": [
      "C:\\Users\\shade\\anaconda3\\lib\\site-packages\\sklearn\\model_selection\\_search.py:922: UserWarning: One or more of the test scores are non-finite: [0.8965071  0.88809744 0.87111788 0.80174632 0.80174632 0.80174632\n",
      " 0.8148433  0.81468162 0.81500498 0.85818153 0.85882852 0.85818179\n",
      " 0.86950276 0.86950276 0.86966445 0.8965071  0.88809744 0.87111788\n",
      " 0.80174632 0.80174632 0.80174632 0.8148433  0.81468162 0.81500498\n",
      " 0.85818153 0.85882852 0.85818179 0.86950276 0.86950276 0.86966445\n",
      " 0.8965071  0.88809744 0.87111788 0.80174632 0.80174632 0.80174632\n",
      " 0.8148433  0.81468162 0.81500498 0.85818153 0.85882852 0.85818179\n",
      " 0.86950276 0.86950276 0.86966445 0.8965071  0.88809744 0.87111788\n",
      " 0.80174632 0.80174632 0.80174632 0.8148433  0.81468162 0.81500498\n",
      " 0.85818153 0.85882852 0.85818179 0.86950276 0.86950276 0.86966445\n",
      "        nan 0.82567962        nan 0.83796899        nan 0.85171361\n",
      "        nan 0.87144333        nan 0.89230352        nan 0.90265152\n",
      "        nan 0.90798701        nan 0.90475325        nan 0.901196\n",
      "        nan 0.8971537 ]\n",
      "  warnings.warn(\n"
     ]
    },
    {
     "data": {
      "text/plain": [
       "GridSearchCV(cv=5,\n",
       "             estimator=Pipeline(steps=[('vectorizer', TfidfVectorizer()),\n",
       "                                       ('clf', LogisticRegression())]),\n",
       "             n_jobs=-1,\n",
       "             param_grid=[{'vectorizer__max_df': (0.25, 0.5, 0.75, 1.0),\n",
       "                          'vectorizer__max_features': (None, 50, 100, 200, 300),\n",
       "                          'vectorizer__ngram_range': [(1, 1), (1, 2), (1, 3)]},\n",
       "                         {'clf__C': array([1.00000000e-02, 2.78255940e-02, 7.74263683e-02, 2.15443469e-01,\n",
       "       5.99484250e-01, 1.66810054e+00, 4.64158883e+00, 1.29154967e+01,\n",
       "       3.59381366e+01, 1.00000000e+02]),\n",
       "                          'clf__penalty': ['l1', 'l2']}],\n",
       "             scoring='accuracy', verbose=True)"
      ]
     },
     "execution_count": 50,
     "metadata": {},
     "output_type": "execute_result"
    }
   ],
   "source": [
    "#model name for score keeping\n",
    "model_name = 'LogReg'\n",
    "\n",
    "#parameters:\n",
    "model_params = {\n",
    "    'clf__C': np.logspace(-2, 2, 10),\n",
    "    'clf__penalty': ['l1', 'l2']\n",
    "}\n",
    "\n",
    "#create pipeline\n",
    "pipe = Pipeline([('vectorizer', TfidfVectorizer()),\n",
    "                          ('clf', LogisticRegression())])\n",
    "\n",
    "############################################################################################\n",
    "\n",
    "params = [tfidf_params, model_params]\n",
    "\n",
    "#gridsearch\n",
    "gscv = GridSearchCV(pipe, params, cv = 5, n_jobs=-1, verbose=True, scoring = 'accuracy')\n",
    "gscv.fit(X_train, y_train)"
   ]
  },
  {
   "cell_type": "code",
   "execution_count": 51,
   "id": "b9492205-c0fa-415c-87fb-20e9b21c6b18",
   "metadata": {},
   "outputs": [
    {
     "name": "stdout",
     "output_type": "stream",
     "text": [
      "              precision    recall  f1-score   support\n",
      "\n",
      "           0       0.90      0.94      0.92       780\n",
      "           1       0.94      0.89      0.91       767\n",
      "\n",
      "    accuracy                           0.92      1547\n",
      "   macro avg       0.92      0.92      0.92      1547\n",
      "weighted avg       0.92      0.92      0.92      1547\n",
      "\n"
     ]
    },
    {
     "data": {
      "image/png": "[encoded data removed]",
      "text/plain": [
       "<Figure size 432x288 with 2 Axes>"
      ]
     },
     "metadata": {
      "needs_background": "light"
     },
     "output_type": "display_data"
    }
   ],
   "source": [
    "#predict on test data\n",
    "y_pred = gscv.predict(X_test)\n",
    "\n",
    "print(classification_report(y_test, y_pred))\n",
    "\n",
    "plot_confusion(model_name)"
   ]
  },
  {
   "cell_type": "code",
   "execution_count": 52,
   "id": "49eb6612-0bb8-4afd-a108-6d3d75a3330c",
   "metadata": {
    "tags": []
   },
   "outputs": [
    {
     "data": {
      "text/html": [
       "<div>\n",
       "<style scoped>\n",
       "    .dataframe tbody tr th:only-of-type {\n",
       "        vertical-align: middle;\n",
       "    }\n",
       "\n",
       "    .dataframe tbody tr th {\n",
       "        vertical-align: top;\n",
       "    }\n",
       "\n",
       "    .dataframe thead th {\n",
       "        text-align: right;\n",
       "    }\n",
       "</style>\n",
       "<table border=\"1\" class=\"dataframe\">\n",
       "  <thead>\n",
       "    <tr style=\"text-align: right;\">\n",
       "      <th></th>\n",
       "      <th>Name</th>\n",
       "      <th>Accuracy</th>\n",
       "      <th>Recall</th>\n",
       "      <th>Precision</th>\n",
       "      <th>F1</th>\n",
       "    </tr>\n",
       "  </thead>\n",
       "  <tbody>\n",
       "    <tr>\n",
       "      <th>0</th>\n",
       "      <td>Baseline - MultiNB</td>\n",
       "      <td>0.683258</td>\n",
       "      <td>0.720991</td>\n",
       "      <td>0.667069</td>\n",
       "      <td>0.692982</td>\n",
       "    </tr>\n",
       "    <tr>\n",
       "      <th>1</th>\n",
       "      <td>Baseline No Stops</td>\n",
       "      <td>0.832579</td>\n",
       "      <td>0.867014</td>\n",
       "      <td>0.809002</td>\n",
       "      <td>0.837004</td>\n",
       "    </tr>\n",
       "    <tr>\n",
       "      <th>2</th>\n",
       "      <td>Baseline Adjusted Data</td>\n",
       "      <td>0.741435</td>\n",
       "      <td>0.726206</td>\n",
       "      <td>0.745649</td>\n",
       "      <td>0.735799</td>\n",
       "    </tr>\n",
       "    <tr>\n",
       "      <th>3</th>\n",
       "      <td>Tuned MNB</td>\n",
       "      <td>0.864900</td>\n",
       "      <td>0.963494</td>\n",
       "      <td>0.803261</td>\n",
       "      <td>0.876111</td>\n",
       "    </tr>\n",
       "    <tr>\n",
       "      <th>4</th>\n",
       "      <td>LogReg</td>\n",
       "      <td>0.915966</td>\n",
       "      <td>0.889179</td>\n",
       "      <td>0.938102</td>\n",
       "      <td>0.912985</td>\n",
       "    </tr>\n",
       "  </tbody>\n",
       "</table>\n",
       "</div>"
      ],
      "text/plain": [
       "                     Name  Accuracy    Recall  Precision        F1\n",
       "0      Baseline - MultiNB  0.683258  0.720991   0.667069  0.692982\n",
       "1       Baseline No Stops  0.832579  0.867014   0.809002  0.837004\n",
       "2  Baseline Adjusted Data  0.741435  0.726206   0.745649  0.735799\n",
       "3               Tuned MNB  0.864900  0.963494   0.803261  0.876111\n",
       "4                  LogReg  0.915966  0.889179   0.938102  0.912985"
      ]
     },
     "execution_count": 52,
     "metadata": {},
     "output_type": "execute_result"
    }
   ],
   "source": [
    "score_df = score_df.append(update_score_df(model_name), ignore_index=True)\n",
    "score_df"
   ]
  },
  {
   "cell_type": "markdown",
   "id": "f59f745e-c82e-4f95-b6c7-f45ee39a8342",
   "metadata": {},
   "source": [
    "##### talk about results _________________________________________"
   ]
  },
  {
   "cell_type": "code",
   "execution_count": null,
   "id": "4d359393-8353-4a0c-8661-e3b349bbb177",
   "metadata": {},
   "outputs": [],
   "source": []
  },
  {
   "cell_type": "markdown",
   "id": "44384a34-ac9c-460b-815f-7c37f9948053",
   "metadata": {},
   "source": [
    "## Model 4 - Decision Tree"
   ]
  },
  {
   "cell_type": "code",
   "execution_count": 53,
   "id": "544077ff-da15-43b8-8218-7372dd9ffa3c",
   "metadata": {},
   "outputs": [
    {
     "name": "stdout",
     "output_type": "stream",
     "text": [
      "Fitting 5 folds for each of 110 candidates, totalling 550 fits\n"
     ]
    },
    {
     "data": {
      "text/plain": [
       "GridSearchCV(cv=5,\n",
       "             estimator=Pipeline(steps=[('vectorizer', TfidfVectorizer()),\n",
       "                                       ('clf', DecisionTreeClassifier())]),\n",
       "             n_jobs=-1,\n",
       "             param_grid=[{'vectorizer__max_df': (0.25, 0.5, 0.75, 1.0),\n",
       "                          'vectorizer__max_features': (None, 50, 100, 200, 300),\n",
       "                          'vectorizer__ngram_range': [(1, 1), (1, 2), (1, 3)]},\n",
       "                         {'clf__criterion': ['gini', 'entropy'],\n",
       "                          'clf__max_depth': [2, 3, 5, 10, 20],\n",
       "                          'clf__min_samples_leaf': [5, 10, 20, 50, 100]}],\n",
       "             scoring='accuracy', verbose=True)"
      ]
     },
     "execution_count": 53,
     "metadata": {},
     "output_type": "execute_result"
    }
   ],
   "source": [
    "#model name for score keeping\n",
    "model_name = 'Decision Tree'\n",
    "\n",
    "#parameters:\n",
    "model_params = {\n",
    "    'clf__max_depth': [2, 3, 5, 10, 20],\n",
    "    'clf__min_samples_leaf': [5, 10, 20, 50, 100],\n",
    "    'clf__criterion': [\"gini\", \"entropy\"]\n",
    "}\n",
    "\n",
    "#create pipeline\n",
    "pipe = Pipeline([('vectorizer', TfidfVectorizer()),\n",
    "                          ('clf', DecisionTreeClassifier())])\n",
    "\n",
    "############################################################################################\n",
    "\n",
    "params = [tfidf_params, model_params]\n",
    "\n",
    "#gridsearch\n",
    "gscv = GridSearchCV(pipe, params, cv = 5, n_jobs=-1, verbose=True, scoring = 'accuracy')\n",
    "gscv.fit(X_train, y_train)"
   ]
  },
  {
   "cell_type": "code",
   "execution_count": 54,
   "id": "ff8fdb87-272a-4836-a96b-5d7569cfa99c",
   "metadata": {},
   "outputs": [
    {
     "name": "stdout",
     "output_type": "stream",
     "text": [
      "              precision    recall  f1-score   support\n",
      "\n",
      "           0       0.79      0.96      0.86       780\n",
      "           1       0.94      0.74      0.83       767\n",
      "\n",
      "    accuracy                           0.85      1547\n",
      "   macro avg       0.87      0.85      0.85      1547\n",
      "weighted avg       0.87      0.85      0.85      1547\n",
      "\n"
     ]
    },
    {
     "data": {
      "image/png": "[encoded data removed]",
      "text/plain": [
       "<Figure size 432x288 with 2 Axes>"
      ]
     },
     "metadata": {
      "needs_background": "light"
     },
     "output_type": "display_data"
    }
   ],
   "source": [
    "#predict on test data\n",
    "y_pred = gscv.predict(X_test)\n",
    "\n",
    "print(classification_report(y_test, y_pred))\n",
    "\n",
    "plot_confusion(model_name)"
   ]
  },
  {
   "cell_type": "code",
   "execution_count": 55,
   "id": "dea81c48-aae0-458d-9ed7-c6ca24d432ea",
   "metadata": {
    "tags": []
   },
   "outputs": [
    {
     "data": {
      "text/html": [
       "<div>\n",
       "<style scoped>\n",
       "    .dataframe tbody tr th:only-of-type {\n",
       "        vertical-align: middle;\n",
       "    }\n",
       "\n",
       "    .dataframe tbody tr th {\n",
       "        vertical-align: top;\n",
       "    }\n",
       "\n",
       "    .dataframe thead th {\n",
       "        text-align: right;\n",
       "    }\n",
       "</style>\n",
       "<table border=\"1\" class=\"dataframe\">\n",
       "  <thead>\n",
       "    <tr style=\"text-align: right;\">\n",
       "      <th></th>\n",
       "      <th>Name</th>\n",
       "      <th>Accuracy</th>\n",
       "      <th>Recall</th>\n",
       "      <th>Precision</th>\n",
       "      <th>F1</th>\n",
       "    </tr>\n",
       "  </thead>\n",
       "  <tbody>\n",
       "    <tr>\n",
       "      <th>0</th>\n",
       "      <td>Baseline - MultiNB</td>\n",
       "      <td>0.683258</td>\n",
       "      <td>0.720991</td>\n",
       "      <td>0.667069</td>\n",
       "      <td>0.692982</td>\n",
       "    </tr>\n",
       "    <tr>\n",
       "      <th>1</th>\n",
       "      <td>Baseline No Stops</td>\n",
       "      <td>0.832579</td>\n",
       "      <td>0.867014</td>\n",
       "      <td>0.809002</td>\n",
       "      <td>0.837004</td>\n",
       "    </tr>\n",
       "    <tr>\n",
       "      <th>2</th>\n",
       "      <td>Baseline Adjusted Data</td>\n",
       "      <td>0.741435</td>\n",
       "      <td>0.726206</td>\n",
       "      <td>0.745649</td>\n",
       "      <td>0.735799</td>\n",
       "    </tr>\n",
       "    <tr>\n",
       "      <th>3</th>\n",
       "      <td>Tuned MNB</td>\n",
       "      <td>0.864900</td>\n",
       "      <td>0.963494</td>\n",
       "      <td>0.803261</td>\n",
       "      <td>0.876111</td>\n",
       "    </tr>\n",
       "    <tr>\n",
       "      <th>4</th>\n",
       "      <td>LogReg</td>\n",
       "      <td>0.915966</td>\n",
       "      <td>0.889179</td>\n",
       "      <td>0.938102</td>\n",
       "      <td>0.912985</td>\n",
       "    </tr>\n",
       "    <tr>\n",
       "      <th>5</th>\n",
       "      <td>Decision Tree</td>\n",
       "      <td>0.848093</td>\n",
       "      <td>0.736636</td>\n",
       "      <td>0.944816</td>\n",
       "      <td>0.827839</td>\n",
       "    </tr>\n",
       "  </tbody>\n",
       "</table>\n",
       "</div>"
      ],
      "text/plain": [
       "                     Name  Accuracy    Recall  Precision        F1\n",
       "0      Baseline - MultiNB  0.683258  0.720991   0.667069  0.692982\n",
       "1       Baseline No Stops  0.832579  0.867014   0.809002  0.837004\n",
       "2  Baseline Adjusted Data  0.741435  0.726206   0.745649  0.735799\n",
       "3               Tuned MNB  0.864900  0.963494   0.803261  0.876111\n",
       "4                  LogReg  0.915966  0.889179   0.938102  0.912985\n",
       "5           Decision Tree  0.848093  0.736636   0.944816  0.827839"
      ]
     },
     "execution_count": 55,
     "metadata": {},
     "output_type": "execute_result"
    }
   ],
   "source": [
    "score_df = score_df.append(update_score_df(model_name), ignore_index=True)\n",
    "score_df"
   ]
  },
  {
   "cell_type": "markdown",
   "id": "cd25615d-72c6-43b9-a738-2a746033e4f9",
   "metadata": {},
   "source": [
    "##### talk about results _________________________________________"
   ]
  },
  {
   "cell_type": "code",
   "execution_count": null,
   "id": "83dd26f5-591e-4d3c-b4d8-7bcf0ce7fb57",
   "metadata": {},
   "outputs": [],
   "source": []
  },
  {
   "cell_type": "markdown",
   "id": "f078bf67-b68e-45e9-b6f7-86f242a0380c",
   "metadata": {},
   "source": [
    "## Model 5 - Random Forest"
   ]
  },
  {
   "cell_type": "code",
   "execution_count": 56,
   "id": "7c1e0b4e-88ee-4475-b9e1-207107a8d722",
   "metadata": {},
   "outputs": [
    {
     "name": "stdout",
     "output_type": "stream",
     "text": [
      "Fitting 5 folds for each of 96 candidates, totalling 480 fits\n"
     ]
    },
    {
     "data": {
      "text/plain": [
       "GridSearchCV(cv=5,\n",
       "             estimator=Pipeline(steps=[('vectorizer', TfidfVectorizer()),\n",
       "                                       ('clf', RandomForestClassifier())]),\n",
       "             n_jobs=-1,\n",
       "             param_grid=[{'vectorizer__max_df': (0.25, 0.5, 0.75, 1.0),\n",
       "                          'vectorizer__max_features': (None, 50, 100, 200, 300),\n",
       "                          'vectorizer__ngram_range': [(1, 1), (1, 2), (1, 3)]},\n",
       "                         {'clf__max_depth': [None, 3, 4, 10],\n",
       "                          'clf__max_features': [2, 5, 10],\n",
       "                          'clf__n_estimators': [10, 100, 1000]}],\n",
       "             scoring='accuracy', verbose=True)"
      ]
     },
     "execution_count": 56,
     "metadata": {},
     "output_type": "execute_result"
    }
   ],
   "source": [
    "#model name for score keeping\n",
    "model_name = 'Random Forest'\n",
    "\n",
    "#parameters:\n",
    "model_params = {\n",
    "    'clf__n_estimators': [10,100,1000],\n",
    "    'clf__max_depth': [None, 3, 4, 10],\n",
    "    'clf__max_features': [2, 5, 10]\n",
    "    \n",
    "}\n",
    "\n",
    "#create pipeline\n",
    "pipe = Pipeline([('vectorizer', TfidfVectorizer()),\n",
    "                          ('clf', RandomForestClassifier())])\n",
    "\n",
    "############################################################################################\n",
    "\n",
    "params = [tfidf_params, model_params]\n",
    "\n",
    "#gridsearch\n",
    "gscv = GridSearchCV(pipe, params, cv = 5, n_jobs=-1, verbose=True, scoring = 'accuracy')\n",
    "gscv.fit(X_train, y_train)"
   ]
  },
  {
   "cell_type": "code",
   "execution_count": 57,
   "id": "17267b20-7ba4-465c-b80a-7d5dc46b9725",
   "metadata": {},
   "outputs": [
    {
     "name": "stdout",
     "output_type": "stream",
     "text": [
      "              precision    recall  f1-score   support\n",
      "\n",
      "           0       0.86      0.90      0.88       780\n",
      "           1       0.90      0.85      0.87       767\n",
      "\n",
      "    accuracy                           0.88      1547\n",
      "   macro avg       0.88      0.88      0.88      1547\n",
      "weighted avg       0.88      0.88      0.88      1547\n",
      "\n"
     ]
    },
    {
     "data": {
      "image/png": "[encoded data removed]",
      "text/plain": [
       "<Figure size 432x288 with 2 Axes>"
      ]
     },
     "metadata": {
      "needs_background": "light"
     },
     "output_type": "display_data"
    }
   ],
   "source": [
    "#predict on test data\n",
    "y_pred = gscv.predict(X_test)\n",
    "\n",
    "print(classification_report(y_test, y_pred))\n",
    "\n",
    "plot_confusion(model_name)"
   ]
  },
  {
   "cell_type": "code",
   "execution_count": 58,
   "id": "c6d8fa9b-cccb-4160-a023-345f834296ca",
   "metadata": {
    "tags": []
   },
   "outputs": [
    {
     "data": {
      "text/html": [
       "<div>\n",
       "<style scoped>\n",
       "    .dataframe tbody tr th:only-of-type {\n",
       "        vertical-align: middle;\n",
       "    }\n",
       "\n",
       "    .dataframe tbody tr th {\n",
       "        vertical-align: top;\n",
       "    }\n",
       "\n",
       "    .dataframe thead th {\n",
       "        text-align: right;\n",
       "    }\n",
       "</style>\n",
       "<table border=\"1\" class=\"dataframe\">\n",
       "  <thead>\n",
       "    <tr style=\"text-align: right;\">\n",
       "      <th></th>\n",
       "      <th>Name</th>\n",
       "      <th>Accuracy</th>\n",
       "      <th>Recall</th>\n",
       "      <th>Precision</th>\n",
       "      <th>F1</th>\n",
       "    </tr>\n",
       "  </thead>\n",
       "  <tbody>\n",
       "    <tr>\n",
       "      <th>0</th>\n",
       "      <td>Baseline - MultiNB</td>\n",
       "      <td>0.683258</td>\n",
       "      <td>0.720991</td>\n",
       "      <td>0.667069</td>\n",
       "      <td>0.692982</td>\n",
       "    </tr>\n",
       "    <tr>\n",
       "      <th>1</th>\n",
       "      <td>Baseline No Stops</td>\n",
       "      <td>0.832579</td>\n",
       "      <td>0.867014</td>\n",
       "      <td>0.809002</td>\n",
       "      <td>0.837004</td>\n",
       "    </tr>\n",
       "    <tr>\n",
       "      <th>2</th>\n",
       "      <td>Baseline Adjusted Data</td>\n",
       "      <td>0.741435</td>\n",
       "      <td>0.726206</td>\n",
       "      <td>0.745649</td>\n",
       "      <td>0.735799</td>\n",
       "    </tr>\n",
       "    <tr>\n",
       "      <th>3</th>\n",
       "      <td>Tuned MNB</td>\n",
       "      <td>0.864900</td>\n",
       "      <td>0.963494</td>\n",
       "      <td>0.803261</td>\n",
       "      <td>0.876111</td>\n",
       "    </tr>\n",
       "    <tr>\n",
       "      <th>4</th>\n",
       "      <td>LogReg</td>\n",
       "      <td>0.915966</td>\n",
       "      <td>0.889179</td>\n",
       "      <td>0.938102</td>\n",
       "      <td>0.912985</td>\n",
       "    </tr>\n",
       "    <tr>\n",
       "      <th>5</th>\n",
       "      <td>Decision Tree</td>\n",
       "      <td>0.848093</td>\n",
       "      <td>0.736636</td>\n",
       "      <td>0.944816</td>\n",
       "      <td>0.827839</td>\n",
       "    </tr>\n",
       "    <tr>\n",
       "      <th>6</th>\n",
       "      <td>Random Forest</td>\n",
       "      <td>0.877828</td>\n",
       "      <td>0.851369</td>\n",
       "      <td>0.896978</td>\n",
       "      <td>0.873579</td>\n",
       "    </tr>\n",
       "  </tbody>\n",
       "</table>\n",
       "</div>"
      ],
      "text/plain": [
       "                     Name  Accuracy    Recall  Precision        F1\n",
       "0      Baseline - MultiNB  0.683258  0.720991   0.667069  0.692982\n",
       "1       Baseline No Stops  0.832579  0.867014   0.809002  0.837004\n",
       "2  Baseline Adjusted Data  0.741435  0.726206   0.745649  0.735799\n",
       "3               Tuned MNB  0.864900  0.963494   0.803261  0.876111\n",
       "4                  LogReg  0.915966  0.889179   0.938102  0.912985\n",
       "5           Decision Tree  0.848093  0.736636   0.944816  0.827839\n",
       "6           Random Forest  0.877828  0.851369   0.896978  0.873579"
      ]
     },
     "execution_count": 58,
     "metadata": {},
     "output_type": "execute_result"
    }
   ],
   "source": [
    "score_df = score_df.append(update_score_df(model_name), ignore_index=True)\n",
    "score_df"
   ]
  },
  {
   "cell_type": "markdown",
   "id": "9a290f53-c2ca-4545-90c1-f1751bb0b70e",
   "metadata": {
    "tags": []
   },
   "source": [
    "##### talk about results _________________________________________"
   ]
  },
  {
   "cell_type": "code",
   "execution_count": null,
   "id": "7f7671c2-c46a-4eed-bd09-f8468fa0b42e",
   "metadata": {},
   "outputs": [],
   "source": []
  },
  {
   "cell_type": "markdown",
   "id": "434c3345-d20a-4d9c-8293-d75654cd4d56",
   "metadata": {},
   "source": [
    "## Model 6 - Support Vector Classification"
   ]
  },
  {
   "cell_type": "code",
   "execution_count": 59,
   "id": "a021ec04-c0d4-4107-b612-5d9b2322532c",
   "metadata": {},
   "outputs": [
    {
     "name": "stdout",
     "output_type": "stream",
     "text": [
      "Fitting 5 folds for each of 61 candidates, totalling 305 fits\n"
     ]
    },
    {
     "data": {
      "text/plain": [
       "GridSearchCV(cv=5,\n",
       "             estimator=Pipeline(steps=[('vectorizer', TfidfVectorizer()),\n",
       "                                       ('clf', SVC())]),\n",
       "             n_jobs=-1,\n",
       "             param_grid=[{'vectorizer__max_df': (0.25, 0.5, 0.75, 1.0),\n",
       "                          'vectorizer__max_features': (None, 50, 100, 200, 300),\n",
       "                          'vectorizer__ngram_range': [(1, 1), (1, 2), (1, 3)]},\n",
       "                         {}],\n",
       "             scoring='accuracy', verbose=True)"
      ]
     },
     "execution_count": 59,
     "metadata": {},
     "output_type": "execute_result"
    }
   ],
   "source": [
    "#model name for score keeping\n",
    "model_name = 'SVC'\n",
    "\n",
    "#parameters:\n",
    "model_params = {\n",
    "    ## MODEL PARAMS HERE!!!!!!!!!!!!!!!!!!!!!\n",
    "    \n",
    "}\n",
    "\n",
    "#create pipeline\n",
    "pipe = Pipeline([('vectorizer', TfidfVectorizer()),\n",
    "                          ('clf', SVC())])\n",
    "\n",
    "############################################################################################\n",
    "\n",
    "params = [tfidf_params, model_params]\n",
    "\n",
    "#gridsearch\n",
    "gscv = GridSearchCV(pipe, params, cv = 5, n_jobs=-1, verbose=True, scoring = 'accuracy')\n",
    "gscv.fit(X_train, y_train)"
   ]
  },
  {
   "cell_type": "code",
   "execution_count": 60,
   "id": "1d2413f0-e29c-4f8c-b98e-4b3898ba58f6",
   "metadata": {},
   "outputs": [
    {
     "name": "stdout",
     "output_type": "stream",
     "text": [
      "              precision    recall  f1-score   support\n",
      "\n",
      "           0       0.88      0.96      0.92       780\n",
      "           1       0.96      0.86      0.91       767\n",
      "\n",
      "    accuracy                           0.91      1547\n",
      "   macro avg       0.92      0.91      0.91      1547\n",
      "weighted avg       0.92      0.91      0.91      1547\n",
      "\n"
     ]
    },
    {
     "data": {
      "image/png": "[encoded data removed]",
      "text/plain": [
       "<Figure size 432x288 with 2 Axes>"
      ]
     },
     "metadata": {
      "needs_background": "light"
     },
     "output_type": "display_data"
    }
   ],
   "source": [
    "#predict on test data\n",
    "y_pred = gscv.predict(X_test)\n",
    "\n",
    "print(classification_report(y_test, y_pred))\n",
    "\n",
    "plot_confusion(model_name)"
   ]
  },
  {
   "cell_type": "code",
   "execution_count": 61,
   "id": "a5ab3736-3d6a-4fe6-8a2b-c2c2e54ee0ff",
   "metadata": {
    "tags": []
   },
   "outputs": [
    {
     "data": {
      "text/html": [
       "<div>\n",
       "<style scoped>\n",
       "    .dataframe tbody tr th:only-of-type {\n",
       "        vertical-align: middle;\n",
       "    }\n",
       "\n",
       "    .dataframe tbody tr th {\n",
       "        vertical-align: top;\n",
       "    }\n",
       "\n",
       "    .dataframe thead th {\n",
       "        text-align: right;\n",
       "    }\n",
       "</style>\n",
       "<table border=\"1\" class=\"dataframe\">\n",
       "  <thead>\n",
       "    <tr style=\"text-align: right;\">\n",
       "      <th></th>\n",
       "      <th>Name</th>\n",
       "      <th>Accuracy</th>\n",
       "      <th>Recall</th>\n",
       "      <th>Precision</th>\n",
       "      <th>F1</th>\n",
       "    </tr>\n",
       "  </thead>\n",
       "  <tbody>\n",
       "    <tr>\n",
       "      <th>0</th>\n",
       "      <td>Baseline - MultiNB</td>\n",
       "      <td>0.683258</td>\n",
       "      <td>0.720991</td>\n",
       "      <td>0.667069</td>\n",
       "      <td>0.692982</td>\n",
       "    </tr>\n",
       "    <tr>\n",
       "      <th>1</th>\n",
       "      <td>Baseline No Stops</td>\n",
       "      <td>0.832579</td>\n",
       "      <td>0.867014</td>\n",
       "      <td>0.809002</td>\n",
       "      <td>0.837004</td>\n",
       "    </tr>\n",
       "    <tr>\n",
       "      <th>2</th>\n",
       "      <td>Baseline Adjusted Data</td>\n",
       "      <td>0.741435</td>\n",
       "      <td>0.726206</td>\n",
       "      <td>0.745649</td>\n",
       "      <td>0.735799</td>\n",
       "    </tr>\n",
       "    <tr>\n",
       "      <th>3</th>\n",
       "      <td>Tuned MNB</td>\n",
       "      <td>0.864900</td>\n",
       "      <td>0.963494</td>\n",
       "      <td>0.803261</td>\n",
       "      <td>0.876111</td>\n",
       "    </tr>\n",
       "    <tr>\n",
       "      <th>4</th>\n",
       "      <td>LogReg</td>\n",
       "      <td>0.915966</td>\n",
       "      <td>0.889179</td>\n",
       "      <td>0.938102</td>\n",
       "      <td>0.912985</td>\n",
       "    </tr>\n",
       "    <tr>\n",
       "      <th>5</th>\n",
       "      <td>Decision Tree</td>\n",
       "      <td>0.848093</td>\n",
       "      <td>0.736636</td>\n",
       "      <td>0.944816</td>\n",
       "      <td>0.827839</td>\n",
       "    </tr>\n",
       "    <tr>\n",
       "      <th>6</th>\n",
       "      <td>Random Forest</td>\n",
       "      <td>0.877828</td>\n",
       "      <td>0.851369</td>\n",
       "      <td>0.896978</td>\n",
       "      <td>0.873579</td>\n",
       "    </tr>\n",
       "    <tr>\n",
       "      <th>7</th>\n",
       "      <td>SVC</td>\n",
       "      <td>0.912088</td>\n",
       "      <td>0.860495</td>\n",
       "      <td>0.957910</td>\n",
       "      <td>0.906593</td>\n",
       "    </tr>\n",
       "  </tbody>\n",
       "</table>\n",
       "</div>"
      ],
      "text/plain": [
       "                     Name  Accuracy    Recall  Precision        F1\n",
       "0      Baseline - MultiNB  0.683258  0.720991   0.667069  0.692982\n",
       "1       Baseline No Stops  0.832579  0.867014   0.809002  0.837004\n",
       "2  Baseline Adjusted Data  0.741435  0.726206   0.745649  0.735799\n",
       "3               Tuned MNB  0.864900  0.963494   0.803261  0.876111\n",
       "4                  LogReg  0.915966  0.889179   0.938102  0.912985\n",
       "5           Decision Tree  0.848093  0.736636   0.944816  0.827839\n",
       "6           Random Forest  0.877828  0.851369   0.896978  0.873579\n",
       "7                     SVC  0.912088  0.860495   0.957910  0.906593"
      ]
     },
     "execution_count": 61,
     "metadata": {},
     "output_type": "execute_result"
    }
   ],
   "source": [
    "score_df = score_df.append(update_score_df(model_name), ignore_index=True)\n",
    "score_df"
   ]
  },
  {
   "cell_type": "markdown",
   "id": "5b224b45-4515-4cb5-880f-c0b1fa010b0c",
   "metadata": {
    "tags": []
   },
   "source": [
    "##### talk about results _________________________________________"
   ]
  },
  {
   "cell_type": "code",
   "execution_count": null,
   "id": "ad001790-edab-45c6-be36-c98723aaab41",
   "metadata": {},
   "outputs": [],
   "source": []
  },
  {
   "cell_type": "markdown",
   "id": "ceec747a-5359-477c-a821-6a5a330499e2",
   "metadata": {},
   "source": [
    "## COMPARE MODELS\n",
    "\n",
    "-look at score_df\n",
    "\n",
    "-also look at conf matrices in a graph\n",
    "\n",
    "-graph comparing significant scores like a good smert boy"
   ]
  },
  {
   "cell_type": "code",
   "execution_count": null,
   "id": "836905b4-5c4c-4f67-be51-3ee48cad1554",
   "metadata": {},
   "outputs": [],
   "source": []
  },
  {
   "cell_type": "code",
   "execution_count": null,
   "id": "47ccd229-ae3e-4183-b1d9-4a676e9b8689",
   "metadata": {},
   "outputs": [],
   "source": []
  },
  {
   "cell_type": "markdown",
   "id": "c56b3737-b5ac-44d3-bf94-49b052fa598f",
   "metadata": {},
   "source": [
    "## Word Embeddings and RNN?"
   ]
  },
  {
   "cell_type": "markdown",
   "id": "b94edab2-72fe-4142-a08f-b7622f16caf3",
   "metadata": {},
   "source": [
    "bigrams discussion\n",
    "\n",
    "talk about word embeddings\n",
    "\n",
    "rnn? implement at least a glimpse into neural networks\n",
    "\n",
    "identify bigrams and trigrams with most prominence\n",
    "\n",
    "remember to include detailed info in into, conclusion, readme about all models and methods used"
   ]
  },
  {
   "cell_type": "code",
   "execution_count": null,
   "id": "a4448fb5-07ea-43a4-85af-849260f782d5",
   "metadata": {},
   "outputs": [],
   "source": []
  },
  {
   "cell_type": "code",
   "execution_count": null,
   "id": "c6bc37fd-e0e9-4db2-95e6-0825fbfa1b80",
   "metadata": {},
   "outputs": [],
   "source": []
  },
  {
   "cell_type": "code",
   "execution_count": null,
   "id": "be6de1e0-081f-4a2b-805f-c79c8dd97b3a",
   "metadata": {},
   "outputs": [],
   "source": []
  },
  {
   "cell_type": "code",
   "execution_count": null,
   "id": "343d3d50-5ce9-4c39-800e-7a6449d6ac1b",
   "metadata": {},
   "outputs": [],
   "source": []
  },
  {
   "cell_type": "code",
   "execution_count": null,
   "id": "71b51de5-159d-44cc-a502-c07d2628290c",
   "metadata": {},
   "outputs": [],
   "source": []
  },
  {
   "cell_type": "code",
   "execution_count": null,
   "id": "dcb8ded8-a952-4c5d-ad17-f43c002543c0",
   "metadata": {},
   "outputs": [],
   "source": []
  },
  {
   "cell_type": "code",
   "execution_count": null,
   "id": "77ee0312-dfa6-4a5a-959f-57d5f261e412",
   "metadata": {},
   "outputs": [],
   "source": []
  }
 ],
 "metadata": {
  "kernelspec": {
   "display_name": "Python 3 (ipykernel)",
   "language": "python",
   "name": "python3"
  },
  "language_info": {
   "codemirror_mode": {
    "name": "ipython",
    "version": 3
   },
   "file_extension": ".py",
   "mimetype": "text/x-python",
   "name": "python",
   "nbconvert_exporter": "python",
   "pygments_lexer": "ipython3",
   "version": "3.9.7"
  },
  "toc-autonumbering": false
 },
 "nbformat": 4,
 "nbformat_minor": 5
}
