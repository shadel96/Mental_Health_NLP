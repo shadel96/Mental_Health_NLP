{
 "cells": [
  {
   "cell_type": "markdown",
   "id": "29606f3c-f63d-4504-85d3-675d48233166",
   "metadata": {
    "tags": []
   },
   "source": [
    "# Capstone"
   ]
  },
  {
   "cell_type": "markdown",
   "id": "5987351f-3b08-487f-a1f5-3cc8d0949440",
   "metadata": {
    "tags": []
   },
   "source": [
    "### Introduction etc etc"
   ]
  },
  {
   "cell_type": "markdown",
   "id": "c15bf877-2bae-4fc9-86b4-ea29b7c7c9e1",
   "metadata": {},
   "source": [
    "***\n",
    "***"
   ]
  },
  {
   "cell_type": "markdown",
   "id": "8f715733-0685-4747-917c-71f5e8cae490",
   "metadata": {},
   "source": [
    "# Imports, Loading Data"
   ]
  },
  {
   "cell_type": "code",
   "execution_count": 1,
   "id": "db98d5bc-8147-4d7c-8e15-d46a4da22136",
   "metadata": {},
   "outputs": [],
   "source": [
    "#imports\n",
    "import os\n",
    "import matplotlib.pyplot as plt\n",
    "%matplotlib inline\n",
    "import numpy as np\n",
    "import pandas as pd\n",
    "import datetime\n",
    "import re\n",
    "import string\n",
    "import seaborn as sns\n",
    "import nltk\n",
    "import cv2\n",
    "from scipy import spatial\n",
    "from nltk import word_tokenize, FreqDist\n",
    "from nltk.collocations import *\n",
    "from nltk.corpus import stopwords\n",
    "from nltk.stem.wordnet import WordNetLemmatizer\n",
    "from sklearn.model_selection import train_test_split, GridSearchCV\n",
    "from sklearn.metrics import accuracy_score, precision_score, recall_score, f1_score, confusion_matrix, classification_report\n",
    "from gensim.models import Word2Vec, word2vec\n",
    "from mpl_toolkits.axes_grid1 import ImageGrid\n",
    "from wordcloud import WordCloud\n",
    "\n",
    "#models:\n",
    "from sklearn.ensemble import RandomForestClassifier\n",
    "from sklearn.tree import DecisionTreeClassifier\n",
    "from sklearn.naive_bayes import MultinomialNB\n",
    "from sklearn.svm import SVC\n",
    "from sklearn.linear_model import LogisticRegression\n",
    "\n",
    "from sklearn.pipeline import Pipeline\n",
    "from sklearn.model_selection import cross_val_score\n",
    "\n",
    "import tensorflow as tf\n",
    "from keras.optimizers import SGD\n",
    "from tensorflow.keras import preprocessing\n",
    "from keras.layers import Input, Dense, LSTM, Embedding\n",
    "from keras.layers import Dropout, Activation, Bidirectional, GlobalMaxPool1D\n",
    "from keras.models import Sequential\n",
    "from keras import initializers, regularizers, constraints, optimizers, layers\n",
    "from keras.preprocessing import text, sequence\n",
    "\n",
    "from keras_preprocessing.sequence import pad_sequences\n",
    "\n",
    "\n",
    "from sklearn.feature_extraction.text import TfidfVectorizer, CountVectorizer\n",
    "\n",
    "#seed for reproducible results\n",
    "np.random.seed(42)\n",
    "tf.random.set_seed(42)"
   ]
  },
  {
   "cell_type": "markdown",
   "id": "e5496364-beeb-422e-9b5a-774886f1f906",
   "metadata": {},
   "source": [
    "##### explain datset in detail"
   ]
  },
  {
   "cell_type": "code",
   "execution_count": 2,
   "id": "5c68b7b9-19e7-4167-8395-43dca0223218",
   "metadata": {},
   "outputs": [],
   "source": [
    "data_dir_depression = './data/depression_dataset_reddit_cleaned.csv'\n",
    "\n",
    "depression_df = pd.read_csv(data_dir_depression)"
   ]
  },
  {
   "cell_type": "code",
   "execution_count": null,
   "id": "558ca8ac-ea71-4256-b85b-52c1f0e22a0d",
   "metadata": {},
   "outputs": [],
   "source": []
  },
  {
   "cell_type": "markdown",
   "id": "3cc84781-e6fa-499f-9196-bb7e7bbde3ba",
   "metadata": {},
   "source": [
    "# EDA and Preprocessing"
   ]
  },
  {
   "cell_type": "markdown",
   "id": "3c9190a1-e099-416f-b7dd-9ee1b0c1772b",
   "metadata": {
    "tags": []
   },
   "source": [
    "## Exploratory Data Analysis"
   ]
  },
  {
   "cell_type": "code",
   "execution_count": 3,
   "id": "637512be-8df0-48f8-b728-00b884e6be81",
   "metadata": {},
   "outputs": [
    {
     "name": "stdout",
     "output_type": "stream",
     "text": [
      "<class 'pandas.core.frame.DataFrame'>\n",
      "RangeIndex: 7731 entries, 0 to 7730\n",
      "Data columns (total 2 columns):\n",
      " #   Column         Non-Null Count  Dtype \n",
      "---  ------         --------------  ----- \n",
      " 0   clean_text     7731 non-null   object\n",
      " 1   is_depression  7731 non-null   int64 \n",
      "dtypes: int64(1), object(1)\n",
      "memory usage: 120.9+ KB\n"
     ]
    }
   ],
   "source": [
    "#change to df for ease of use\n",
    "df = depression_df\n",
    "df.info()"
   ]
  },
  {
   "cell_type": "code",
   "execution_count": 4,
   "id": "7ec09336-a62e-40ec-bb85-e5e29846da76",
   "metadata": {},
   "outputs": [
    {
     "data": {
      "text/html": [
       "<div>\n",
       "<style scoped>\n",
       "    .dataframe tbody tr th:only-of-type {\n",
       "        vertical-align: middle;\n",
       "    }\n",
       "\n",
       "    .dataframe tbody tr th {\n",
       "        vertical-align: top;\n",
       "    }\n",
       "\n",
       "    .dataframe thead th {\n",
       "        text-align: right;\n",
       "    }\n",
       "</style>\n",
       "<table border=\"1\" class=\"dataframe\">\n",
       "  <thead>\n",
       "    <tr style=\"text-align: right;\">\n",
       "      <th></th>\n",
       "      <th>clean_text</th>\n",
       "      <th>is_depression</th>\n",
       "    </tr>\n",
       "  </thead>\n",
       "  <tbody>\n",
       "    <tr>\n",
       "      <th>0</th>\n",
       "      <td>we understand that most people who reply immed...</td>\n",
       "      <td>1</td>\n",
       "    </tr>\n",
       "    <tr>\n",
       "      <th>1</th>\n",
       "      <td>welcome to r depression s check in post a plac...</td>\n",
       "      <td>1</td>\n",
       "    </tr>\n",
       "    <tr>\n",
       "      <th>2</th>\n",
       "      <td>anyone else instead of sleeping more when depr...</td>\n",
       "      <td>1</td>\n",
       "    </tr>\n",
       "    <tr>\n",
       "      <th>3</th>\n",
       "      <td>i ve kind of stuffed around a lot in my life d...</td>\n",
       "      <td>1</td>\n",
       "    </tr>\n",
       "    <tr>\n",
       "      <th>4</th>\n",
       "      <td>sleep is my greatest and most comforting escap...</td>\n",
       "      <td>1</td>\n",
       "    </tr>\n",
       "  </tbody>\n",
       "</table>\n",
       "</div>"
      ],
      "text/plain": [
       "                                          clean_text  is_depression\n",
       "0  we understand that most people who reply immed...              1\n",
       "1  welcome to r depression s check in post a plac...              1\n",
       "2  anyone else instead of sleeping more when depr...              1\n",
       "3  i ve kind of stuffed around a lot in my life d...              1\n",
       "4  sleep is my greatest and most comforting escap...              1"
      ]
     },
     "execution_count": 4,
     "metadata": {},
     "output_type": "execute_result"
    }
   ],
   "source": [
    "df.head()"
   ]
  },
  {
   "cell_type": "code",
   "execution_count": 5,
   "id": "a156f7f3-bb84-41c2-9d22-2ea956774297",
   "metadata": {},
   "outputs": [
    {
     "data": {
      "text/plain": [
       "clean_text       0\n",
       "is_depression    0\n",
       "dtype: int64"
      ]
     },
     "execution_count": 5,
     "metadata": {},
     "output_type": "execute_result"
    }
   ],
   "source": [
    "df.isna().sum()"
   ]
  },
  {
   "cell_type": "code",
   "execution_count": 6,
   "id": "88bbb06c-fa6a-4e56-a1b0-840583c9021e",
   "metadata": {},
   "outputs": [
    {
     "data": {
      "text/plain": [
       "0    3900\n",
       "1    3831\n",
       "Name: is_depression, dtype: int64"
      ]
     },
     "execution_count": 6,
     "metadata": {},
     "output_type": "execute_result"
    }
   ],
   "source": [
    "df['is_depression'].value_counts()"
   ]
  },
  {
   "cell_type": "markdown",
   "id": "fc483548-4f71-4609-9dac-7e6bbbc980fb",
   "metadata": {},
   "source": [
    "##### ______ discuss balance_____________________"
   ]
  },
  {
   "cell_type": "code",
   "execution_count": null,
   "id": "c60f562c-cffa-40fd-a810-527ace4d67f7",
   "metadata": {},
   "outputs": [],
   "source": []
  },
  {
   "cell_type": "code",
   "execution_count": 7,
   "id": "740a9d39-3424-41c5-8c93-ede7109e7984",
   "metadata": {},
   "outputs": [
    {
     "data": {
      "text/plain": [
       "True    7731\n",
       "Name: islowercase, dtype: int64"
      ]
     },
     "execution_count": 7,
     "metadata": {},
     "output_type": "execute_result"
    }
   ],
   "source": [
    "df['islowercase'] = list(map(lambda x: x.islower(), df['clean_text']))\n",
    "df['islowercase'].value_counts()"
   ]
  },
  {
   "cell_type": "markdown",
   "id": "4cf5ebb4-3f18-4c3b-ab3b-d15afad6ce64",
   "metadata": {},
   "source": [
    "## Preprocessing Data\n",
    "\n",
    "Explain __________________________________________________________________________________________\n",
    "\n",
    "will create variations of columns to be able to experiment with different options (with/without stopwords, etc)"
   ]
  },
  {
   "cell_type": "markdown",
   "id": "a5d1c407-14c0-4585-8984-1a6c5102da68",
   "metadata": {
    "tags": []
   },
   "source": [
    "### Lowercase Text"
   ]
  },
  {
   "cell_type": "markdown",
   "id": "506c9bf0-9ac4-4002-942d-2d524f8349dd",
   "metadata": {},
   "source": [
    "In this case, the text data from the downloaded dataset is already lowercase, so we do not need to take this step!"
   ]
  },
  {
   "cell_type": "code",
   "execution_count": 8,
   "id": "e2b700e0-62b7-43f4-81cf-bc5d3516a3a7",
   "metadata": {},
   "outputs": [],
   "source": [
    "# df['lower_text'] = df['clean_text'].apply(lambda x: \" \".join(x.lower() for x in x.split()))\n",
    "\n",
    "# df['lower_text'].head()"
   ]
  },
  {
   "cell_type": "markdown",
   "id": "09322531-412c-4da5-9e3f-619993014f51",
   "metadata": {
    "tags": []
   },
   "source": [
    "### Tokenize\n",
    "Explain __________________________________________________________________________________________"
   ]
  },
  {
   "cell_type": "code",
   "execution_count": 9,
   "id": "08386529-bccf-4aa9-ae5a-6b49037ab51c",
   "metadata": {},
   "outputs": [],
   "source": [
    "def tokenize_data(data):\n",
    "    \n",
    "    #(this regex code keeps words with apostrophes as single tokens)\n",
    "    pattern = \"([a-zA-Z]+(?:'[a-z]+)?)\"\n",
    "    \n",
    "    #create tokens\n",
    "    tokens = nltk.regexp_tokenize(data, pattern)\n",
    "    return [word for word in tokens]"
   ]
  },
  {
   "cell_type": "code",
   "execution_count": 10,
   "id": "e0eb6a84-f225-470d-a4ba-202c57aa1e18",
   "metadata": {},
   "outputs": [
    {
     "data": {
      "text/plain": [
       "0    [we, understand, that, most, people, who, repl...\n",
       "1    [welcome, to, r, depression, s, check, in, pos...\n",
       "2    [anyone, else, instead, of, sleeping, more, wh...\n",
       "3    [i, ve, kind, of, stuffed, around, a, lot, in,...\n",
       "4    [sleep, is, my, greatest, and, most, comfortin...\n",
       "Name: tokenized, dtype: object"
      ]
     },
     "execution_count": 10,
     "metadata": {},
     "output_type": "execute_result"
    }
   ],
   "source": [
    "df['tokenized'] = df.apply(lambda x: tokenize_data(x['clean_text']), axis=1)\n",
    "df['tokenized'].head()"
   ]
  },
  {
   "cell_type": "markdown",
   "id": "6f04abf2-cad3-42b7-8684-977692faaf4d",
   "metadata": {
    "tags": []
   },
   "source": [
    "### Stopwords\n",
    "Explain __________________________________________________________________________________________"
   ]
  },
  {
   "cell_type": "code",
   "execution_count": null,
   "id": "800df6b0-1384-44f8-be88-bd53fa7add4c",
   "metadata": {},
   "outputs": [],
   "source": [
    "#show top FreqDist of Tokenized Column\n",
    "FreqDist(sum(df['tokenized'], [])).most_common(30)"
   ]
  },
  {
   "cell_type": "code",
   "execution_count": null,
   "id": "aa384166-9b50-4fd9-a407-cca02f15cbf0",
   "metadata": {},
   "outputs": [],
   "source": [
    "stops = stopwords.words('english')\n",
    "\n",
    "#add punctuation\n",
    "for symbol in \",.'?!()\":\n",
    "    stops += symbol\n",
    "\n",
    "    #show example of stopwords list\n",
    "print(stops)"
   ]
  },
  {
   "cell_type": "code",
   "execution_count": null,
   "id": "1fe0272a-05ba-4fd4-8be2-8f555fefd2bb",
   "metadata": {},
   "outputs": [],
   "source": []
  },
  {
   "cell_type": "code",
   "execution_count": null,
   "id": "90fdc8d2-abcc-4b53-9550-3dc9e62d8f76",
   "metadata": {},
   "outputs": [],
   "source": [
    "def tokenize_remove_stops(data):\n",
    "    pattern = \"([a-zA-Z]+(?:'[a-z]+)?)\"\n",
    "    tokens = nltk.regexp_tokenize(data, pattern)\n",
    "    return [word for word in tokens if word not in stops]"
   ]
  },
  {
   "cell_type": "code",
   "execution_count": null,
   "id": "77589e97-a457-4957-b5f1-84c6006c1e6d",
   "metadata": {},
   "outputs": [],
   "source": [
    "df['tokenized_no_stops'] = df.apply(lambda x: tokenize_remove_stops(x['clean_text']), axis=1)\n",
    "\n",
    "#show difference\n",
    "df[['tokenized','tokenized_no_stops']].head()"
   ]
  },
  {
   "cell_type": "code",
   "execution_count": null,
   "id": "24f43407-62cf-4f70-b2fe-d5b56baf04ef",
   "metadata": {},
   "outputs": [],
   "source": [
    "#show top FreqDist now that stopwords are removed!\n",
    "freq_minus_stops = FreqDist(sum(df['tokenized_no_stops'], []))\n",
    "freq_minus_stops.most_common(30)"
   ]
  },
  {
   "cell_type": "markdown",
   "id": "6b8f2cc6-3f5e-43cb-8d84-284f148f3335",
   "metadata": {
    "tags": []
   },
   "source": [
    "##### explain wa, etc __________________________________________________________"
   ]
  },
  {
   "cell_type": "code",
   "execution_count": null,
   "id": "3672ac93-3543-4434-a352-5a09f5f2f91b",
   "metadata": {},
   "outputs": [],
   "source": [
    "stops.extend(['wa'])\n",
    "df['tokenized_no_stops'] = df.apply(lambda x: tokenize_remove_stops(x['clean_text']), axis=1)\n",
    "\n",
    "freq_minus_stops = FreqDist(sum(df['tokenized_no_stops'], []))\n",
    "freq_minus_stops.most_common(10)"
   ]
  },
  {
   "cell_type": "markdown",
   "id": "caf73208-2a45-4476-9976-25f3c2275fe9",
   "metadata": {},
   "source": [
    "##### show size diff _______________________________________________________"
   ]
  },
  {
   "cell_type": "code",
   "execution_count": null,
   "id": "b8c04209-f5f1-4ab3-a1c7-47e071856835",
   "metadata": {},
   "outputs": [],
   "source": []
  },
  {
   "cell_type": "markdown",
   "id": "5af938aa-5242-40f0-a1a5-baa783fc6181",
   "metadata": {},
   "source": [
    "### Lemmatization\n",
    "explain __________________________________________________________________________________________"
   ]
  },
  {
   "cell_type": "code",
   "execution_count": null,
   "id": "59c6756f-b41a-488b-bde2-bec9cd54954d",
   "metadata": {},
   "outputs": [],
   "source": [
    "lemmatizer = WordNetLemmatizer()\n",
    "\n",
    "def lemmatize_data(data):\n",
    "    return [lemmatizer.lemmatize(word) for word in data]"
   ]
  },
  {
   "cell_type": "code",
   "execution_count": null,
   "id": "e24d86f3-7404-4c4b-a2c1-61d5f02fa3ba",
   "metadata": {},
   "outputs": [],
   "source": [
    "df['lemmatized_no_stops'] = df['tokenized_no_stops'].apply(lemmatize_data)\n",
    "df['lemmatized_no_stops'].head()"
   ]
  },
  {
   "cell_type": "markdown",
   "id": "6ec780d5-0186-417c-81fd-990e4fd550b4",
   "metadata": {},
   "source": [
    "#### Rejoining Words\n",
    "final step for later use, explain"
   ]
  },
  {
   "cell_type": "code",
   "execution_count": null,
   "id": "4e2bac99-cdb7-4735-873d-8f035f09bba2",
   "metadata": {},
   "outputs": [],
   "source": []
  },
  {
   "cell_type": "code",
   "execution_count": null,
   "id": "92826b39-28ee-45d2-b58c-69586fe08c59",
   "metadata": {},
   "outputs": [],
   "source": [
    "def rejoin_words(column):\n",
    "    return ( \" \".join(column))\n",
    "\n",
    "df['rejoined']= df.apply(lambda x: rejoin_words(x['lemmatized_no_stops']), axis=1)\n",
    "df['rejoined']"
   ]
  },
  {
   "cell_type": "code",
   "execution_count": null,
   "id": "c8866b8e-9c89-4c33-bc45-211644bcfa33",
   "metadata": {},
   "outputs": [],
   "source": []
  },
  {
   "cell_type": "markdown",
   "id": "1e9f9b2e-ab37-45f3-bfe8-48e1ed9eb44a",
   "metadata": {},
   "source": [
    "### The Peprocessed Dataset\n",
    "##### explain _______________________________________"
   ]
  },
  {
   "cell_type": "code",
   "execution_count": null,
   "id": "fe6e6834-ce9c-4f1d-9c63-d950c0c19e2e",
   "metadata": {},
   "outputs": [],
   "source": [
    "#show df minus the columns we dont need for this analysis\n",
    "df[['clean_text', 'rejoined']].head()"
   ]
  },
  {
   "cell_type": "markdown",
   "id": "ba762689-727e-4bb8-a611-8a00353633a9",
   "metadata": {},
   "source": [
    "#### Check for Significant Words in Corpus\n",
    "\n",
    "specifically words that (to a human observer) may be dead giveaways for depression"
   ]
  },
  {
   "cell_type": "code",
   "execution_count": null,
   "id": "1056fff0-e5e7-4b2d-a8f4-92667aeaf59e",
   "metadata": {},
   "outputs": [],
   "source": [
    "depressed_df = df[df['is_depression']==1]\n",
    "undiag_df = df[df['is_depression']==0]\n",
    "\n",
    "depressed_top = FreqDist(sum(depressed_df['tokenized_no_stops'], [])).most_common(50)\n",
    "undiag_top = FreqDist(sum(undiag_df['tokenized_no_stops'], [])).most_common(50)\n",
    "\n",
    "depressed_top = pd.Series(dict(depressed_top))\n",
    "undiag_top = pd.Series(dict(undiag_top))"
   ]
  },
  {
   "cell_type": "code",
   "execution_count": null,
   "id": "afd59883-57cc-4210-bb7d-332b03f611dd",
   "metadata": {},
   "outputs": [],
   "source": []
  },
  {
   "cell_type": "code",
   "execution_count": null,
   "id": "82eba662-f7bb-43de-bd2e-9214d8cf5fbd",
   "metadata": {
    "tags": []
   },
   "outputs": [],
   "source": [
    "depressed_top"
   ]
  },
  {
   "cell_type": "code",
   "execution_count": null,
   "id": "62fbf19a-903a-4259-bd78-23df0b8009ea",
   "metadata": {},
   "outputs": [],
   "source": [
    "undiag_top"
   ]
  },
  {
   "cell_type": "code",
   "execution_count": null,
   "id": "7abe1a62-044f-4174-a9ff-d7d1ed6f0cd1",
   "metadata": {},
   "outputs": [],
   "source": [
    "depressed_top.index"
   ]
  },
  {
   "cell_type": "code",
   "execution_count": null,
   "id": "185f6bb9-aa4a-4f59-9752-4891e6ec9b1e",
   "metadata": {},
   "outputs": [],
   "source": [
    "for x in depressed_top.index:\n",
    "    if x in undiag_top.index:\n",
    "        depressed_top.pop(x)\n",
    "depressed_top"
   ]
  },
  {
   "cell_type": "markdown",
   "id": "76e5e949-4914-4358-8ef5-e860936147d3",
   "metadata": {
    "tags": []
   },
   "source": [
    "##### PLOT ________________________________________"
   ]
  },
  {
   "cell_type": "code",
   "execution_count": null,
   "id": "3902ceda-a45e-44e9-a428-ee87a8cc6f9f",
   "metadata": {},
   "outputs": [],
   "source": [
    "fig = plt.figure(figsize =(10, 10))\n",
    "plt.gca().invert_yaxis()\n",
    "plt.barh(depressed_top.index, depressed_top.values)\n",
    " \n",
    "# Show Plot\n",
    "plt.show()"
   ]
  },
  {
   "cell_type": "markdown",
   "id": "15ad7270-7647-4652-b34c-9bc48b594f4d",
   "metadata": {
    "tags": []
   },
   "source": [
    "##### explanation _______________________________________________________"
   ]
  },
  {
   "cell_type": "code",
   "execution_count": null,
   "id": "24e1ecaf-7f36-4e38-a175-21b73ba6bef3",
   "metadata": {},
   "outputs": [],
   "source": [
    "#word cloud:\n",
    "rejoined = depressed_df.apply(lambda x: rejoin_words(x['tokenized_no_stops']), axis=1)\n",
    "words = ' '.join([content for content in rejoined])\n",
    "\n",
    "wordcloud = WordCloud(width=750, height=500, random_state=42, max_font_size=200, background_color='#401a24', colormap='Set2', collocations=False).generate(words)\n",
    "\n",
    "plt.figure(figsize=(10, 7))\n",
    "plt.imshow(wordcloud, interpolation=\"bilinear\")\n",
    "plt.axis('off')\n",
    "plt.show()\n",
    "\n",
    "imgName= 'cloud-Depression'\n",
    "wordcloud.to_file('./img/'+imgName+'.png')"
   ]
  },
  {
   "cell_type": "code",
   "execution_count": null,
   "id": "3175281b-1261-4ad9-97a4-aa39ab938c62",
   "metadata": {},
   "outputs": [],
   "source": [
    "#word cloud:\n",
    "rejoined = undiag_df.apply(lambda x: rejoin_words(x['tokenized_no_stops']), axis=1)\n",
    "words = ' '.join([content for content in rejoined])\n",
    "\n",
    "wordcloud = WordCloud(width=750, height=500, random_state=42, max_font_size=200, background_color='green', colormap='Set3', collocations=False).generate(words)\n",
    "\n",
    "plt.figure(figsize=(10, 7))\n",
    "plt.imshow(wordcloud, interpolation=\"bilinear\")\n",
    "plt.axis('off')\n",
    "plt.show()\n",
    "\n",
    "imgName= 'cloud-Undiag'\n",
    "wordcloud.to_file('./img/'+imgName+'.png')"
   ]
  },
  {
   "cell_type": "markdown",
   "id": "ae8d2c31-7654-400e-80ec-4d5001c0dc8c",
   "metadata": {},
   "source": [
    "##### ________________Explain"
   ]
  },
  {
   "cell_type": "code",
   "execution_count": null,
   "id": "3fdd67c9-11c8-4004-b04d-31b858b4be68",
   "metadata": {},
   "outputs": [],
   "source": []
  },
  {
   "cell_type": "code",
   "execution_count": null,
   "id": "7cdacf5e-37b4-43f9-983d-2473ebe0afde",
   "metadata": {},
   "outputs": [],
   "source": []
  },
  {
   "cell_type": "markdown",
   "id": "e8579305-93a5-426c-9a20-94e6684a7a96",
   "metadata": {},
   "source": [
    "# Modeling"
   ]
  },
  {
   "cell_type": "markdown",
   "id": "29f51311-4a58-4c0e-be48-fffc2d703798",
   "metadata": {
    "tags": []
   },
   "source": [
    "##### __EXPLAIN STARTING FEATURE CHOICE, TARGET, ETC__\n",
    "## ____\n",
    "\n",
    "what \"simple data\" means\n",
    "\n",
    "also talk about data sizes\n",
    "\n",
    "starting original"
   ]
  },
  {
   "cell_type": "markdown",
   "id": "180194c4-0410-44f6-a954-a2985dc38a12",
   "metadata": {},
   "source": [
    "### Splitting Data"
   ]
  },
  {
   "cell_type": "code",
   "execution_count": null,
   "id": "a8b68d20-c4f8-4605-899b-7e08922e9a6f",
   "metadata": {},
   "outputs": [],
   "source": [
    "X = df['clean_text']\n",
    "y = df['is_depression']\n",
    "\n",
    "#train_test_split\n",
    "X_train, X_test, y_train, y_test = train_test_split(X, y, stratify=y, test_size=0.2, random_state=42)"
   ]
  },
  {
   "cell_type": "markdown",
   "id": "650957de-cce1-4732-a06e-6ed5b8e10561",
   "metadata": {},
   "source": [
    "### explain vectorizer\n",
    "\n",
    "discuss max features"
   ]
  },
  {
   "cell_type": "code",
   "execution_count": null,
   "id": "060a0f69-446b-46be-b63f-c0786aa45f07",
   "metadata": {},
   "outputs": [],
   "source": [
    "#max features 100 as a starting point\n",
    "vectorizer = TfidfVectorizer(max_features=100)\n",
    "\n",
    "X_train_vectorized = vectorizer.fit_transform(X_train)\n",
    "\n",
    "# Visually inspect the vectorized data\n",
    "pd.DataFrame.sparse.from_spmatrix(X_train_vectorized, columns=vectorizer.get_feature_names())"
   ]
  },
  {
   "cell_type": "markdown",
   "id": "c0c2f3ee-a411-413e-842d-29630db29b3f",
   "metadata": {
    "tags": []
   },
   "source": [
    "### Metrics and Scoring\n",
    "explain metric options\n",
    "\n",
    "explain all in this context, but focus on acc, record other scores as well\n",
    "\n",
    "ideal scores"
   ]
  },
  {
   "cell_type": "code",
   "execution_count": null,
   "id": "510272a3-315a-4a8f-83a2-5bcb081d462e",
   "metadata": {},
   "outputs": [],
   "source": [
    "#create score df\n",
    "score_df = pd.DataFrame(columns = ['Name','Accuracy', 'Recall', 'Precision', 'F1'])"
   ]
  },
  {
   "cell_type": "code",
   "execution_count": null,
   "id": "b2e5698c-b01a-4688-bec9-dd4382759b50",
   "metadata": {},
   "outputs": [],
   "source": [
    "def update_score_df(name):\n",
    "    acc = accuracy_score(y_test, y_pred)\n",
    "    prec = precision_score(y_test, y_pred)\n",
    "    recall = recall_score(y_test, y_pred)\n",
    "    f1 =f1_score(y_test, y_pred)\n",
    "    \n",
    "    #create new df entry\n",
    "    entry = {'Name': name, 'Accuracy': acc, 'Recall': recall, 'Precision': prec, 'F1':f1}\n",
    "    #print('adding: ',entry)\n",
    "    return entry"
   ]
  },
  {
   "cell_type": "markdown",
   "id": "365dff7f-89e3-497a-971a-9d50bf443ab1",
   "metadata": {
    "tags": []
   },
   "source": [
    "## Baseline Model\n",
    "explain model choice\n"
   ]
  },
  {
   "cell_type": "code",
   "execution_count": null,
   "id": "74b1816a-c3f4-4c85-ac75-be65f50e951b",
   "metadata": {},
   "outputs": [],
   "source": [
    "#model name for score keeping\n",
    "model_name = 'Baseline - MultiNB'\n",
    "\n",
    "nb_model = MultinomialNB()\n",
    "\n",
    "baseline_cv = cross_val_score(nb_model, X_train_vectorized, y_train)\n",
    "baseline_cv"
   ]
  },
  {
   "cell_type": "markdown",
   "id": "77230fcf-55cc-4033-8389-90ca56f454dd",
   "metadata": {},
   "source": [
    "##### explain cross val score, why its so high _______________________________________"
   ]
  },
  {
   "cell_type": "code",
   "execution_count": null,
   "id": "0f10b6b3-35e0-4484-b87c-9c5d133080bf",
   "metadata": {},
   "outputs": [],
   "source": [
    "#reminder that true values are balanced evenly:\n",
    "y_train.value_counts(normalize=True)"
   ]
  },
  {
   "cell_type": "markdown",
   "id": "d3d3361b-81b1-43c1-bdf9-1bdd5bcdb3ee",
   "metadata": {},
   "source": [
    "### Evaluate Model on Test Data"
   ]
  },
  {
   "cell_type": "code",
   "execution_count": null,
   "id": "fa9bdd66-456a-4271-aaf0-3b8b2f4f662e",
   "metadata": {},
   "outputs": [],
   "source": [
    "#fit model to train data\n",
    "nb_model.fit(X_train_vectorized, y_train)\n",
    "\n",
    "#vectorize test data\n",
    "vectorizer = TfidfVectorizer(max_features=100)\n",
    "X_test_vectorized = vectorizer.fit_transform(X_test)\n",
    "\n",
    "#predict on test data\n",
    "y_pred = nb_model.predict(X_test_vectorized)"
   ]
  },
  {
   "cell_type": "code",
   "execution_count": null,
   "id": "d91b5e2b-f696-41df-85ae-c093dd239b5a",
   "metadata": {},
   "outputs": [],
   "source": [
    "# create confusion matrix helper function:\n",
    "def plot_confusion(name):\n",
    "\n",
    "    #confusion matrix for test data\n",
    "    conf_matrix = confusion_matrix(y_test,y_pred)\n",
    "\n",
    "    # plot confusion matrix values\n",
    "    sns.heatmap(\n",
    "    conf_matrix, \n",
    "    annot=True, \n",
    "    cmap='Blues', \n",
    "    fmt='0.5g'\n",
    "    )\n",
    "\n",
    "    plt.xlabel('Predicted Label')\n",
    "    plt.ylabel('True Label')\n",
    "    plt.title(name)\n",
    "\n",
    "    plt.savefig('./img/'+name+'.png')\n",
    "    plt.show()"
   ]
  },
  {
   "cell_type": "code",
   "execution_count": null,
   "id": "8fdb4306-3cad-47cc-91eb-1718f048ae47",
   "metadata": {
    "tags": []
   },
   "outputs": [],
   "source": [
    "print(classification_report(y_test, y_pred))"
   ]
  },
  {
   "cell_type": "code",
   "execution_count": null,
   "id": "c7793359-3c71-4c5f-9f50-181d5806b246",
   "metadata": {},
   "outputs": [],
   "source": [
    "plot_confusion(model_name)"
   ]
  },
  {
   "cell_type": "code",
   "execution_count": null,
   "id": "212f9cdc-a579-43e5-991c-b677ba3fc01f",
   "metadata": {
    "tags": []
   },
   "outputs": [],
   "source": [
    "score_df = score_df.append(update_score_df(model_name), ignore_index=True)\n",
    "score_df"
   ]
  },
  {
   "cell_type": "markdown",
   "id": "80d4e9fc-1dbd-4aa7-850f-cda5066ac6d9",
   "metadata": {
    "tags": []
   },
   "source": [
    "##### explanation of results _____________________________________________________\n"
   ]
  },
  {
   "cell_type": "markdown",
   "id": "4ce08059-8818-4aa0-9a86-74745a663f0d",
   "metadata": {},
   "source": [
    "\n",
    "##### coefficients etc ____________________________"
   ]
  },
  {
   "cell_type": "code",
   "execution_count": null,
   "id": "bc4354fc-59dc-4131-a074-17a1a70753f1",
   "metadata": {},
   "outputs": [],
   "source": [
    "coefficient_df = pd.DataFrame()\n",
    "coefficient_df['feature'] = vectorizer.get_feature_names()\n",
    "coefficient_df['coefficients'] = nb_model.coef_.T\n",
    "\n",
    "#sort in descending order, to see which coefficient most affects the positive class prediction\n",
    "coefficient_df.sort_values(by='coefficients', ascending=False)"
   ]
  },
  {
   "cell_type": "markdown",
   "id": "98e47fb6-bfc9-4285-a8d7-1682473f48c7",
   "metadata": {
    "tags": []
   },
   "source": [
    "##### further detail about problematic \"giveaway\" words _______________________________________________________________________\n",
    "\n",
    "look at again after stop words out of the way"
   ]
  },
  {
   "cell_type": "code",
   "execution_count": null,
   "id": "c3089add-877f-49cc-ad17-5b6d8327beea",
   "metadata": {},
   "outputs": [],
   "source": []
  },
  {
   "cell_type": "markdown",
   "id": "7ce08f0d-5b7e-480f-bc42-0b9acd6ef774",
   "metadata": {},
   "source": [
    "##### explain min_df and max_df as well _________________________________________________"
   ]
  },
  {
   "cell_type": "code",
   "execution_count": null,
   "id": "ba0b0c42-2902-4ffd-ba45-3d7e131948fe",
   "metadata": {},
   "outputs": [],
   "source": []
  },
  {
   "cell_type": "markdown",
   "id": "dcf592d8-a029-4ff2-898a-229052af903e",
   "metadata": {
    "tags": []
   },
   "source": [
    "### Baseline Model with Preprocessed Data\n",
    "\n",
    "explain"
   ]
  },
  {
   "cell_type": "markdown",
   "id": "ca5fa66b-d460-49aa-afca-3ac1e3c9ebc1",
   "metadata": {},
   "source": [
    "##### Rejoin Data _____________________________explain why_________________________________________________\n",
    "\n",
    "for tfidf vectorizer"
   ]
  },
  {
   "cell_type": "code",
   "execution_count": null,
   "id": "3fec5db6-e1f2-43b0-8189-ced2e09b1c8f",
   "metadata": {},
   "outputs": [],
   "source": [
    "#model name for score keeping\n",
    "model_name = 'Baseline No Stops'\n",
    "\n",
    "X = df['rejoined']\n",
    "y = df['is_depression']\n",
    "\n",
    "#train_test_split\n",
    "X_train, X_test, y_train, y_test = train_test_split(X, y, stratify=y, test_size=0.2, random_state=42)"
   ]
  },
  {
   "cell_type": "markdown",
   "id": "a090c8fb-b732-429b-b11a-b32aebfd4fb7",
   "metadata": {
    "tags": []
   },
   "source": [
    "\n",
    "\n",
    "##### explain pipeline ________________________________________________________\n",
    "\n",
    "vectorizes as part of process"
   ]
  },
  {
   "cell_type": "code",
   "execution_count": null,
   "id": "8922cb66-e430-4aba-80a4-e158ad9e8f6b",
   "metadata": {},
   "outputs": [],
   "source": [
    "#create pipeline\n",
    "pipe = Pipeline([('vectorizer', TfidfVectorizer(max_features=100)),\n",
    "                          ('clf', MultinomialNB())\n",
    "                         ])\n",
    "\n",
    "#fit to data\n",
    "pipe.fit(X_train, y_train)"
   ]
  },
  {
   "cell_type": "code",
   "execution_count": null,
   "id": "f08b883b-31f0-43ca-adb5-e9ebf7366ca5",
   "metadata": {},
   "outputs": [],
   "source": [
    "#predict on test data\n",
    "y_pred = pipe.predict(X_test)\n",
    "\n",
    "print(classification_report(y_test, y_pred))\n",
    "\n",
    "plot_confusion(model_name)"
   ]
  },
  {
   "cell_type": "code",
   "execution_count": null,
   "id": "1cab5b38-6a1f-4f52-8a9d-03acbe49e55b",
   "metadata": {
    "tags": []
   },
   "outputs": [],
   "source": [
    "score_df = score_df.append(update_score_df(model_name), ignore_index=True)\n",
    "score_df"
   ]
  },
  {
   "cell_type": "markdown",
   "id": "653068fa-5d3f-4708-9597-9a5e52ede1a3",
   "metadata": {},
   "source": [
    "##### explain _________________________________---\n",
    "\n",
    "identify how removal of stop words increased model performance"
   ]
  },
  {
   "cell_type": "markdown",
   "id": "70d7684b-769e-43c5-b756-bcc710642802",
   "metadata": {},
   "source": [
    "##### One more look at coefficients ______________________________________________________________"
   ]
  },
  {
   "cell_type": "code",
   "execution_count": null,
   "id": "a2af12e3-4c0b-4f0d-8d1c-0f3e5b6f2a10",
   "metadata": {},
   "outputs": [],
   "source": [
    "coefficient_df = pd.DataFrame()\n",
    "coefficient_df['feature'] = pipe['vectorizer'].get_feature_names()\n",
    "coefficient_df['coefficients'] = pipe['clf'].coef_.T\n",
    "\n",
    "#sort in descending order, to see which coefficient most affects the positive class prediction\n",
    "coefficient_df.sort_values(by='coefficients', ascending=False)[:20]"
   ]
  },
  {
   "cell_type": "markdown",
   "id": "6ed968f1-6792-448d-8242-a455d6787fa9",
   "metadata": {},
   "source": [
    "### Attempt One More Time with Subjective Alterations\n",
    "\n",
    "go over subjective nature, etc\n",
    "\n",
    "##### ______________________________________________"
   ]
  },
  {
   "cell_type": "code",
   "execution_count": null,
   "id": "ebc917e3-5e21-468a-80bb-1ec6efee9d9b",
   "metadata": {},
   "outputs": [],
   "source": [
    "#same as stopword removal but our own list\n",
    "def remove_some_words(data):\n",
    "    words = ['depression', 'feel', 'anxiety']\n",
    "    return [word for word in data if word not in words]"
   ]
  },
  {
   "cell_type": "code",
   "execution_count": null,
   "id": "fff95556-357f-451c-9f13-0062d764e12c",
   "metadata": {},
   "outputs": [],
   "source": [
    "#remove words from lemmatized dataset without stopwords\n",
    "df['subjective_removal'] = df.apply(lambda x: remove_some_words(x['lemmatized_no_stops']), axis=1)\n",
    "\n",
    "#rejoin again for vectorizer!\n",
    "df['rejoined_post_removal']= df.apply(lambda x: rejoin_words(x['subjective_removal']), axis=1)"
   ]
  },
  {
   "cell_type": "code",
   "execution_count": null,
   "id": "e3cc6936-7c7b-459f-b7d8-b0c9f9000f8c",
   "metadata": {},
   "outputs": [],
   "source": [
    "#model name for score keeping\n",
    "model_name = 'Baseline Adjusted Data'\n",
    "\n",
    "#repeat pipeline with new data\n",
    "X = df['rejoined_post_removal']\n",
    "y = df['is_depression']\n",
    "\n",
    "#train_test_split\n",
    "X_train, X_test, y_train, y_test = train_test_split(X, y, stratify=y, test_size=0.2, random_state=42)\n",
    "\n",
    "#create pipeline\n",
    "pipe = Pipeline([('vectorizer', TfidfVectorizer(max_features=100)),\n",
    "                          ('clf', MultinomialNB())\n",
    "                         ])\n",
    "\n",
    "#fit to data\n",
    "pipe.fit(X_train, y_train)\n",
    "\n",
    "#predict on test data\n",
    "y_pred = pipe.predict(X_test)\n",
    "\n",
    "print(classification_report(y_test, y_pred))\n",
    "\n",
    "plot_confusion(model_name)"
   ]
  },
  {
   "cell_type": "code",
   "execution_count": null,
   "id": "6aa470b7-b0f4-4133-93a5-45cb15a90557",
   "metadata": {
    "tags": []
   },
   "outputs": [],
   "source": [
    "score_df = score_df.append(update_score_df(model_name), ignore_index=True)\n",
    "score_df"
   ]
  },
  {
   "cell_type": "markdown",
   "id": "7a1ec4ad-b266-405b-a827-26c0f08d4b91",
   "metadata": {},
   "source": [
    "comment on scoring, slightly less accuract, etc \n",
    "##### __________"
   ]
  },
  {
   "cell_type": "code",
   "execution_count": null,
   "id": "85ae56ad-029d-4571-9bfa-d2f1306e3072",
   "metadata": {},
   "outputs": [],
   "source": [
    "coefficient_df = pd.DataFrame()\n",
    "coefficient_df['feature'] = pipe['vectorizer'].get_feature_names()\n",
    "coefficient_df['coefficients'] = pipe['clf'].coef_.T\n",
    "\n",
    "#sort in descending order, to see which coefficient most affects the positive class prediction\n",
    "coefficient_df.sort_values(by='coefficients', ascending=False)[:20]"
   ]
  },
  {
   "cell_type": "markdown",
   "id": "69741977-6c5d-462e-a144-e811903a8202",
   "metadata": {},
   "source": [
    "##### commentary __________________________________________"
   ]
  },
  {
   "cell_type": "code",
   "execution_count": null,
   "id": "3a0f4bdf-2e10-482c-8463-b707682d6f4b",
   "metadata": {},
   "outputs": [],
   "source": []
  },
  {
   "cell_type": "code",
   "execution_count": null,
   "id": "7b6d12a3-0f5f-47a7-9f7e-f8367a127b75",
   "metadata": {},
   "outputs": [],
   "source": []
  },
  {
   "cell_type": "markdown",
   "id": "1ff789b6-b287-495a-8cc5-0fa6d33b68db",
   "metadata": {
    "tags": []
   },
   "source": [
    "## Model 2 - MultinomialNB (Tuned)\n",
    "\n",
    "\n",
    "##### explain gridsearch\n",
    "\n",
    "##### explain parameters"
   ]
  },
  {
   "cell_type": "code",
   "execution_count": null,
   "id": "209df14b-4367-45f3-9f3a-502df6580da0",
   "metadata": {},
   "outputs": [],
   "source": [
    "#example with tfidf:\n",
    "\n",
    "#TfidfVectorizer:\n",
    "tfidf_params = {\n",
    "    'vectorizer__max_df': (0.25, 0.5, 0.75, 1.0),\n",
    "    'vectorizer__ngram_range': [(1, 1), (1, 2), (1, 3)],\n",
    "    'vectorizer__max_features': (None, 50, 100, 200, 300)\n",
    "}"
   ]
  },
  {
   "cell_type": "markdown",
   "id": "87c0ce09-8aef-4a53-9d89-ccb7ca2bb670",
   "metadata": {},
   "source": [
    "##### explain"
   ]
  },
  {
   "cell_type": "code",
   "execution_count": null,
   "id": "1fd0badc-ad8b-4192-8bdc-a79baa626b56",
   "metadata": {},
   "outputs": [],
   "source": [
    "#model name for score keeping\n",
    "model_name = 'Tuned MNB'\n",
    "\n",
    "#parameters:\n",
    "model_params = {\n",
    "    'clf__alpha': (1e-3, 1e-2, 1e-1, 1)\n",
    "}\n",
    "\n",
    "#create pipeline\n",
    "pipe = Pipeline([('vectorizer', TfidfVectorizer()),\n",
    "                          ('clf', MultinomialNB())])\n",
    "\n",
    "############################################################################################\n",
    "\n",
    "params = [tfidf_params, model_params]\n",
    "\n",
    "#gridsearch\n",
    "gscv = GridSearchCV(pipe, params, cv = 5, n_jobs=-1, verbose=True, scoring = 'accuracy')\n",
    "gscv.fit(X_train, y_train)"
   ]
  },
  {
   "cell_type": "code",
   "execution_count": null,
   "id": "efe83abd-3500-4e3e-bb2e-569363f1c0e6",
   "metadata": {},
   "outputs": [],
   "source": [
    "#see what hyperparameters were selected for best score\n",
    "gscv.best_params_"
   ]
  },
  {
   "cell_type": "code",
   "execution_count": null,
   "id": "d95adc98-0d9e-4de0-8d4f-a964a2fb53d9",
   "metadata": {},
   "outputs": [],
   "source": [
    "#predict on test data\n",
    "y_pred = gscv.predict(X_test)\n",
    "\n",
    "print(classification_report(y_test, y_pred))\n",
    "\n",
    "plot_confusion(model_name)"
   ]
  },
  {
   "cell_type": "code",
   "execution_count": null,
   "id": "b402053b-a19c-40bc-830f-ab5ee0c624fd",
   "metadata": {
    "tags": []
   },
   "outputs": [],
   "source": [
    "score_df = score_df.append(update_score_df(model_name), ignore_index=True)\n",
    "score_df"
   ]
  },
  {
   "cell_type": "markdown",
   "id": "e8dd3711-3c89-4c0d-ac4a-2ab9c7dafbfe",
   "metadata": {},
   "source": [
    "##### talk about results _________________________________________"
   ]
  },
  {
   "cell_type": "code",
   "execution_count": null,
   "id": "63e680f6-4d51-46f9-918d-9e59446922f8",
   "metadata": {},
   "outputs": [],
   "source": []
  },
  {
   "cell_type": "markdown",
   "id": "6902d6b9-0e94-4480-87f0-0ee3a8ea1ea4",
   "metadata": {
    "tags": []
   },
   "source": [
    "## Model 3 - Logistic Regression"
   ]
  },
  {
   "cell_type": "code",
   "execution_count": null,
   "id": "1fa24eee-8706-4d34-8c02-3e530a964e77",
   "metadata": {},
   "outputs": [],
   "source": [
    "#model name for score keeping\n",
    "model_name = 'LogReg'\n",
    "\n",
    "#parameters:\n",
    "model_params = {\n",
    "    'clf__C': np.logspace(-2, 2, 10),\n",
    "    'clf__penalty': ['l1', 'l2']\n",
    "}\n",
    "\n",
    "#create pipeline\n",
    "pipe = Pipeline([('vectorizer', TfidfVectorizer()),\n",
    "                          ('clf', LogisticRegression(random_state=42))])\n",
    "\n",
    "############################################################################################\n",
    "\n",
    "params = [tfidf_params, model_params]\n",
    "\n",
    "#gridsearch\n",
    "gscv = GridSearchCV(pipe, params, cv = 5, n_jobs=-1, verbose=True, scoring = 'accuracy')\n",
    "gscv.fit(X_train, y_train)"
   ]
  },
  {
   "cell_type": "code",
   "execution_count": null,
   "id": "4cb35605-c2f0-4c92-8708-c5db997a0341",
   "metadata": {},
   "outputs": [],
   "source": [
    "#see what hyperparameters were selected for best score\n",
    "gscv.best_params_"
   ]
  },
  {
   "cell_type": "code",
   "execution_count": null,
   "id": "b9492205-c0fa-415c-87fb-20e9b21c6b18",
   "metadata": {},
   "outputs": [],
   "source": [
    "#predict on test data\n",
    "y_pred = gscv.predict(X_test)\n",
    "\n",
    "print(classification_report(y_test, y_pred))\n",
    "\n",
    "plot_confusion(model_name)"
   ]
  },
  {
   "cell_type": "code",
   "execution_count": null,
   "id": "49eb6612-0bb8-4afd-a108-6d3d75a3330c",
   "metadata": {
    "tags": []
   },
   "outputs": [],
   "source": [
    "score_df = score_df.append(update_score_df(model_name), ignore_index=True)\n",
    "score_df"
   ]
  },
  {
   "cell_type": "markdown",
   "id": "f59f745e-c82e-4f95-b6c7-f45ee39a8342",
   "metadata": {},
   "source": [
    "##### talk about results _________________________________________"
   ]
  },
  {
   "cell_type": "code",
   "execution_count": null,
   "id": "4d359393-8353-4a0c-8661-e3b349bbb177",
   "metadata": {},
   "outputs": [],
   "source": []
  },
  {
   "cell_type": "markdown",
   "id": "44384a34-ac9c-460b-815f-7c37f9948053",
   "metadata": {},
   "source": [
    "## Model 4 - Decision Tree"
   ]
  },
  {
   "cell_type": "code",
   "execution_count": null,
   "id": "544077ff-da15-43b8-8218-7372dd9ffa3c",
   "metadata": {},
   "outputs": [],
   "source": [
    "#model name for score keeping\n",
    "model_name = 'Decision Tree'\n",
    "\n",
    "#parameters:\n",
    "model_params = {\n",
    "    'clf__max_depth': [2, 3, 5, 10, 20],\n",
    "    'clf__min_samples_leaf': [5, 10, 20, 50, 100],\n",
    "    'clf__criterion': [\"gini\", \"entropy\"]\n",
    "}\n",
    "\n",
    "#create pipeline\n",
    "pipe = Pipeline([('vectorizer', TfidfVectorizer()),\n",
    "                          ('clf', DecisionTreeClassifier(random_state=42))])\n",
    "\n",
    "############################################################################################\n",
    "\n",
    "params = [tfidf_params, model_params]\n",
    "\n",
    "#gridsearch\n",
    "gscv = GridSearchCV(pipe, params, cv = 5, n_jobs=-1, verbose=True, scoring = 'accuracy')\n",
    "gscv.fit(X_train, y_train)"
   ]
  },
  {
   "cell_type": "code",
   "execution_count": null,
   "id": "4dd7bf8b-9fda-4db5-84de-c5693ff4a642",
   "metadata": {},
   "outputs": [],
   "source": [
    "#see what hyperparameters were selected for best score\n",
    "gscv.best_params_"
   ]
  },
  {
   "cell_type": "code",
   "execution_count": null,
   "id": "ff8fdb87-272a-4836-a96b-5d7569cfa99c",
   "metadata": {},
   "outputs": [],
   "source": [
    "#predict on test data\n",
    "y_pred = gscv.predict(X_test)\n",
    "\n",
    "print(classification_report(y_test, y_pred))\n",
    "\n",
    "plot_confusion(model_name)"
   ]
  },
  {
   "cell_type": "code",
   "execution_count": null,
   "id": "dea81c48-aae0-458d-9ed7-c6ca24d432ea",
   "metadata": {
    "tags": []
   },
   "outputs": [],
   "source": [
    "score_df = score_df.append(update_score_df(model_name), ignore_index=True)\n",
    "score_df"
   ]
  },
  {
   "cell_type": "markdown",
   "id": "cd25615d-72c6-43b9-a738-2a746033e4f9",
   "metadata": {},
   "source": [
    "##### talk about results _________________________________________"
   ]
  },
  {
   "cell_type": "code",
   "execution_count": null,
   "id": "83dd26f5-591e-4d3c-b4d8-7bcf0ce7fb57",
   "metadata": {},
   "outputs": [],
   "source": []
  },
  {
   "cell_type": "markdown",
   "id": "f078bf67-b68e-45e9-b6f7-86f242a0380c",
   "metadata": {},
   "source": [
    "## Model 5 - Random Forest"
   ]
  },
  {
   "cell_type": "code",
   "execution_count": null,
   "id": "7c1e0b4e-88ee-4475-b9e1-207107a8d722",
   "metadata": {},
   "outputs": [],
   "source": [
    "#model name for score keeping\n",
    "model_name = 'Random Forest'\n",
    "\n",
    "#parameters:\n",
    "model_params = {\n",
    "    'clf__n_estimators': [10,100,1000],\n",
    "    'clf__max_depth': [None, 3, 4, 10],\n",
    "    'clf__max_features': [2, 5, 10]\n",
    "    \n",
    "}\n",
    "\n",
    "#create pipeline\n",
    "pipe = Pipeline([('vectorizer', TfidfVectorizer()),\n",
    "                          ('clf', RandomForestClassifier(random_state=42))])\n",
    "\n",
    "############################################################################################\n",
    "\n",
    "params = [tfidf_params, model_params]\n",
    "\n",
    "#gridsearch\n",
    "gscv = GridSearchCV(pipe, params, cv = 5, n_jobs=-1, verbose=True, scoring = 'accuracy')\n",
    "gscv.fit(X_train, y_train)"
   ]
  },
  {
   "cell_type": "code",
   "execution_count": null,
   "id": "437e2b83-9839-493b-b8ab-495b446eacc4",
   "metadata": {},
   "outputs": [],
   "source": [
    "#see what hyperparameters were selected for best score\n",
    "gscv.best_params_"
   ]
  },
  {
   "cell_type": "code",
   "execution_count": null,
   "id": "17267b20-7ba4-465c-b80a-7d5dc46b9725",
   "metadata": {},
   "outputs": [],
   "source": [
    "#predict on test data\n",
    "y_pred = gscv.predict(X_test)\n",
    "\n",
    "print(classification_report(y_test, y_pred))\n",
    "\n",
    "plot_confusion(model_name)"
   ]
  },
  {
   "cell_type": "code",
   "execution_count": null,
   "id": "c6d8fa9b-cccb-4160-a023-345f834296ca",
   "metadata": {
    "tags": []
   },
   "outputs": [],
   "source": [
    "score_df = score_df.append(update_score_df(model_name), ignore_index=True)\n",
    "score_df"
   ]
  },
  {
   "cell_type": "markdown",
   "id": "9a290f53-c2ca-4545-90c1-f1751bb0b70e",
   "metadata": {
    "tags": []
   },
   "source": [
    "##### talk about results _________________________________________"
   ]
  },
  {
   "cell_type": "code",
   "execution_count": null,
   "id": "7f7671c2-c46a-4eed-bd09-f8468fa0b42e",
   "metadata": {},
   "outputs": [],
   "source": []
  },
  {
   "cell_type": "markdown",
   "id": "434c3345-d20a-4d9c-8293-d75654cd4d56",
   "metadata": {},
   "source": [
    "## Model 6 - Support Vector Classification"
   ]
  },
  {
   "cell_type": "code",
   "execution_count": null,
   "id": "a021ec04-c0d4-4107-b612-5d9b2322532c",
   "metadata": {},
   "outputs": [],
   "source": [
    "#model name for score keeping\n",
    "model_name = 'SVC'\n",
    "\n",
    "#create pipeline\n",
    "pipe = Pipeline([('vectorizer', TfidfVectorizer()),\n",
    "                          ('clf', SVC())])\n",
    "\n",
    "############################################################################################\n",
    "\n",
    "params = [tfidf_params]\n",
    "\n",
    "#gridsearch\n",
    "gscv = GridSearchCV(pipe, params, cv = 5, n_jobs=-1, verbose=True, scoring = 'accuracy')\n",
    "gscv.fit(X_train, y_train)"
   ]
  },
  {
   "cell_type": "code",
   "execution_count": null,
   "id": "1d2413f0-e29c-4f8c-b98e-4b3898ba58f6",
   "metadata": {},
   "outputs": [],
   "source": [
    "#predict on test data\n",
    "y_pred = gscv.predict(X_test)\n",
    "\n",
    "print(classification_report(y_test, y_pred))\n",
    "\n",
    "plot_confusion(model_name)"
   ]
  },
  {
   "cell_type": "code",
   "execution_count": null,
   "id": "a5ab3736-3d6a-4fe6-8a2b-c2c2e54ee0ff",
   "metadata": {
    "tags": []
   },
   "outputs": [],
   "source": [
    "score_df = score_df.append(update_score_df(model_name), ignore_index=True)\n",
    "score_df"
   ]
  },
  {
   "cell_type": "markdown",
   "id": "5b224b45-4515-4cb5-880f-c0b1fa010b0c",
   "metadata": {
    "tags": []
   },
   "source": [
    "##### talk about results _________________________________________"
   ]
  },
  {
   "cell_type": "code",
   "execution_count": null,
   "id": "09baaa69-f1ed-40b3-936c-7007d285fa3d",
   "metadata": {},
   "outputs": [],
   "source": []
  },
  {
   "cell_type": "markdown",
   "id": "ceec747a-5359-477c-a821-6a5a330499e2",
   "metadata": {},
   "source": [
    "## Strongest Model Analysis\n",
    "\n",
    "-look at score_df\n",
    "\n",
    "-also look at conf matrices in a graph"
   ]
  },
  {
   "cell_type": "code",
   "execution_count": null,
   "id": "836905b4-5c4c-4f67-be51-3ee48cad1554",
   "metadata": {},
   "outputs": [],
   "source": [
    "#compare models all using same dataset:\n",
    "score_df.drop([0,1], axis=0).sort_values(by=['Accuracy'], ascending=False).style.hide_index()"
   ]
  },
  {
   "cell_type": "code",
   "execution_count": null,
   "id": "7b93f83c-ed88-4399-b173-c0445e33c762",
   "metadata": {},
   "outputs": [],
   "source": [
    "# show top 3 confusion:\n",
    "\n",
    "\n",
    "# create figure\n",
    "fig = plt.figure(figsize=(25, 10))\n",
    "  \n",
    "# setting values to rows and column variables\n",
    "rows = 1\n",
    "columns = 3\n",
    "  \n",
    "# reading images\n",
    "Image1 = cv2.imread('./img/LogReg.png')\n",
    "RGB_img1 = cv2.cvtColor(Image1, cv2.COLOR_BGR2RGB)\n",
    "Image2 = cv2.imread('./img/SVC.png')\n",
    "RGB_img2 = cv2.cvtColor(Image2, cv2.COLOR_BGR2RGB)\n",
    "Image3 = cv2.imread('./img/Random Forest.png')\n",
    "RGB_img3 = cv2.cvtColor(Image3, cv2.COLOR_BGR2RGB)\n",
    "  \n",
    "# Adds a subplot at the 1st position\n",
    "fig.add_subplot(rows, columns, 1)\n",
    "  \n",
    "# showing image\n",
    "plt.imshow(RGB_img1)\n",
    "plt.axis('off')\n",
    "plt.title(\"Acc: 91.5% | F1: 91.2%\")\n",
    "  \n",
    "# Adds a subplot at the 2nd position\n",
    "fig.add_subplot(rows, columns, 2)\n",
    "  \n",
    "# showing image\n",
    "plt.imshow(RGB_img2)\n",
    "plt.axis('off')\n",
    "plt.title(\"Acc: 91.2% | F1: 90.6%\")\n",
    "  \n",
    "# Adds a subplot at the 3rd position\n",
    "fig.add_subplot(rows, columns, 3)\n",
    "  \n",
    "# showing image\n",
    "plt.imshow(RGB_img3)\n",
    "plt.axis('off')\n",
    "plt.title(\"Acc: 87.7% | F1: 87.3%\")"
   ]
  },
  {
   "cell_type": "markdown",
   "id": "12e24c7b-0d2c-4c5e-a135-80c6d6c117fd",
   "metadata": {},
   "source": [
    "##### splain _______________________________"
   ]
  },
  {
   "cell_type": "code",
   "execution_count": null,
   "id": "299a6114-7901-4e03-970f-d0493d34b35d",
   "metadata": {},
   "outputs": [],
   "source": []
  },
  {
   "cell_type": "code",
   "execution_count": null,
   "id": "5c086d8f-16ea-48cf-be04-a5117ea18d2d",
   "metadata": {
    "tags": []
   },
   "outputs": [],
   "source": [
    "X = df['rejoined_post_removal']\n",
    "y = df['is_depression']\n",
    "#train_test_split\n",
    "X_train, X_test, y_train, y_test = train_test_split(X, y, stratify=y, test_size=0.2, random_state=42)\n",
    "\n",
    "#remake LogReg model with best parameters from earlier gridsearch\n",
    "pipe = Pipeline([('vectorizer', TfidfVectorizer(max_features=100)),\n",
    "                          ('clf', LogisticRegression(C =4.6415888336127775, penalty = 'l2'))\n",
    "                         ])\n",
    "\n",
    "#fit to data\n",
    "pipe.fit(X_train, y_train)"
   ]
  },
  {
   "cell_type": "code",
   "execution_count": null,
   "id": "d69bb5cb-54f3-45a1-8e9e-67cdb7b72316",
   "metadata": {},
   "outputs": [],
   "source": [
    "coefficient_df = pd.DataFrame()\n",
    "coefficient_df['feature'] = pipe['vectorizer'].get_feature_names()\n",
    "coefficient_df['coefficients'] = pipe['clf'].coef_.T\n",
    "\n",
    "#sort in descending order, to see which coefficient most affects the positive class prediction\n",
    "coefficient_df.sort_values(by='coefficients', ascending=False)[:15]"
   ]
  },
  {
   "cell_type": "code",
   "execution_count": null,
   "id": "99c17e49-203c-4e52-a775-b39e0387a4b7",
   "metadata": {},
   "outputs": [],
   "source": [
    "coefs = coefficient_df.sort_values(by='coefficients', ascending=False)[:20]\n",
    "\n",
    "fig = plt.figure(figsize =(10, 10))\n",
    "plt.gca().invert_yaxis()\n",
    "plt.barh(coefs['feature'], coefs['coefficients'])\n",
    "plt.title('Highest Coefficients of Strongest Model')\n",
    "\n",
    "# Show Plot\n",
    "plt.show()\n",
    "\n",
    "figname='coef-FinalModel'\n",
    "plt.savefig('./img/'+figname+'.png')"
   ]
  },
  {
   "cell_type": "markdown",
   "id": "c9c166b4-5ae9-406e-9e78-f6ab36e2743f",
   "metadata": {
    "tags": []
   },
   "source": [
    "##### commentary __________________________________________"
   ]
  },
  {
   "cell_type": "code",
   "execution_count": null,
   "id": "e85acef8-17f0-4953-a1a1-100871802118",
   "metadata": {},
   "outputs": [],
   "source": []
  },
  {
   "cell_type": "markdown",
   "id": "531652d1-5cc8-4319-a620-6c4bfea6c096",
   "metadata": {},
   "source": [
    "##### WITH PROBLEMATIC WORDS: _____________________"
   ]
  },
  {
   "cell_type": "code",
   "execution_count": null,
   "id": "3c1a21d9-a506-40aa-a6d8-37718d74f0fb",
   "metadata": {
    "tags": []
   },
   "outputs": [],
   "source": [
    "X = df['rejoined']\n",
    "y = df['is_depression']\n",
    "#train_test_split\n",
    "X_train, X_test, y_train, y_test = train_test_split(X, y, stratify=y, test_size=0.2, random_state=42)\n",
    "\n",
    "#remake LogReg model with best parameters from earlier gridsearch\n",
    "pipe = Pipeline([('vectorizer', TfidfVectorizer(max_features=100)),\n",
    "                          ('clf', LogisticRegression(C =4.6415888336127775, penalty = 'l2'))\n",
    "                         ])\n",
    "\n",
    "#fit to data\n",
    "pipe.fit(X_train, y_train)"
   ]
  },
  {
   "cell_type": "code",
   "execution_count": null,
   "id": "4e521c62-6eff-4e59-9816-59eac6f5fcdd",
   "metadata": {},
   "outputs": [],
   "source": [
    "coefs"
   ]
  },
  {
   "cell_type": "code",
   "execution_count": null,
   "id": "bfe14298-ab75-4195-8961-2f7d8eeeebee",
   "metadata": {},
   "outputs": [],
   "source": [
    "coefficient_df = pd.DataFrame()\n",
    "coefficient_df['feature'] = pipe['vectorizer'].get_feature_names()\n",
    "coefficient_df['coefficients'] = pipe['clf'].coef_.T\n",
    "\n",
    "coefs = coefficient_df.sort_values(by='coefficients', ascending=False)[:20]\n",
    "\n",
    "###########################################################\n",
    "problem_colors = ['#1f77b4' if (x < 6) else 'red' for x in coefs['coefficients'] ]\n",
    "\n",
    "fig = plt.figure(figsize =(10, 10))\n",
    "plt.gca().invert_yaxis()\n",
    "plt.barh(coefs['feature'], coefs['coefficients'], color = problem_colors)\n",
    "plt.title('Highest Coefficients of Strongest Model \\n(With Problematic Features)')\n",
    "\n",
    "# Show Plot\n",
    "plt.show()\n",
    "\n",
    "figname='coef-FinalModel-withProblematic'\n",
    "plt.savefig('./img/'+figname+'.png')"
   ]
  },
  {
   "cell_type": "markdown",
   "id": "29756f92-5e8c-4489-a35d-15e1eb0f4a08",
   "metadata": {
    "tags": []
   },
   "source": [
    "##### commentary __________________________________________"
   ]
  },
  {
   "cell_type": "code",
   "execution_count": null,
   "id": "a9fb3c53-ba02-4b81-b2a5-df04877c2acc",
   "metadata": {},
   "outputs": [],
   "source": []
  },
  {
   "cell_type": "code",
   "execution_count": null,
   "id": "59ff194f-127b-4c35-a486-b0bca05f42f9",
   "metadata": {},
   "outputs": [],
   "source": [
    "#discuss findings, next steps"
   ]
  },
  {
   "cell_type": "code",
   "execution_count": null,
   "id": "d28345c5-b39b-424b-999a-4090489dd50b",
   "metadata": {},
   "outputs": [],
   "source": []
  },
  {
   "cell_type": "markdown",
   "id": "32c926f0-6108-4b0f-8802-9d76d618eb64",
   "metadata": {},
   "source": [
    "## _______________________________________ bigrams, trigrams with prominence"
   ]
  },
  {
   "cell_type": "code",
   "execution_count": null,
   "id": "52582ebb-292c-4d73-afbd-0f62f97c7242",
   "metadata": {
    "tags": []
   },
   "outputs": [],
   "source": [
    "all_words = (sum(df['tokenized']))\n",
    "\n",
    "bigram_measures = nltk.collocations.BigramAssocMeasures()\n",
    "\n",
    "bi_finder = BigramCollocationFinder.from_words(depressed_df)\n",
    "\n",
    "bi_scored = bi_finder.score_ngrams(bigram_measures.raw_freq)\n",
    "\n",
    "bi_scored[:5]"
   ]
  },
  {
   "cell_type": "code",
   "execution_count": null,
   "id": "e6c7373a-e1b9-4ab5-a3d9-abd418810b5e",
   "metadata": {},
   "outputs": [],
   "source": []
  },
  {
   "cell_type": "code",
   "execution_count": null,
   "id": "d26959cc-5685-4bd1-b89a-e0ca8043ba87",
   "metadata": {},
   "outputs": [],
   "source": [
    "#pointwise mutual information finder"
   ]
  },
  {
   "cell_type": "code",
   "execution_count": null,
   "id": "a070cd05-5727-4628-aed3-0d78fb543344",
   "metadata": {},
   "outputs": [],
   "source": [
    "pmi_finder = BigramCollocationFinder.from_words(depressed_d'])\n",
    "pmi_finder.apply_freq_filter(5)\n",
    "pmi_scored = pmi_finder.score_ngrams(bigram_measures.pmi)\n",
    "\n",
    "pmi_scored"
   ]
  },
  {
   "cell_type": "code",
   "execution_count": null,
   "id": "77bf44dc-7995-44f6-8dec-f224c0fe25a3",
   "metadata": {},
   "outputs": [],
   "source": []
  },
  {
   "cell_type": "markdown",
   "id": "7ab3f175-8d12-4540-bbd3-aeda1dc4b5df",
   "metadata": {},
   "source": [
    "##### _________________________________________________-\n",
    "\n",
    "explain need for word embeddings"
   ]
  },
  {
   "cell_type": "code",
   "execution_count": null,
   "id": "90b3524b-bc23-487e-958c-d83d929ff3da",
   "metadata": {},
   "outputs": [],
   "source": []
  },
  {
   "cell_type": "code",
   "execution_count": null,
   "id": "9f9886aa-f965-4c8b-a87d-d1ed6aab8c82",
   "metadata": {},
   "outputs": [],
   "source": []
  },
  {
   "cell_type": "markdown",
   "id": "c56b3737-b5ac-44d3-bf94-49b052fa598f",
   "metadata": {},
   "source": [
    "# Word Embeddings\n",
    "\n",
    "##### explain _________________________________________________________"
   ]
  },
  {
   "cell_type": "markdown",
   "id": "c4ff0431-8ddd-4799-b70b-1b29c6e07c83",
   "metadata": {},
   "source": [
    "## Word2Vec"
   ]
  },
  {
   "cell_type": "markdown",
   "id": "46de52ac-4336-4ed8-a885-51e0a5881969",
   "metadata": {},
   "source": [
    "#### window size ________________________________\n",
    "explain similarity to n grams from earlier"
   ]
  },
  {
   "cell_type": "markdown",
   "id": "2ac2372b-eb2c-4fb0-8390-9ad1dd22342b",
   "metadata": {},
   "source": [
    "##### ______________________________________________________\n",
    "\n",
    "explain why we are using full dataset (with 'depression' etc)"
   ]
  },
  {
   "cell_type": "code",
   "execution_count": null,
   "id": "2bb93b53-708e-4276-91bc-c5afb03b638c",
   "metadata": {},
   "outputs": [],
   "source": [
    "model_name='W2V Model'\n",
    "\n",
    "w2v_X=df['tokenized']\n",
    "w2v_model = Word2Vec(w2v_X, vector_size=100, window=5, min_count=2)\n",
    "\n",
    "w2v_model.wv.index_to_key[:20]"
   ]
  },
  {
   "cell_type": "code",
   "execution_count": null,
   "id": "4392839d-0f12-4540-a32a-0ea6c379e829",
   "metadata": {},
   "outputs": [],
   "source": [
    "w2v_model.wv.most_similar('depression')"
   ]
  },
  {
   "cell_type": "code",
   "execution_count": null,
   "id": "40ea4c75-fb4b-4e06-92c7-57e923d92a91",
   "metadata": {},
   "outputs": [],
   "source": [
    "w2v_model.wv.most_similar('anxiety')"
   ]
  },
  {
   "cell_type": "markdown",
   "id": "412cf61f-814e-4c7a-bc3b-b4eb4993c712",
   "metadata": {},
   "source": [
    "##### explain why we will use pre trained\n"
   ]
  },
  {
   "cell_type": "markdown",
   "id": "f32447ae-b53b-4013-8857-90026e4f15bd",
   "metadata": {},
   "source": [
    "## GLOVE, PRETRAINED, EXPLAIN ___________________________________\n",
    "\n",
    "__using both 50-dimensonal and 100-dimensional__"
   ]
  },
  {
   "cell_type": "code",
   "execution_count": null,
   "id": "a59d4f2b-e57d-4318-91c2-6af39dcc5449",
   "metadata": {},
   "outputs": [],
   "source": [
    "#get total vocabulary of our data so that we only take words we need:\n",
    "\n",
    "#tokenized data with all words\n",
    "X=df['tokenized']\n",
    "y=df['is_depression']\n",
    "\n",
    "#split current data for modeling\n",
    "X_train, X_test, y_train, y_test = train_test_split(X, y, stratify=y, test_size=0.2, random_state=42)"
   ]
  },
  {
   "cell_type": "code",
   "execution_count": null,
   "id": "065d4bc2-42ea-4b12-b1c0-98d7e531c5c3",
   "metadata": {},
   "outputs": [],
   "source": [
    "#get total vocabulary of entire training \n",
    "total_vocabulary = set(word for entry in X for word in entry)\n",
    "\n",
    "#show total vocab:\n",
    "print('There are {} unique tokens in the dataset.'.format(len(total_vocabulary)))"
   ]
  },
  {
   "cell_type": "code",
   "execution_count": null,
   "id": "7a367835-22b1-4c65-a233-5faf9beec80b",
   "metadata": {},
   "outputs": [],
   "source": [
    "#search glove.6B.50d data for our own words:\n",
    "glove50 = {}\n",
    "with open('./data/glove.6B.50d.txt', 'rb') as f:\n",
    "    for line in f:\n",
    "        parts = line.split()\n",
    "        word = parts[0].decode('utf-8')\n",
    "        if word in total_vocabulary:\n",
    "            vector = np.array(parts[1:], dtype=np.float32)\n",
    "            glove50[word] = vector\n",
    "            \n",
    "#same with 100d data\n",
    "glove100 = {}\n",
    "with open('./data/glove.6B.100d.txt', 'rb') as f:\n",
    "    for line in f:\n",
    "        parts = line.split()\n",
    "        word = parts[0].decode('utf-8')\n",
    "        if word in total_vocabulary:\n",
    "            vector = np.array(parts[1:], dtype=np.float32)\n",
    "            glove100[word] = vector"
   ]
  },
  {
   "cell_type": "code",
   "execution_count": null,
   "id": "9bbbc79a-b707-4de5-a77f-a6ad0607020b",
   "metadata": {},
   "outputs": [],
   "source": [
    "glove50['depression']"
   ]
  },
  {
   "cell_type": "code",
   "execution_count": null,
   "id": "6a0f0d6f-73a1-4212-94d4-197d82e20eb3",
   "metadata": {},
   "outputs": [],
   "source": [
    "glove100['depression']"
   ]
  },
  {
   "cell_type": "code",
   "execution_count": null,
   "id": "a76d5862-7a40-4cc7-8c5a-7dfb8eb13f7c",
   "metadata": {},
   "outputs": [],
   "source": [
    "#example of glove pre-trained model's similar words:\n",
    "\n",
    "def find_closest_embeddings(embedding):\n",
    "    return sorted(glove50.keys(), key=lambda word: spatial.distance.euclidean(glove50[word], embedding))\n",
    "\n",
    "find_closest_embeddings(glove50[\"depression\"])[:10]"
   ]
  },
  {
   "cell_type": "markdown",
   "id": "9cdbc8db-c680-4b97-b6e5-50101948a74e",
   "metadata": {},
   "source": [
    "##### explain need for mean word embeddings _______________________________________________________________--"
   ]
  },
  {
   "cell_type": "code",
   "execution_count": null,
   "id": "1879e2f5-e80b-408d-b6bb-bbd77c0f21cf",
   "metadata": {
    "tags": []
   },
   "outputs": [],
   "source": [
    "# Creating Mean Word Embeddings\n",
    "# For this step, it's worth the extra effort to write your own mean embedding vectorizer class, so that you can make use of pipelines from scikit-learn. Using pipelines will save us time and make the code a bit cleaner.\n",
    "\n",
    "# The code for a mean embedding vectorizer class is included below, with comments explaining what each step is doing. Take a minute to examine it and try to understand what the code is doing.y"
   ]
  },
  {
   "cell_type": "code",
   "execution_count": null,
   "id": "4c38cd8a-bf88-46ff-b9d9-0726b61235b6",
   "metadata": {},
   "outputs": [],
   "source": [
    "class W2vVectorizer(object):\n",
    "    \n",
    "    def __init__(self, w2v):\n",
    "        # Takes in a dictionary of words and vectors as input\n",
    "        self.w2v = w2v\n",
    "        if len(w2v) == 0:\n",
    "            self.dimensions = 0\n",
    "        else:\n",
    "            self.dimensions = len(w2v[next(iter(glove50))])\n",
    "    \n",
    "    # Note: Even though it doesn't do anything, it's required that this object implement a fit method or else\n",
    "    # it can't be used in a scikit-learn pipeline  \n",
    "    def fit(self, X, y):\n",
    "        return self\n",
    "            \n",
    "    def transform(self, X):\n",
    "        return np.array([\n",
    "            np.mean([self.w2v[w] for w in words if w in self.w2v]\n",
    "                   or [np.zeros(self.dimensions)], axis=0) for words in X])"
   ]
  },
  {
   "cell_type": "markdown",
   "id": "94272f6d-c685-4995-931e-dd61cf534e3e",
   "metadata": {},
   "source": [
    "### Glove Model 1 - LogReg"
   ]
  },
  {
   "cell_type": "code",
   "execution_count": null,
   "id": "8400ebc7-e482-42de-859d-81de8d9f679e",
   "metadata": {},
   "outputs": [],
   "source": [
    "#model name for score keeping\n",
    "model_name = 'Glove-50 LogReg'\n",
    "\n",
    "#remake LogReg model with best parameters from earlier gridsearch\n",
    "pipe = Pipeline([('vectorizer', W2vVectorizer(glove50)),\n",
    "                          ('clf', LogisticRegression(C =4.6415888336127775, penalty = 'l2', max_iter=1000))\n",
    "                         ])\n",
    "\n",
    "#fit to data\n",
    "pipe.fit(X_train, y_train)"
   ]
  },
  {
   "cell_type": "code",
   "execution_count": null,
   "id": "ba69ed15-e418-403e-bb9a-d9aba5e33d8c",
   "metadata": {},
   "outputs": [],
   "source": [
    "#predict on test data\n",
    "y_pred = pipe.predict(X_test)\n",
    "\n",
    "print(classification_report(y_test, y_pred))\n",
    "\n",
    "plot_confusion(model_name)"
   ]
  },
  {
   "cell_type": "markdown",
   "id": "dd0c0531-54cc-4543-b8b1-923be27285d9",
   "metadata": {},
   "source": [
    "### Selecting a More Fitting Model _________________________________________________"
   ]
  },
  {
   "cell_type": "code",
   "execution_count": null,
   "id": "1a6b78cb-1f95-4f68-9c58-8afe1c25f6ae",
   "metadata": {},
   "outputs": [],
   "source": [
    "rf =  Pipeline([('Word2Vec Vectorizer', W2vVectorizer(glove50)),\n",
    "              ('Random Forest', RandomForestClassifier(n_estimators=100, verbose=True))])\n",
    "svc = Pipeline([('Word2Vec Vectorizer', W2vVectorizer(glove50)),\n",
    "                ('Support Vector Machine', SVC())])\n",
    "lr = Pipeline([('Word2Vec Vectorizer', W2vVectorizer(glove50)),\n",
    "              ('Logistic Regression', LogisticRegression())])\n",
    "\n",
    "models = [('Random Forest', rf),\n",
    "          ('Support Vector Machine', svc),\n",
    "          ('Logistic Regression', lr)]\n",
    "\n",
    "scores = [(name, cross_val_score(model, X_train, y_train, cv=2).mean()) for name, model, in models]"
   ]
  },
  {
   "cell_type": "code",
   "execution_count": null,
   "id": "8758ce3d-9219-478d-8756-b16670b79b0e",
   "metadata": {},
   "outputs": [],
   "source": [
    "scores"
   ]
  },
  {
   "cell_type": "code",
   "execution_count": null,
   "id": "02e49f3f-a48c-43a6-9438-6ce22e1d36d3",
   "metadata": {},
   "outputs": [],
   "source": [
    "\n",
    "\n"
   ]
  },
  {
   "cell_type": "markdown",
   "id": "a27db04d-22bc-4f82-b726-e4e14f603c35",
   "metadata": {},
   "source": [
    "### Glove Model 2 - Random Forest"
   ]
  },
  {
   "cell_type": "code",
   "execution_count": null,
   "id": "fd73cc25-e928-469f-920c-c39cc225ccc7",
   "metadata": {},
   "outputs": [],
   "source": [
    "#gridsearch on best model:\n",
    "\n",
    "#model name for score keeping\n",
    "model_name = 'Glove-50 Random Forest'\n",
    "\n",
    "\n",
    "params = {\n",
    "    'clf__n_estimators': [10,100,1000],\n",
    "    'clf__max_depth': [None, 3, 4, 10],\n",
    "    'clf__max_features': [2, 5, 10]\n",
    "    \n",
    "}\n",
    "\n",
    "#remake LogReg model with best parameters from earlier gridsearch\n",
    "pipe = Pipeline([('vectorizer', W2vVectorizer(glove50)),\n",
    "                          ('clf', RandomForestClassifier(random_state=42))\n",
    "                         ])\n",
    "\n",
    "#gridsearch\n",
    "gscv = GridSearchCV(pipe, params, cv = 5, n_jobs=-1, verbose=True, scoring = 'accuracy')\n",
    "gscv.fit(X_train, y_train)\n",
    "\n",
    "\n",
    "#fit to data\n",
    "pipe.fit(X_train, y_train)"
   ]
  },
  {
   "cell_type": "code",
   "execution_count": null,
   "id": "bcd7a6f9-9ae1-4bd6-add9-1dbf0fb4ae7e",
   "metadata": {},
   "outputs": [],
   "source": [
    "#predict on test data\n",
    "y_pred = pipe.predict(X_test)\n",
    "\n",
    "print(classification_report(y_test, y_pred))\n",
    "\n",
    "plot_confusion(model_name)"
   ]
  },
  {
   "cell_type": "code",
   "execution_count": null,
   "id": "1932a787-8a4f-4eff-af5f-ee30c1f4a483",
   "metadata": {
    "tags": []
   },
   "outputs": [],
   "source": [
    "score_df = score_df.append(update_score_df(model_name), ignore_index=True)\n",
    "score_df"
   ]
  },
  {
   "cell_type": "markdown",
   "id": "110c4212-f6e9-4c75-87fd-a3ef386f6add",
   "metadata": {},
   "source": [
    "##### explain ________________________________"
   ]
  },
  {
   "cell_type": "code",
   "execution_count": null,
   "id": "a9b1c21a-23f1-4446-920a-0cd7fbd79378",
   "metadata": {},
   "outputs": [],
   "source": []
  },
  {
   "cell_type": "code",
   "execution_count": null,
   "id": "4623dcd5-6ce6-4cd9-9a69-b2b164fbee56",
   "metadata": {},
   "outputs": [],
   "source": []
  },
  {
   "cell_type": "code",
   "execution_count": null,
   "id": "50b24e7b-0782-45bb-8102-6fa6b5526ddd",
   "metadata": {},
   "outputs": [],
   "source": [
    "#gridsearch on best model:\n",
    "\n",
    "#model name for score keeping\n",
    "model_name = 'Glove-100 Random Forest'\n",
    "\n",
    "\n",
    "params = {\n",
    "    'clf__n_estimators': [10,100,1000],\n",
    "    'clf__max_depth': [None, 3, 4, 10],\n",
    "    'clf__max_features': [2, 5, 10]\n",
    "    \n",
    "}\n",
    "\n",
    "#remake LogReg model with best parameters from earlier gridsearch\n",
    "pipe = Pipeline([('vectorizer', W2vVectorizer(glove100)),\n",
    "                          ('clf', RandomForestClassifier(random_state=42))\n",
    "                         ])\n",
    "\n",
    "#gridsearch\n",
    "gscv = GridSearchCV(pipe, params, cv = 5, n_jobs=-1, verbose=True, scoring = 'accuracy')\n",
    "gscv.fit(X_train, y_train)\n",
    "\n",
    "\n",
    "#fit to data\n",
    "pipe.fit(X_train, y_train)"
   ]
  },
  {
   "cell_type": "code",
   "execution_count": null,
   "id": "12aff08a-8e59-480b-babf-3a77659f7fbd",
   "metadata": {},
   "outputs": [],
   "source": [
    "#predict on test data\n",
    "y_pred = pipe.predict(X_test)\n",
    "\n",
    "print(classification_report(y_test, y_pred))\n",
    "\n",
    "plot_confusion(model_name)"
   ]
  },
  {
   "cell_type": "code",
   "execution_count": null,
   "id": "ae4aa928-c662-4372-8ca2-d742d9f0e24e",
   "metadata": {
    "tags": []
   },
   "outputs": [],
   "source": [
    "score_df = score_df.append(update_score_df(model_name), ignore_index=True)\n",
    "score_df"
   ]
  },
  {
   "cell_type": "markdown",
   "id": "ffafdad9-6f1b-4393-8c19-f92f26af967d",
   "metadata": {},
   "source": [
    "##### explain ________________________________"
   ]
  },
  {
   "cell_type": "code",
   "execution_count": null,
   "id": "772ed096-44e4-4253-b661-c55135bf899a",
   "metadata": {},
   "outputs": [],
   "source": []
  },
  {
   "cell_type": "markdown",
   "id": "a9b2c98b-dd45-44f3-ac6f-aa7da1d5dd9d",
   "metadata": {},
   "source": [
    "##### coefficients ________________________________________"
   ]
  },
  {
   "cell_type": "code",
   "execution_count": null,
   "id": "ef335dfa-58cf-4e46-8ce3-df8348c792d9",
   "metadata": {},
   "outputs": [],
   "source": []
  },
  {
   "cell_type": "code",
   "execution_count": null,
   "id": "930d03d8-fb6e-4e1f-ad60-cac83f0b99d0",
   "metadata": {},
   "outputs": [],
   "source": []
  },
  {
   "cell_type": "code",
   "execution_count": null,
   "id": "5e34dc4f-d13a-48eb-961b-44304ced976b",
   "metadata": {},
   "outputs": [],
   "source": []
  },
  {
   "cell_type": "markdown",
   "id": "7f025c18-2f39-4c57-a426-b50427e8dab8",
   "metadata": {},
   "source": [
    "###### again without 'depression' etc???"
   ]
  },
  {
   "cell_type": "code",
   "execution_count": null,
   "id": "2ea00d18-b0cb-4877-af44-365cd1fc620b",
   "metadata": {},
   "outputs": [],
   "source": []
  },
  {
   "cell_type": "code",
   "execution_count": null,
   "id": "96877e19-4677-4411-93a4-fed444048c2e",
   "metadata": {},
   "outputs": [],
   "source": []
  },
  {
   "cell_type": "code",
   "execution_count": null,
   "id": "62d19249-cc1b-4495-8a79-914ac55d604e",
   "metadata": {},
   "outputs": [],
   "source": []
  },
  {
   "cell_type": "code",
   "execution_count": null,
   "id": "2b4b2eeb-8fc2-42e0-864f-ee283d4e9ef8",
   "metadata": {},
   "outputs": [],
   "source": []
  },
  {
   "cell_type": "markdown",
   "id": "be48f48f-3c21-4b3c-8bff-5f0f8a9fc8b6",
   "metadata": {},
   "source": [
    "***\n",
    "***\n",
    "\n",
    "# Conclusion"
   ]
  },
  {
   "cell_type": "markdown",
   "id": "850da2c2-6c68-4990-863b-6e7ce9bace8e",
   "metadata": {},
   "source": [
    "\n",
    "remember to include detailed info in into, conclusion, readme about all models and methods used\n",
    "##### __________________________________________________________________________________"
   ]
  },
  {
   "cell_type": "code",
   "execution_count": null,
   "id": "04132669-d554-46e0-b43c-452ee1b9bdad",
   "metadata": {},
   "outputs": [],
   "source": []
  },
  {
   "cell_type": "code",
   "execution_count": null,
   "id": "ca885aed-7093-47f4-971d-a4f72bf475be",
   "metadata": {},
   "outputs": [],
   "source": []
  },
  {
   "cell_type": "code",
   "execution_count": null,
   "id": "dc487072-5547-4dad-b938-3eb114da0993",
   "metadata": {},
   "outputs": [],
   "source": []
  },
  {
   "cell_type": "code",
   "execution_count": null,
   "id": "aa3c2ea4-9a8a-4339-90c9-b04e064558e7",
   "metadata": {},
   "outputs": [],
   "source": []
  },
  {
   "cell_type": "code",
   "execution_count": null,
   "id": "2de276f0-78cd-4fa2-8ca1-508ddfb03029",
   "metadata": {},
   "outputs": [],
   "source": []
  },
  {
   "cell_type": "code",
   "execution_count": null,
   "id": "b510fb37-775a-43a9-b419-022c9bcbdd80",
   "metadata": {},
   "outputs": [],
   "source": []
  },
  {
   "cell_type": "code",
   "execution_count": null,
   "id": "f005b86c-3ffd-42e0-950c-bff0f6f10eaa",
   "metadata": {},
   "outputs": [],
   "source": []
  },
  {
   "cell_type": "code",
   "execution_count": null,
   "id": "4ace9b80-ade7-4066-96e7-6c8f0a88ebbb",
   "metadata": {},
   "outputs": [],
   "source": []
  },
  {
   "cell_type": "code",
   "execution_count": null,
   "id": "0344b452-7e98-4249-9944-514865b6606e",
   "metadata": {},
   "outputs": [],
   "source": []
  }
 ],
 "metadata": {
  "kernelspec": {
   "display_name": "Python 3 (ipykernel)",
   "language": "python",
   "name": "python3"
  },
  "language_info": {
   "codemirror_mode": {
    "name": "ipython",
    "version": 3
   },
   "file_extension": ".py",
   "mimetype": "text/x-python",
   "name": "python",
   "nbconvert_exporter": "python",
   "pygments_lexer": "ipython3",
   "version": "3.9.7"
  },
  "toc-autonumbering": false
 },
 "nbformat": 4,
 "nbformat_minor": 5
}
