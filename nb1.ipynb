{
 "cells": [
  {
   "cell_type": "markdown",
   "id": "29606f3c-f63d-4504-85d3-675d48233166",
   "metadata": {},
   "source": [
    "# Capstone"
   ]
  },
  {
   "cell_type": "markdown",
   "id": "5987351f-3b08-487f-a1f5-3cc8d0949440",
   "metadata": {
    "tags": []
   },
   "source": [
    "### Introduction etc etc"
   ]
  },
  {
   "cell_type": "markdown",
   "id": "c15bf877-2bae-4fc9-86b4-ea29b7c7c9e1",
   "metadata": {},
   "source": [
    "***\n",
    "***"
   ]
  },
  {
   "cell_type": "markdown",
   "id": "8f715733-0685-4747-917c-71f5e8cae490",
   "metadata": {},
   "source": [
    "# Imports, Loading Data"
   ]
  },
  {
   "cell_type": "code",
   "execution_count": 119,
   "id": "db98d5bc-8147-4d7c-8e15-d46a4da22136",
   "metadata": {},
   "outputs": [],
   "source": [
    "#imports\n",
    "import os\n",
    "import matplotlib.pyplot as plt\n",
    "%matplotlib inline\n",
    "import numpy as np\n",
    "import pandas as pd\n",
    "import datetime\n",
    "import re\n",
    "import string\n",
    "import seaborn as sns\n",
    "import nltk\n",
    "from nltk import word_tokenize, FreqDist\n",
    "from nltk.corpus import stopwords\n",
    "from nltk.stem.wordnet import WordNetLemmatizer\n",
    "\n",
    "from sklearn.model_selection import train_test_split, GridSearchCV\n",
    "from sklearn.metrics import accuracy_score, precision_score, recall_score, f1_score, confusion_matrix, classification_report\n",
    "\n",
    "#models:\n",
    "from sklearn.ensemble import RandomForestClassifier\n",
    "from sklearn.tree import DecisionTreeClassifier\n",
    "from sklearn.naive_bayes import GaussianNB, MultinomialNB\n",
    "from sklearn.svm import SVC\n",
    "from sklearn.linear_model import LogisticRegression\n",
    "\n",
    "from sklearn.pipeline import Pipeline\n",
    "from sklearn.model_selection import cross_val_score\n",
    "\n",
    "import tensorflow as tf\n",
    "from keras.optimizers import SGD\n",
    "from tensorflow.keras import preprocessing\n",
    "from keras.layers import Input, Dense, LSTM, Embedding\n",
    "from keras.layers import Dropout, Activation, Bidirectional, GlobalMaxPool1D\n",
    "from keras.models import Sequential\n",
    "from keras import initializers, regularizers, constraints, optimizers, layers\n",
    "from keras.preprocessing import text, sequence\n",
    "\n",
    "from sklearn.feature_extraction.text import TfidfVectorizer, CountVectorizer\n",
    "\n",
    "#seed for reproducible results\n",
    "np.random.seed(42)\n",
    "tf.random.set_seed(42)"
   ]
  },
  {
   "cell_type": "markdown",
   "id": "e5496364-beeb-422e-9b5a-774886f1f906",
   "metadata": {},
   "source": [
    "##### explain datset in detail"
   ]
  },
  {
   "cell_type": "code",
   "execution_count": 82,
   "id": "5c68b7b9-19e7-4167-8395-43dca0223218",
   "metadata": {},
   "outputs": [],
   "source": [
    "data_dir_depression = './data/depression_dataset_reddit_cleaned.csv'\n",
    "\n",
    "depression_df = pd.read_csv(data_dir_depression)"
   ]
  },
  {
   "cell_type": "code",
   "execution_count": null,
   "id": "558ca8ac-ea71-4256-b85b-52c1f0e22a0d",
   "metadata": {},
   "outputs": [],
   "source": []
  },
  {
   "cell_type": "markdown",
   "id": "3cc84781-e6fa-499f-9196-bb7e7bbde3ba",
   "metadata": {},
   "source": [
    "# EDA and Preprocessing"
   ]
  },
  {
   "cell_type": "markdown",
   "id": "3c9190a1-e099-416f-b7dd-9ee1b0c1772b",
   "metadata": {
    "tags": []
   },
   "source": [
    "## Exploratory Data Analysis"
   ]
  },
  {
   "cell_type": "code",
   "execution_count": 83,
   "id": "637512be-8df0-48f8-b728-00b884e6be81",
   "metadata": {},
   "outputs": [
    {
     "name": "stdout",
     "output_type": "stream",
     "text": [
      "<class 'pandas.core.frame.DataFrame'>\n",
      "RangeIndex: 7731 entries, 0 to 7730\n",
      "Data columns (total 2 columns):\n",
      " #   Column         Non-Null Count  Dtype \n",
      "---  ------         --------------  ----- \n",
      " 0   clean_text     7731 non-null   object\n",
      " 1   is_depression  7731 non-null   int64 \n",
      "dtypes: int64(1), object(1)\n",
      "memory usage: 120.9+ KB\n"
     ]
    }
   ],
   "source": [
    "#change to df for ease of use\n",
    "df = depression_df\n",
    "df.info()"
   ]
  },
  {
   "cell_type": "code",
   "execution_count": 84,
   "id": "7ec09336-a62e-40ec-bb85-e5e29846da76",
   "metadata": {},
   "outputs": [
    {
     "data": {
      "text/html": [
       "<div>\n",
       "<style scoped>\n",
       "    .dataframe tbody tr th:only-of-type {\n",
       "        vertical-align: middle;\n",
       "    }\n",
       "\n",
       "    .dataframe tbody tr th {\n",
       "        vertical-align: top;\n",
       "    }\n",
       "\n",
       "    .dataframe thead th {\n",
       "        text-align: right;\n",
       "    }\n",
       "</style>\n",
       "<table border=\"1\" class=\"dataframe\">\n",
       "  <thead>\n",
       "    <tr style=\"text-align: right;\">\n",
       "      <th></th>\n",
       "      <th>clean_text</th>\n",
       "      <th>is_depression</th>\n",
       "    </tr>\n",
       "  </thead>\n",
       "  <tbody>\n",
       "    <tr>\n",
       "      <th>0</th>\n",
       "      <td>we understand that most people who reply immed...</td>\n",
       "      <td>1</td>\n",
       "    </tr>\n",
       "    <tr>\n",
       "      <th>1</th>\n",
       "      <td>welcome to r depression s check in post a plac...</td>\n",
       "      <td>1</td>\n",
       "    </tr>\n",
       "    <tr>\n",
       "      <th>2</th>\n",
       "      <td>anyone else instead of sleeping more when depr...</td>\n",
       "      <td>1</td>\n",
       "    </tr>\n",
       "    <tr>\n",
       "      <th>3</th>\n",
       "      <td>i ve kind of stuffed around a lot in my life d...</td>\n",
       "      <td>1</td>\n",
       "    </tr>\n",
       "    <tr>\n",
       "      <th>4</th>\n",
       "      <td>sleep is my greatest and most comforting escap...</td>\n",
       "      <td>1</td>\n",
       "    </tr>\n",
       "  </tbody>\n",
       "</table>\n",
       "</div>"
      ],
      "text/plain": [
       "                                          clean_text  is_depression\n",
       "0  we understand that most people who reply immed...              1\n",
       "1  welcome to r depression s check in post a plac...              1\n",
       "2  anyone else instead of sleeping more when depr...              1\n",
       "3  i ve kind of stuffed around a lot in my life d...              1\n",
       "4  sleep is my greatest and most comforting escap...              1"
      ]
     },
     "execution_count": 84,
     "metadata": {},
     "output_type": "execute_result"
    }
   ],
   "source": [
    "df.head()"
   ]
  },
  {
   "cell_type": "code",
   "execution_count": 85,
   "id": "a156f7f3-bb84-41c2-9d22-2ea956774297",
   "metadata": {},
   "outputs": [
    {
     "data": {
      "text/plain": [
       "clean_text       0\n",
       "is_depression    0\n",
       "dtype: int64"
      ]
     },
     "execution_count": 85,
     "metadata": {},
     "output_type": "execute_result"
    }
   ],
   "source": [
    "df.isna().sum()"
   ]
  },
  {
   "cell_type": "code",
   "execution_count": 86,
   "id": "88bbb06c-fa6a-4e56-a1b0-840583c9021e",
   "metadata": {},
   "outputs": [
    {
     "data": {
      "text/plain": [
       "0    3900\n",
       "1    3831\n",
       "Name: is_depression, dtype: int64"
      ]
     },
     "execution_count": 86,
     "metadata": {},
     "output_type": "execute_result"
    }
   ],
   "source": [
    "df['is_depression'].value_counts()"
   ]
  },
  {
   "cell_type": "markdown",
   "id": "fc483548-4f71-4609-9dac-7e6bbbc980fb",
   "metadata": {},
   "source": [
    "##### ______ discuss balance_____________________"
   ]
  },
  {
   "cell_type": "code",
   "execution_count": null,
   "id": "c60f562c-cffa-40fd-a810-527ace4d67f7",
   "metadata": {},
   "outputs": [],
   "source": []
  },
  {
   "cell_type": "code",
   "execution_count": 87,
   "id": "9a06cbaf-5597-493b-ad15-4a9e2b1609db",
   "metadata": {},
   "outputs": [],
   "source": [
    "# SHOW VISUALIZATION"
   ]
  },
  {
   "cell_type": "code",
   "execution_count": null,
   "id": "5729ec7d-801f-4d3d-a830-8802d6c80aa5",
   "metadata": {},
   "outputs": [],
   "source": []
  },
  {
   "cell_type": "code",
   "execution_count": null,
   "id": "ed0e86f9-2538-42c9-8260-98314f35c45c",
   "metadata": {},
   "outputs": [],
   "source": []
  },
  {
   "cell_type": "code",
   "execution_count": 88,
   "id": "740a9d39-3424-41c5-8c93-ede7109e7984",
   "metadata": {},
   "outputs": [
    {
     "data": {
      "text/plain": [
       "True    7731\n",
       "Name: islowercase, dtype: int64"
      ]
     },
     "execution_count": 88,
     "metadata": {},
     "output_type": "execute_result"
    }
   ],
   "source": [
    "df['islowercase'] = list(map(lambda x: x.islower(), df['clean_text']))\n",
    "df['islowercase'].value_counts()"
   ]
  },
  {
   "cell_type": "markdown",
   "id": "4cf5ebb4-3f18-4c3b-ab3b-d15afad6ce64",
   "metadata": {},
   "source": [
    "## Preprocessing Data\n",
    "\n",
    "Explain __________________________________________________________________________________________\n",
    "\n",
    "will create variations of columns to be able to experiment with different options (with/without stopwords, etc)"
   ]
  },
  {
   "cell_type": "markdown",
   "id": "a5d1c407-14c0-4585-8984-1a6c5102da68",
   "metadata": {
    "tags": []
   },
   "source": [
    "### Lowercase Text"
   ]
  },
  {
   "cell_type": "markdown",
   "id": "506c9bf0-9ac4-4002-942d-2d524f8349dd",
   "metadata": {},
   "source": [
    "In this case, the text data from the downloaded dataset is already lowercase, so we do not need to take this step!"
   ]
  },
  {
   "cell_type": "code",
   "execution_count": 89,
   "id": "e2b700e0-62b7-43f4-81cf-bc5d3516a3a7",
   "metadata": {},
   "outputs": [],
   "source": [
    "# df['lower_text'] = df['clean_text'].apply(lambda x: \" \".join(x.lower() for x in x.split()))\n",
    "\n",
    "# df['lower_text'].head()"
   ]
  },
  {
   "cell_type": "code",
   "execution_count": null,
   "id": "a7df5320-76a7-4d2e-97a7-f6825b30e4de",
   "metadata": {},
   "outputs": [],
   "source": []
  },
  {
   "cell_type": "code",
   "execution_count": null,
   "id": "f58eb588-8d4a-42a8-920e-f9695d42c592",
   "metadata": {},
   "outputs": [],
   "source": []
  },
  {
   "cell_type": "markdown",
   "id": "09322531-412c-4da5-9e3f-619993014f51",
   "metadata": {
    "tags": []
   },
   "source": [
    "### Tokenize\n",
    "Explain __________________________________________________________________________________________"
   ]
  },
  {
   "cell_type": "code",
   "execution_count": 90,
   "id": "08386529-bccf-4aa9-ae5a-6b49037ab51c",
   "metadata": {},
   "outputs": [],
   "source": [
    "def tokenize_data(data):\n",
    "    \n",
    "    #(this regex code keeps words with apostrophes as single tokens)\n",
    "    pattern = \"([a-zA-Z]+(?:'[a-z]+)?)\"\n",
    "    \n",
    "    #create tokens\n",
    "    tokens = nltk.regexp_tokenize(data, pattern)\n",
    "    return [word for word in tokens]"
   ]
  },
  {
   "cell_type": "code",
   "execution_count": 91,
   "id": "e0eb6a84-f225-470d-a4ba-202c57aa1e18",
   "metadata": {},
   "outputs": [
    {
     "data": {
      "text/plain": [
       "0    [we, understand, that, most, people, who, repl...\n",
       "1    [welcome, to, r, depression, s, check, in, pos...\n",
       "2    [anyone, else, instead, of, sleeping, more, wh...\n",
       "3    [i, ve, kind, of, stuffed, around, a, lot, in,...\n",
       "4    [sleep, is, my, greatest, and, most, comfortin...\n",
       "Name: tokenized, dtype: object"
      ]
     },
     "execution_count": 91,
     "metadata": {},
     "output_type": "execute_result"
    }
   ],
   "source": [
    "df['tokenized'] = df.apply(lambda x: tokenize_data(x['clean_text']), axis=1)\n",
    "df['tokenized'].head()"
   ]
  },
  {
   "cell_type": "markdown",
   "id": "6f04abf2-cad3-42b7-8684-977692faaf4d",
   "metadata": {
    "tags": []
   },
   "source": [
    "### Stopwords\n",
    "Explain __________________________________________________________________________________________"
   ]
  },
  {
   "cell_type": "code",
   "execution_count": 92,
   "id": "800df6b0-1384-44f8-be88-bd53fa7add4c",
   "metadata": {},
   "outputs": [
    {
     "data": {
      "text/plain": [
       "[('i', 40411),\n",
       " ('to', 17965),\n",
       " ('and', 16326),\n",
       " ('a', 12638),\n",
       " ('the', 11932),\n",
       " ('my', 11430),\n",
       " ('it', 9976),\n",
       " ('of', 7738),\n",
       " ('t', 7698),\n",
       " ('me', 6941),\n",
       " ('that', 6506),\n",
       " ('in', 6088),\n",
       " ('m', 5758),\n",
       " ('but', 5427),\n",
       " ('is', 5324),\n",
       " ('for', 5196),\n",
       " ('have', 5007),\n",
       " ('this', 4557),\n",
       " ('just', 4527),\n",
       " ('so', 4337),\n",
       " ('s', 4073),\n",
       " ('with', 3869),\n",
       " ('wa', 3810),\n",
       " ('like', 3584),\n",
       " ('not', 3275),\n",
       " ('feel', 3227),\n",
       " ('can', 3217),\n",
       " ('be', 3158),\n",
       " ('on', 3075),\n",
       " ('don', 3029),\n",
       " ('do', 2874),\n",
       " ('you', 2836),\n",
       " ('or', 2553),\n",
       " ('all', 2490),\n",
       " ('at', 2430),\n",
       " ('about', 2348),\n",
       " ('get', 2316),\n",
       " ('want', 2292),\n",
       " ('know', 2283),\n",
       " ('if', 2154),\n",
       " ('life', 2147),\n",
       " ('out', 2106),\n",
       " ('ve', 2096),\n",
       " ('up', 2082),\n",
       " ('time', 2069),\n",
       " ('what', 2057),\n",
       " ('been', 2024),\n",
       " ('am', 1983),\n",
       " ('because', 1922),\n",
       " ('they', 1885)]"
      ]
     },
     "execution_count": 92,
     "metadata": {},
     "output_type": "execute_result"
    }
   ],
   "source": [
    "#show top FreqDist of Tokenized Column\n",
    "FreqDist(sum(df['tokenized'], [])).most_common(50)"
   ]
  },
  {
   "cell_type": "code",
   "execution_count": 93,
   "id": "aa384166-9b50-4fd9-a407-cca02f15cbf0",
   "metadata": {},
   "outputs": [
    {
     "name": "stdout",
     "output_type": "stream",
     "text": [
      "['i', 'me', 'my', 'myself', 'we', 'our', 'ours', 'ourselves', 'you', \"you're\", \"you've\", \"you'll\", \"you'd\", 'your', 'yours', 'yourself', 'yourselves', 'he', 'him', 'his', 'himself', 'she', \"she's\", 'her', 'hers', 'herself', 'it', \"it's\", 'its', 'itself', 'they', 'them', 'their', 'theirs', 'themselves', 'what', 'which', 'who', 'whom', 'this', 'that', \"that'll\", 'these', 'those', 'am', 'is', 'are', 'was', 'were', 'be', 'been', 'being', 'have', 'has', 'had', 'having', 'do', 'does', 'did', 'doing', 'a', 'an', 'the', 'and', 'but', 'if', 'or', 'because', 'as', 'until', 'while', 'of', 'at', 'by', 'for', 'with', 'about', 'against', 'between', 'into', 'through', 'during', 'before', 'after', 'above', 'below', 'to', 'from', 'up', 'down', 'in', 'out', 'on', 'off', 'over', 'under', 'again', 'further', 'then', 'once', 'here', 'there', 'when', 'where', 'why', 'how', 'all', 'any', 'both', 'each', 'few', 'more', 'most', 'other', 'some', 'such', 'no', 'nor', 'not', 'only', 'own', 'same', 'so', 'than', 'too', 'very', 's', 't', 'can', 'will', 'just', 'don', \"don't\", 'should', \"should've\", 'now', 'd', 'll', 'm', 'o', 're', 've', 'y', 'ain', 'aren', \"aren't\", 'couldn', \"couldn't\", 'didn', \"didn't\", 'doesn', \"doesn't\", 'hadn', \"hadn't\", 'hasn', \"hasn't\", 'haven', \"haven't\", 'isn', \"isn't\", 'ma', 'mightn', \"mightn't\", 'mustn', \"mustn't\", 'needn', \"needn't\", 'shan', \"shan't\", 'shouldn', \"shouldn't\", 'wasn', \"wasn't\", 'weren', \"weren't\", 'won', \"won't\", 'wouldn', \"wouldn't\", ',', '.', \"'\", '?', '!', '(', ')']\n"
     ]
    }
   ],
   "source": [
    "stops = stopwords.words('english')\n",
    "\n",
    "#add punctuation\n",
    "for symbol in \",.'?!()\":\n",
    "    stops += symbol\n",
    "\n",
    "    #show example of stopwords list\n",
    "print(stops)"
   ]
  },
  {
   "cell_type": "code",
   "execution_count": null,
   "id": "1fe0272a-05ba-4fd4-8be2-8f555fefd2bb",
   "metadata": {},
   "outputs": [],
   "source": []
  },
  {
   "cell_type": "code",
   "execution_count": 94,
   "id": "90fdc8d2-abcc-4b53-9550-3dc9e62d8f76",
   "metadata": {},
   "outputs": [],
   "source": [
    "def tokenize_remove_stops(data):\n",
    "    pattern = \"([a-zA-Z]+(?:'[a-z]+)?)\"\n",
    "    tokens = nltk.regexp_tokenize(data, pattern)\n",
    "    return [word for word in tokens if word not in stops]"
   ]
  },
  {
   "cell_type": "code",
   "execution_count": 95,
   "id": "77589e97-a457-4957-b5f1-84c6006c1e6d",
   "metadata": {},
   "outputs": [
    {
     "data": {
      "text/html": [
       "<div>\n",
       "<style scoped>\n",
       "    .dataframe tbody tr th:only-of-type {\n",
       "        vertical-align: middle;\n",
       "    }\n",
       "\n",
       "    .dataframe tbody tr th {\n",
       "        vertical-align: top;\n",
       "    }\n",
       "\n",
       "    .dataframe thead th {\n",
       "        text-align: right;\n",
       "    }\n",
       "</style>\n",
       "<table border=\"1\" class=\"dataframe\">\n",
       "  <thead>\n",
       "    <tr style=\"text-align: right;\">\n",
       "      <th></th>\n",
       "      <th>tokenized</th>\n",
       "      <th>tokenized_no_stops</th>\n",
       "    </tr>\n",
       "  </thead>\n",
       "  <tbody>\n",
       "    <tr>\n",
       "      <th>0</th>\n",
       "      <td>[we, understand, that, most, people, who, repl...</td>\n",
       "      <td>[understand, people, reply, immediately, op, i...</td>\n",
       "    </tr>\n",
       "    <tr>\n",
       "      <th>1</th>\n",
       "      <td>[welcome, to, r, depression, s, check, in, pos...</td>\n",
       "      <td>[welcome, r, depression, check, post, place, t...</td>\n",
       "    </tr>\n",
       "    <tr>\n",
       "      <th>2</th>\n",
       "      <td>[anyone, else, instead, of, sleeping, more, wh...</td>\n",
       "      <td>[anyone, else, instead, sleeping, depressed, s...</td>\n",
       "    </tr>\n",
       "    <tr>\n",
       "      <th>3</th>\n",
       "      <td>[i, ve, kind, of, stuffed, around, a, lot, in,...</td>\n",
       "      <td>[kind, stuffed, around, lot, life, delaying, i...</td>\n",
       "    </tr>\n",
       "    <tr>\n",
       "      <th>4</th>\n",
       "      <td>[sleep, is, my, greatest, and, most, comfortin...</td>\n",
       "      <td>[sleep, greatest, comforting, escape, whenever...</td>\n",
       "    </tr>\n",
       "  </tbody>\n",
       "</table>\n",
       "</div>"
      ],
      "text/plain": [
       "                                           tokenized  \\\n",
       "0  [we, understand, that, most, people, who, repl...   \n",
       "1  [welcome, to, r, depression, s, check, in, pos...   \n",
       "2  [anyone, else, instead, of, sleeping, more, wh...   \n",
       "3  [i, ve, kind, of, stuffed, around, a, lot, in,...   \n",
       "4  [sleep, is, my, greatest, and, most, comfortin...   \n",
       "\n",
       "                                  tokenized_no_stops  \n",
       "0  [understand, people, reply, immediately, op, i...  \n",
       "1  [welcome, r, depression, check, post, place, t...  \n",
       "2  [anyone, else, instead, sleeping, depressed, s...  \n",
       "3  [kind, stuffed, around, lot, life, delaying, i...  \n",
       "4  [sleep, greatest, comforting, escape, whenever...  "
      ]
     },
     "execution_count": 95,
     "metadata": {},
     "output_type": "execute_result"
    }
   ],
   "source": [
    "df['tokenized_no_stops'] = df.apply(lambda x: tokenize_remove_stops(x['clean_text']), axis=1)\n",
    "\n",
    "#show difference\n",
    "df[['tokenized','tokenized_no_stops']].head()"
   ]
  },
  {
   "cell_type": "code",
   "execution_count": 96,
   "id": "24f43407-62cf-4f70-b2fe-d5b56baf04ef",
   "metadata": {},
   "outputs": [
    {
     "data": {
      "text/plain": [
       "[('wa', 3810),\n",
       " ('like', 3584),\n",
       " ('feel', 3227),\n",
       " ('get', 2316),\n",
       " ('want', 2292),\n",
       " ('know', 2283),\n",
       " ('life', 2147),\n",
       " ('time', 2069),\n",
       " ('even', 1812),\n",
       " ('day', 1688),\n",
       " ('people', 1660),\n",
       " ('really', 1617),\n",
       " ('depression', 1569),\n",
       " ('anxiety', 1548),\n",
       " ('thing', 1534),\n",
       " ('one', 1522),\n",
       " ('year', 1438),\n",
       " ('go', 1398),\n",
       " ('friend', 1297),\n",
       " ('would', 1285),\n",
       " ('think', 1280),\n",
       " ('going', 1252),\n",
       " ('ha', 1243),\n",
       " ('make', 1210),\n",
       " ('much', 1131),\n",
       " ('never', 1114),\n",
       " ('work', 1093),\n",
       " ('back', 1049),\n",
       " ('help', 1022),\n",
       " ('feeling', 948),\n",
       " ('im', 939),\n",
       " ('thought', 915),\n",
       " ('got', 915),\n",
       " ('still', 897),\n",
       " ('way', 839),\n",
       " ('good', 819),\n",
       " ('need', 818),\n",
       " ('anything', 808),\n",
       " ('bad', 802),\n",
       " ('always', 801),\n",
       " ('anyone', 787),\n",
       " ('everything', 785),\n",
       " ('see', 782),\n",
       " ('something', 779),\n",
       " ('better', 743),\n",
       " ('could', 740),\n",
       " ('last', 731),\n",
       " ('anymore', 725),\n",
       " ('every', 723),\n",
       " ('also', 720)]"
      ]
     },
     "execution_count": 96,
     "metadata": {},
     "output_type": "execute_result"
    }
   ],
   "source": [
    "#show top FreqDist now that stopwords are removed!\n",
    "freq_minus_stops = FreqDist(sum(df['tokenized_no_stops'], []))\n",
    "freq_minus_stops.most_common(50)"
   ]
  },
  {
   "cell_type": "code",
   "execution_count": null,
   "id": "29cd7b95-f069-4c93-8d9c-e2825c410c67",
   "metadata": {},
   "outputs": [],
   "source": []
  },
  {
   "cell_type": "code",
   "execution_count": null,
   "id": "b8c04209-f5f1-4ab3-a1c7-47e071856835",
   "metadata": {},
   "outputs": [],
   "source": []
  },
  {
   "cell_type": "markdown",
   "id": "4dc26102-c30a-4be4-a1d1-3c8dd8a6bd39",
   "metadata": {},
   "source": [
    "# _____________ REMOVE OBVIOUS WORDS SKEWING TARGET DATA _____ View Frequency of Words by Class ___________________"
   ]
  },
  {
   "cell_type": "code",
   "execution_count": null,
   "id": "ca13774c-ad18-4649-963f-8c88badeec66",
   "metadata": {},
   "outputs": [],
   "source": []
  },
  {
   "cell_type": "code",
   "execution_count": null,
   "id": "3b920123-cb51-4dec-bcc4-7bfbe1579d15",
   "metadata": {},
   "outputs": [],
   "source": []
  },
  {
   "cell_type": "code",
   "execution_count": null,
   "id": "82214cbe-c53c-492b-a69b-2ec54f54f658",
   "metadata": {},
   "outputs": [],
   "source": []
  },
  {
   "cell_type": "markdown",
   "id": "5af938aa-5242-40f0-a1a5-baa783fc6181",
   "metadata": {},
   "source": [
    "### Lemmatization\n",
    "explain __________________________________________________________________________________________"
   ]
  },
  {
   "cell_type": "code",
   "execution_count": 97,
   "id": "59c6756f-b41a-488b-bde2-bec9cd54954d",
   "metadata": {},
   "outputs": [],
   "source": [
    "lemmatizer = WordNetLemmatizer()\n",
    "\n",
    "def lemmatize_data(data):\n",
    "    return [lemmatizer.lemmatize(word) for word in data]\n",
    "    "
   ]
  },
  {
   "cell_type": "code",
   "execution_count": 98,
   "id": "64b820ff-62d6-4568-9426-27e9d46445c5",
   "metadata": {},
   "outputs": [
    {
     "data": {
      "text/plain": [
       "0    [we, understand, that, most, people, who, repl...\n",
       "1    [welcome, to, r, depression, s, check, in, pos...\n",
       "2    [anyone, else, instead, of, sleeping, more, wh...\n",
       "3    [i, ve, kind, of, stuffed, around, a, lot, in,...\n",
       "4    [sleep, is, my, greatest, and, most, comfortin...\n",
       "Name: lemmatized, dtype: object"
      ]
     },
     "execution_count": 98,
     "metadata": {},
     "output_type": "execute_result"
    }
   ],
   "source": [
    "df['lemmatized'] = df['tokenized'].apply(lemmatize_data)\n",
    "df['lemmatized'].head()"
   ]
  },
  {
   "cell_type": "code",
   "execution_count": 99,
   "id": "e24d86f3-7404-4c4b-a2c1-61d5f02fa3ba",
   "metadata": {},
   "outputs": [
    {
     "data": {
      "text/plain": [
       "0    [understand, people, reply, immediately, op, i...\n",
       "1    [welcome, r, depression, check, post, place, t...\n",
       "2    [anyone, else, instead, sleeping, depressed, s...\n",
       "3    [kind, stuffed, around, lot, life, delaying, i...\n",
       "4    [sleep, greatest, comforting, escape, whenever...\n",
       "Name: lemmatized_no_stops, dtype: object"
      ]
     },
     "execution_count": 99,
     "metadata": {},
     "output_type": "execute_result"
    }
   ],
   "source": [
    "df['lemmatized_no_stops'] = df['tokenized_no_stops'].apply(lemmatize_data)\n",
    "df['lemmatized_no_stops'].head()"
   ]
  },
  {
   "cell_type": "code",
   "execution_count": null,
   "id": "9284eae4-815b-4b35-970a-5eb02dba7014",
   "metadata": {},
   "outputs": [],
   "source": []
  },
  {
   "cell_type": "code",
   "execution_count": null,
   "id": "4e3a1d15-b4c4-469e-a3c2-c2695bd9e1d4",
   "metadata": {},
   "outputs": [],
   "source": []
  },
  {
   "cell_type": "code",
   "execution_count": null,
   "id": "0ed16292-218c-4bef-aeee-5ff7a298f948",
   "metadata": {},
   "outputs": [],
   "source": []
  },
  {
   "cell_type": "code",
   "execution_count": null,
   "id": "db2325e9-6249-4d42-a46c-7c523efc0fe7",
   "metadata": {},
   "outputs": [],
   "source": []
  },
  {
   "cell_type": "code",
   "execution_count": null,
   "id": "d4ec7fb5-21d2-4ee7-91d8-9f3a3bcfaf13",
   "metadata": {},
   "outputs": [],
   "source": []
  },
  {
   "cell_type": "code",
   "execution_count": null,
   "id": "68d0885b-f130-4306-a5e1-fc1afdae26e9",
   "metadata": {},
   "outputs": [],
   "source": []
  },
  {
   "cell_type": "code",
   "execution_count": 100,
   "id": "fe6e6834-ce9c-4f1d-9c63-d950c0c19e2e",
   "metadata": {},
   "outputs": [
    {
     "data": {
      "text/html": [
       "<div>\n",
       "<style scoped>\n",
       "    .dataframe tbody tr th:only-of-type {\n",
       "        vertical-align: middle;\n",
       "    }\n",
       "\n",
       "    .dataframe tbody tr th {\n",
       "        vertical-align: top;\n",
       "    }\n",
       "\n",
       "    .dataframe thead th {\n",
       "        text-align: right;\n",
       "    }\n",
       "</style>\n",
       "<table border=\"1\" class=\"dataframe\">\n",
       "  <thead>\n",
       "    <tr style=\"text-align: right;\">\n",
       "      <th></th>\n",
       "      <th>clean_text</th>\n",
       "      <th>is_depression</th>\n",
       "      <th>islowercase</th>\n",
       "      <th>tokenized</th>\n",
       "      <th>tokenized_no_stops</th>\n",
       "      <th>lemmatized</th>\n",
       "      <th>lemmatized_no_stops</th>\n",
       "    </tr>\n",
       "  </thead>\n",
       "  <tbody>\n",
       "    <tr>\n",
       "      <th>0</th>\n",
       "      <td>we understand that most people who reply immed...</td>\n",
       "      <td>1</td>\n",
       "      <td>True</td>\n",
       "      <td>[we, understand, that, most, people, who, repl...</td>\n",
       "      <td>[understand, people, reply, immediately, op, i...</td>\n",
       "      <td>[we, understand, that, most, people, who, repl...</td>\n",
       "      <td>[understand, people, reply, immediately, op, i...</td>\n",
       "    </tr>\n",
       "    <tr>\n",
       "      <th>1</th>\n",
       "      <td>welcome to r depression s check in post a plac...</td>\n",
       "      <td>1</td>\n",
       "      <td>True</td>\n",
       "      <td>[welcome, to, r, depression, s, check, in, pos...</td>\n",
       "      <td>[welcome, r, depression, check, post, place, t...</td>\n",
       "      <td>[welcome, to, r, depression, s, check, in, pos...</td>\n",
       "      <td>[welcome, r, depression, check, post, place, t...</td>\n",
       "    </tr>\n",
       "    <tr>\n",
       "      <th>2</th>\n",
       "      <td>anyone else instead of sleeping more when depr...</td>\n",
       "      <td>1</td>\n",
       "      <td>True</td>\n",
       "      <td>[anyone, else, instead, of, sleeping, more, wh...</td>\n",
       "      <td>[anyone, else, instead, sleeping, depressed, s...</td>\n",
       "      <td>[anyone, else, instead, of, sleeping, more, wh...</td>\n",
       "      <td>[anyone, else, instead, sleeping, depressed, s...</td>\n",
       "    </tr>\n",
       "    <tr>\n",
       "      <th>3</th>\n",
       "      <td>i ve kind of stuffed around a lot in my life d...</td>\n",
       "      <td>1</td>\n",
       "      <td>True</td>\n",
       "      <td>[i, ve, kind, of, stuffed, around, a, lot, in,...</td>\n",
       "      <td>[kind, stuffed, around, lot, life, delaying, i...</td>\n",
       "      <td>[i, ve, kind, of, stuffed, around, a, lot, in,...</td>\n",
       "      <td>[kind, stuffed, around, lot, life, delaying, i...</td>\n",
       "    </tr>\n",
       "    <tr>\n",
       "      <th>4</th>\n",
       "      <td>sleep is my greatest and most comforting escap...</td>\n",
       "      <td>1</td>\n",
       "      <td>True</td>\n",
       "      <td>[sleep, is, my, greatest, and, most, comfortin...</td>\n",
       "      <td>[sleep, greatest, comforting, escape, whenever...</td>\n",
       "      <td>[sleep, is, my, greatest, and, most, comfortin...</td>\n",
       "      <td>[sleep, greatest, comforting, escape, whenever...</td>\n",
       "    </tr>\n",
       "  </tbody>\n",
       "</table>\n",
       "</div>"
      ],
      "text/plain": [
       "                                          clean_text  is_depression  \\\n",
       "0  we understand that most people who reply immed...              1   \n",
       "1  welcome to r depression s check in post a plac...              1   \n",
       "2  anyone else instead of sleeping more when depr...              1   \n",
       "3  i ve kind of stuffed around a lot in my life d...              1   \n",
       "4  sleep is my greatest and most comforting escap...              1   \n",
       "\n",
       "   islowercase                                          tokenized  \\\n",
       "0         True  [we, understand, that, most, people, who, repl...   \n",
       "1         True  [welcome, to, r, depression, s, check, in, pos...   \n",
       "2         True  [anyone, else, instead, of, sleeping, more, wh...   \n",
       "3         True  [i, ve, kind, of, stuffed, around, a, lot, in,...   \n",
       "4         True  [sleep, is, my, greatest, and, most, comfortin...   \n",
       "\n",
       "                                  tokenized_no_stops  \\\n",
       "0  [understand, people, reply, immediately, op, i...   \n",
       "1  [welcome, r, depression, check, post, place, t...   \n",
       "2  [anyone, else, instead, sleeping, depressed, s...   \n",
       "3  [kind, stuffed, around, lot, life, delaying, i...   \n",
       "4  [sleep, greatest, comforting, escape, whenever...   \n",
       "\n",
       "                                          lemmatized  \\\n",
       "0  [we, understand, that, most, people, who, repl...   \n",
       "1  [welcome, to, r, depression, s, check, in, pos...   \n",
       "2  [anyone, else, instead, of, sleeping, more, wh...   \n",
       "3  [i, ve, kind, of, stuffed, around, a, lot, in,...   \n",
       "4  [sleep, is, my, greatest, and, most, comfortin...   \n",
       "\n",
       "                                 lemmatized_no_stops  \n",
       "0  [understand, people, reply, immediately, op, i...  \n",
       "1  [welcome, r, depression, check, post, place, t...  \n",
       "2  [anyone, else, instead, sleeping, depressed, s...  \n",
       "3  [kind, stuffed, around, lot, life, delaying, i...  \n",
       "4  [sleep, greatest, comforting, escape, whenever...  "
      ]
     },
     "execution_count": 100,
     "metadata": {},
     "output_type": "execute_result"
    }
   ],
   "source": [
    "df.head()"
   ]
  },
  {
   "cell_type": "markdown",
   "id": "eaa935cb-fb7e-41fa-aaca-49ed738f6139",
   "metadata": {},
   "source": [
    "##### __DISCUSS DATASET__"
   ]
  },
  {
   "cell_type": "code",
   "execution_count": null,
   "id": "ea0d35d8-b325-4e86-a262-b089dc0ab080",
   "metadata": {},
   "outputs": [],
   "source": []
  },
  {
   "cell_type": "code",
   "execution_count": null,
   "id": "85c16d65-d58d-4696-8b87-7ec9a602a977",
   "metadata": {},
   "outputs": [],
   "source": []
  },
  {
   "cell_type": "code",
   "execution_count": null,
   "id": "a86df2cc-04b8-4eea-a711-5b375fe319fc",
   "metadata": {},
   "outputs": [],
   "source": []
  },
  {
   "cell_type": "code",
   "execution_count": null,
   "id": "2fc4c6d8-a7cf-4f8b-9d0a-c9f4d1c38abb",
   "metadata": {},
   "outputs": [],
   "source": []
  },
  {
   "cell_type": "code",
   "execution_count": null,
   "id": "084348f2-1ec1-4268-9dcf-97eef7f3c6cd",
   "metadata": {},
   "outputs": [],
   "source": []
  },
  {
   "cell_type": "code",
   "execution_count": null,
   "id": "4ab13d50-5a60-469d-b2b4-cd07b2a466b2",
   "metadata": {},
   "outputs": [],
   "source": []
  },
  {
   "cell_type": "code",
   "execution_count": null,
   "id": "b72a631f-9aa0-4725-8441-2b9246033af0",
   "metadata": {},
   "outputs": [],
   "source": []
  },
  {
   "cell_type": "markdown",
   "id": "e8579305-93a5-426c-9a20-94e6684a7a96",
   "metadata": {},
   "source": [
    "# Modeling"
   ]
  },
  {
   "cell_type": "markdown",
   "id": "d918dbb5-9b48-4121-bd3f-644d86008ba3",
   "metadata": {},
   "source": [
    "## Preparing Train and Test Data`"
   ]
  },
  {
   "cell_type": "markdown",
   "id": "29f51311-4a58-4c0e-be48-fffc2d703798",
   "metadata": {},
   "source": [
    "##### __EXPLAIN STARTING FEATURE CHOICE, TARGET, ETC__\n",
    "## ____\n",
    "\n",
    "also talk about data sizes"
   ]
  },
  {
   "cell_type": "code",
   "execution_count": null,
   "id": "cf363448-5300-4b31-be29-bbb24c27b571",
   "metadata": {},
   "outputs": [],
   "source": []
  },
  {
   "cell_type": "code",
   "execution_count": null,
   "id": "ea0075eb-0bab-4542-9091-850ece5319a1",
   "metadata": {},
   "outputs": [],
   "source": []
  },
  {
   "cell_type": "markdown",
   "id": "82416b6c-dd11-4ab5-9f96-cbee8af8d221",
   "metadata": {},
   "source": [
    "### explain vectorizer"
   ]
  },
  {
   "cell_type": "code",
   "execution_count": 123,
   "id": "060a0f69-446b-46be-b63f-c0786aa45f07",
   "metadata": {},
   "outputs": [],
   "source": [
    "vectorizer = TfidfVectorizer()"
   ]
  },
  {
   "cell_type": "markdown",
   "id": "810e73ec-c616-4e7c-af7b-74b2d0b4ab16",
   "metadata": {},
   "source": [
    "### Rejoin Data\n",
    "\n",
    "for tfidf vectorizer"
   ]
  },
  {
   "cell_type": "code",
   "execution_count": 101,
   "id": "7227030c-a45e-43fe-8730-8235fb29e0f8",
   "metadata": {},
   "outputs": [],
   "source": [
    "def rejoin_words(column):\n",
    "    return ( \" \".join(column))\n",
    "\n",
    "df['rejoined_lemmatized'] = df.apply(lambda x: rejoin_words(x['lemmatized']), axis=1)"
   ]
  },
  {
   "cell_type": "code",
   "execution_count": 102,
   "id": "d65653e5-b21b-45d0-aabb-3ded354baa96",
   "metadata": {},
   "outputs": [
    {
     "data": {
      "text/plain": [
       "0    we understand that most people who reply immed...\n",
       "1    welcome to r depression s check in post a plac...\n",
       "2    anyone else instead of sleeping more when depr...\n",
       "3    i ve kind of stuffed around a lot in my life d...\n",
       "4    sleep is my greatest and most comforting escap...\n",
       "Name: rejoined_lemmatized, dtype: object"
      ]
     },
     "execution_count": 102,
     "metadata": {},
     "output_type": "execute_result"
    }
   ],
   "source": [
    "df['rejoined_lemmatized'].head()"
   ]
  },
  {
   "cell_type": "code",
   "execution_count": 124,
   "id": "fcfa69ea-9855-4739-b19e-32b3e71ad31f",
   "metadata": {},
   "outputs": [],
   "source": [
    "X = vectorizer.fit_transform(df['rejoined_lemmatized'])\n",
    "y = df['is_depression']"
   ]
  },
  {
   "cell_type": "code",
   "execution_count": 125,
   "id": "6a463e08-232d-43ca-ae13-ab1d286e8ae7",
   "metadata": {},
   "outputs": [],
   "source": [
    "#train_test_split\n",
    "X_train, X_test, y_train, y_test = train_test_split(X, y, stratify=y, test_size=0.2, random_state=42)\n",
    "\n",
    "# #create validation set from test data\n",
    "# X_val, X_test, y_val, y_test = train_test_split(X_test, y_test, stratify=y_test, test_size=0.5, random_state=42)"
   ]
  },
  {
   "cell_type": "code",
   "execution_count": 126,
   "id": "7db21918-b37c-48ee-9524-3ecf58c7f1d3",
   "metadata": {},
   "outputs": [
    {
     "data": {
      "text/plain": [
       "63953"
      ]
     },
     "execution_count": 126,
     "metadata": {},
     "output_type": "execute_result"
    }
   ],
   "source": [
    "X_test.size\n",
    "#etc"
   ]
  },
  {
   "cell_type": "markdown",
   "id": "ecf2a6e7-b3e0-4c88-84a3-1af95a16f0a9",
   "metadata": {},
   "source": [
    "data sizes"
   ]
  },
  {
   "cell_type": "code",
   "execution_count": null,
   "id": "5cc49909-b7fb-4f44-9841-c8129fecf8f8",
   "metadata": {},
   "outputs": [],
   "source": []
  },
  {
   "cell_type": "code",
   "execution_count": null,
   "id": "0c1c4698-b1ec-44ba-ace2-eed909e63b37",
   "metadata": {},
   "outputs": [],
   "source": []
  },
  {
   "cell_type": "markdown",
   "id": "c0c2f3ee-a411-413e-842d-29630db29b3f",
   "metadata": {},
   "source": [
    "### Metrics and Scoring\n",
    "explain metric options\n",
    "\n",
    "ideal scores"
   ]
  },
  {
   "cell_type": "code",
   "execution_count": null,
   "id": "742e6b68-8a8e-465a-b97f-de1565a8b7a9",
   "metadata": {},
   "outputs": [],
   "source": []
  },
  {
   "cell_type": "code",
   "execution_count": null,
   "id": "fba4b64b-aa23-4771-be88-32f3478ae3f9",
   "metadata": {},
   "outputs": [],
   "source": []
  },
  {
   "cell_type": "markdown",
   "id": "365dff7f-89e3-497a-971a-9d50bf443ab1",
   "metadata": {
    "tags": []
   },
   "source": [
    "## baseline model - Logistic Regression\n",
    "\n",
    "explain model choice\n"
   ]
  },
  {
   "cell_type": "code",
   "execution_count": 62,
   "id": "a16c42da-9320-4732-b34a-59e074bda3dc",
   "metadata": {},
   "outputs": [],
   "source": [
    "# from sklearn.ensemble import RandomForestClassifier\n",
    "# from sklearn.tree import DecisionTreeClassifier\n",
    "# from sklearn.naive_bayes import GaussianNB, MultinomialNB\n",
    "# from sklearn.svm import SVC\n",
    "# from sklearn.linear_model import LogisticRegression"
   ]
  },
  {
   "cell_type": "markdown",
   "id": "a090c8fb-b732-429b-b11a-b32aebfd4fb7",
   "metadata": {
    "tags": []
   },
   "source": [
    "\n",
    "\n",
    "### explain pipeline"
   ]
  },
  {
   "cell_type": "code",
   "execution_count": 127,
   "id": "ed9fe5db-dc1a-443d-962b-0b1141e63d54",
   "metadata": {},
   "outputs": [],
   "source": [
    "lr_model = LogisticRegression()"
   ]
  },
  {
   "cell_type": "code",
   "execution_count": 128,
   "id": "5e1c3bc7-3961-4cc0-8212-ac9065196bf1",
   "metadata": {},
   "outputs": [
    {
     "data": {
      "text/plain": [
       "LogisticRegression()"
      ]
     },
     "execution_count": 128,
     "metadata": {},
     "output_type": "execute_result"
    }
   ],
   "source": [
    "lr_model.fit(X_train, y_train)"
   ]
  },
  {
   "cell_type": "code",
   "execution_count": 129,
   "id": "96278a71-c235-496b-89d4-7a3367de48a2",
   "metadata": {},
   "outputs": [
    {
     "name": "stdout",
     "output_type": "stream",
     "text": [
      "              precision    recall  f1-score   support\n",
      "\n",
      "           0       0.93      0.99      0.96       780\n",
      "           1       0.99      0.93      0.96       767\n",
      "\n",
      "    accuracy                           0.96      1547\n",
      "   macro avg       0.96      0.96      0.96      1547\n",
      "weighted avg       0.96      0.96      0.96      1547\n",
      "\n"
     ]
    }
   ],
   "source": [
    "y_pred = lr_model.predict(X_test)\n",
    "\n",
    "print(classification_report(y_test, y_pred))"
   ]
  },
  {
   "cell_type": "code",
   "execution_count": 130,
   "id": "d91b5e2b-f696-41df-85ae-c093dd239b5a",
   "metadata": {},
   "outputs": [],
   "source": [
    "# create confusion matrix helper function:\n",
    "def plot_confusion(title, save_name):\n",
    "\n",
    "    #confusion matrix for test data\n",
    "    conf_matrix = confusion_matrix(y_test,y_pred)\n",
    "\n",
    "    # plot confusion matrix values\n",
    "    sns.heatmap(\n",
    "    conf_matrix, \n",
    "    annot=True, \n",
    "    cmap='Blues', \n",
    "    fmt='0.5g'\n",
    "    )\n",
    "\n",
    "    plt.xlabel('Predicted Label')\n",
    "    plt.ylabel('True Label')\n",
    "    plt.title(title)\n",
    "\n",
    "    plt.savefig('./img/'+save_name+'.png')\n",
    "    plt.show()"
   ]
  },
  {
   "cell_type": "code",
   "execution_count": 131,
   "id": "c7793359-3c71-4c5f-9f50-181d5806b246",
   "metadata": {},
   "outputs": [
    {
     "data": {
      "image/png": "[encoded data removed]",
      "text/plain": [
       "<Figure size 432x288 with 2 Axes>"
      ]
     },
     "metadata": {
      "needs_background": "light"
     },
     "output_type": "display_data"
    }
   ],
   "source": [
    "plot_confusion('LogReg', 'logreg_base')"
   ]
  },
  {
   "cell_type": "code",
   "execution_count": 142,
   "id": "08dbf83b-9ce0-41ad-aeca-3839e5527b19",
   "metadata": {},
   "outputs": [
    {
     "name": "stdout",
     "output_type": "stream",
     "text": [
      "                   word      coef\n",
      "14994          buttload -2.051887\n",
      "14150             loses -1.918344\n",
      "18369               cpu -1.800378\n",
      "3051               anti -1.719759\n",
      "13173           vpllqru -1.656870\n",
      "...                 ...       ...\n",
      "16321         pineapple -0.000358\n",
      "15588  keeeerrrrriiiiii -0.000340\n",
      "18016               cob -0.000155\n",
      "14434               wty -0.000058\n",
      "700                slow -0.000016\n",
      "\n",
      "[5488 rows x 2 columns]\n"
     ]
    },
    {
     "ename": "TypeError",
     "evalue": "'NoneType' object is not subscriptable",
     "output_type": "error",
     "traceback": [
      "\u001b[1;31m---------------------------------------------------------------------------\u001b[0m",
      "\u001b[1;31mTypeError\u001b[0m                                 Traceback (most recent call last)",
      "\u001b[1;32m~\\AppData\\Local\\Temp/ipykernel_2020/3534194861.py\u001b[0m in \u001b[0;36m<module>\u001b[1;34m\u001b[0m\n\u001b[0;32m      8\u001b[0m \u001b[1;33m\u001b[0m\u001b[0m\n\u001b[0;32m      9\u001b[0m \u001b[1;31m# Print the most prominent words in each class\u001b[0m\u001b[1;33m\u001b[0m\u001b[1;33m\u001b[0m\u001b[0m\n\u001b[1;32m---> 10\u001b[1;33m \u001b[0mprint\u001b[0m\u001b[1;33m(\u001b[0m\u001b[0mcoef_df\u001b[0m\u001b[1;33m[\u001b[0m\u001b[0mcoef_df\u001b[0m\u001b[1;33m[\u001b[0m\u001b[1;34m'coef'\u001b[0m\u001b[1;33m]\u001b[0m \u001b[1;33m<\u001b[0m \u001b[1;36m0\u001b[0m\u001b[1;33m]\u001b[0m\u001b[1;33m.\u001b[0m\u001b[0msort_values\u001b[0m\u001b[1;33m(\u001b[0m\u001b[1;34m'coef'\u001b[0m\u001b[1;33m,\u001b[0m \u001b[0mascending\u001b[0m\u001b[1;33m=\u001b[0m\u001b[1;32mTrue\u001b[0m\u001b[1;33m)\u001b[0m\u001b[1;33m)\u001b[0m\u001b[1;33m[\u001b[0m\u001b[1;36m0\u001b[0m\u001b[1;33m:\u001b[0m\u001b[1;36m10\u001b[0m\u001b[1;33m]\u001b[0m\u001b[1;33m\u001b[0m\u001b[1;33m\u001b[0m\u001b[0m\n\u001b[0m",
      "\u001b[1;31mTypeError\u001b[0m: 'NoneType' object is not subscriptable"
     ]
    }
   ],
   "source": [
    "vocab = vectorizer.vocabulary_\n",
    "\n",
    "# Get the coefficients of the model\n",
    "coef = lr_model.coef_[0]\n",
    "\n",
    "# Create a DataFrame with the coefficients\n",
    "coef_df = pd.DataFrame({'word': list(vocab.keys()), 'coef': coef})\n",
    "\n",
    "# Print the most prominent words in each class\n",
    "print(coef_df[coef_df['coef'] < 0].sort_values('coef', ascending=True))[0:10]"
   ]
  },
  {
   "cell_type": "markdown",
   "id": "f6627f09-0537-43d8-987b-d73e94f69657",
   "metadata": {},
   "source": [
    "# TOO MUCH OBVIOUS WORDAGE, REMOVE IN PREPROCESSING\n",
    "\n",
    "## can always analyze futher at this point to identify more coefficients/features to remove though"
   ]
  },
  {
   "cell_type": "code",
   "execution_count": null,
   "id": "b8c77e07-b799-4a57-8c1e-c3df14d56bc8",
   "metadata": {},
   "outputs": [],
   "source": []
  },
  {
   "cell_type": "code",
   "execution_count": null,
   "id": "822b2e2c-2243-4f3b-911a-01aa0cb9b7ad",
   "metadata": {},
   "outputs": [],
   "source": []
  },
  {
   "cell_type": "code",
   "execution_count": null,
   "id": "8e16b844-27e6-4ce2-83a9-d28e80688110",
   "metadata": {},
   "outputs": [],
   "source": []
  },
  {
   "cell_type": "markdown",
   "id": "aa10380d-4504-43a6-8a4b-3ac347db99b6",
   "metadata": {},
   "source": [
    "gridsearch pipelines to choose model"
   ]
  },
  {
   "cell_type": "markdown",
   "id": "5072fe21-5f9f-436c-8b83-6102372e84bb",
   "metadata": {},
   "source": [
    "best model play with hyperparameters"
   ]
  },
  {
   "cell_type": "code",
   "execution_count": null,
   "id": "df68f46c-a441-4771-b173-e8c59816974f",
   "metadata": {},
   "outputs": [],
   "source": []
  },
  {
   "cell_type": "code",
   "execution_count": null,
   "id": "7ad21189-57b6-41b3-a9fa-4144859d8021",
   "metadata": {},
   "outputs": [],
   "source": []
  },
  {
   "cell_type": "markdown",
   "id": "b94edab2-72fe-4142-a08f-b7622f16caf3",
   "metadata": {},
   "source": [
    "talk about word embeddings\n",
    "\n",
    "rnn? implement at least a glimpse into neural networks"
   ]
  },
  {
   "cell_type": "code",
   "execution_count": null,
   "id": "a4448fb5-07ea-43a4-85af-849260f782d5",
   "metadata": {},
   "outputs": [],
   "source": []
  },
  {
   "cell_type": "code",
   "execution_count": null,
   "id": "c6bc37fd-e0e9-4db2-95e6-0825fbfa1b80",
   "metadata": {},
   "outputs": [],
   "source": []
  },
  {
   "cell_type": "code",
   "execution_count": null,
   "id": "be6de1e0-081f-4a2b-805f-c79c8dd97b3a",
   "metadata": {},
   "outputs": [],
   "source": []
  },
  {
   "cell_type": "code",
   "execution_count": null,
   "id": "343d3d50-5ce9-4c39-800e-7a6449d6ac1b",
   "metadata": {},
   "outputs": [],
   "source": []
  },
  {
   "cell_type": "code",
   "execution_count": null,
   "id": "71b51de5-159d-44cc-a502-c07d2628290c",
   "metadata": {},
   "outputs": [],
   "source": []
  },
  {
   "cell_type": "code",
   "execution_count": null,
   "id": "dcb8ded8-a952-4c5d-ad17-f43c002543c0",
   "metadata": {},
   "outputs": [],
   "source": []
  },
  {
   "cell_type": "code",
   "execution_count": null,
   "id": "77ee0312-dfa6-4a5a-959f-57d5f261e412",
   "metadata": {},
   "outputs": [],
   "source": []
  }
 ],
 "metadata": {
  "kernelspec": {
   "display_name": "Python 3 (ipykernel)",
   "language": "python",
   "name": "python3"
  },
  "language_info": {
   "codemirror_mode": {
    "name": "ipython",
    "version": 3
   },
   "file_extension": ".py",
   "mimetype": "text/x-python",
   "name": "python",
   "nbconvert_exporter": "python",
   "pygments_lexer": "ipython3",
   "version": "3.9.7"
  },
  "toc-autonumbering": false
 },
 "nbformat": 4,
 "nbformat_minor": 5
}
