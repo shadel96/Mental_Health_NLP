{
 "cells": [
  {
   "cell_type": "markdown",
   "id": "4f09087a",
   "metadata": {
    "tags": []
   },
   "source": [
    "# Predicting Depression in Reddit Posts with NLP\n",
    "\n",
    "### Author: Spencer Hadel\n",
    "***\n",
    "\n",
    "## New Data Experiments\n",
    "Now we'll try using the data from a Meyer's Briggs test and see if there is any correlation or new patterns to be identified."
   ]
  },
  {
   "cell_type": "code",
   "execution_count": null,
   "id": "93ea2b6f-55a0-491d-84d4-b9a370ded9ad",
   "metadata": {},
   "outputs": [],
   "source": []
  }
 ],
 "metadata": {
  "kernelspec": {
   "display_name": "Python 3 (ipykernel)",
   "language": "python",
   "name": "python3"
  },
  "language_info": {
   "codemirror_mode": {
    "name": "ipython",
    "version": 3
   },
   "file_extension": ".py",
   "mimetype": "text/x-python",
   "name": "python",
   "nbconvert_exporter": "python",
   "pygments_lexer": "ipython3",
   "version": "3.10.6"
  },
  "toc-autonumbering": false
 },
 "nbformat": 4,
 "nbformat_minor": 5
}
